{
 "cells": [
  {
   "cell_type": "markdown",
   "metadata": {},
   "source": [
    "# Apple Health Extractor"
   ]
  },
  {
   "cell_type": "markdown",
   "metadata": {},
   "source": [
    "This code will parse your Apple Health export data, create multiple CSV and do some simple data checks and data analysis. \n",
    "\n",
    "Enjoy! "
   ]
  },
  {
   "cell_type": "markdown",
   "metadata": {},
   "source": [
    "--------"
   ]
  },
  {
   "cell_type": "markdown",
   "metadata": {},
   "source": [
    "## Setup and Usage NOTE\n",
    "\n",
    "* Export your data from Apple Health App on your phone. \n",
    "* Unzip export.zip into this directory and rename to data. \n",
    "* Inside your directory there should be a directory and file here: /data/export.xml\n",
    "* Run inside project or in the command line."
   ]
  },
  {
   "cell_type": "code",
   "execution_count": 1,
   "metadata": {},
   "outputs": [
    {
     "name": "stdout",
     "output_type": "stream",
     "text": [
      "Reading data from export.xml . . . done\n",
      "Unexpected node of type ExportDate.\n",
      "\n",
      "Tags:\n",
      "ActivitySummary: 686\n",
      "ExportDate: 1\n",
      "Me: 1\n",
      "Record: 1142965\n",
      "Workout: 106\n",
      "\n",
      "Fields:\n",
      "HKCharacteristicTypeIdentifierBiologicalSex: 1\n",
      "HKCharacteristicTypeIdentifierBloodType: 1\n",
      "HKCharacteristicTypeIdentifierDateOfBirth: 1\n",
      "HKCharacteristicTypeIdentifierFitzpatrickSkinType: 1\n",
      "activeEnergyBurned: 686\n",
      "activeEnergyBurnedGoal: 686\n",
      "activeEnergyBurnedUnit: 686\n",
      "appleExerciseTime: 686\n",
      "appleExerciseTimeGoal: 686\n",
      "appleStandHours: 686\n",
      "appleStandHoursGoal: 686\n",
      "creationDate: 1143071\n",
      "dateComponents: 686\n",
      "device: 1125552\n",
      "duration: 106\n",
      "durationUnit: 106\n",
      "endDate: 1143071\n",
      "sourceName: 1143071\n",
      "sourceVersion: 1138201\n",
      "startDate: 1143071\n",
      "totalDistance: 106\n",
      "totalDistanceUnit: 106\n",
      "totalEnergyBurned: 106\n",
      "totalEnergyBurnedUnit: 106\n",
      "type: 1142965\n",
      "unit: 1133858\n",
      "value: 1142954\n",
      "workoutActivityType: 106\n",
      "\n",
      "Record types:\n",
      "ActiveEnergyBurned: 525528\n",
      "AppleExerciseTime: 11599\n",
      "AppleStandHour: 9073\n",
      "AppleStandTime: 4813\n",
      "BasalEnergyBurned: 100290\n",
      "BodyFatPercentage: 101\n",
      "BodyMass: 181\n",
      "BodyMassIndex: 177\n",
      "DistanceCycling: 3\n",
      "DistanceSwimming: 30\n",
      "DistanceWalkingRunning: 201451\n",
      "FlightsClimbed: 6651\n",
      "HeadphoneAudioExposure: 702\n",
      "HeartRate: 103741\n",
      "HeartRateVariabilitySDNN: 1687\n",
      "Height: 1\n",
      "LeanBodyMass: 101\n",
      "MindfulSession: 12\n",
      "RespiratoryRate: 588\n",
      "RestingHeartRate: 645\n",
      "SleepAnalysis: 22\n",
      "StepCount: 174943\n",
      "SwimmingStrokeCount: 30\n",
      "VO2Max: 57\n",
      "WalkingHeartRateAverage: 539\n",
      "\n",
      "Opening /Users/dt/Desktop/CodesTemp/CVPR/DroneRacingData/apple_health_export/qs_ledger/apple_health/BodyMassIndex.csv for writing\n",
      "Opening /Users/dt/Desktop/CodesTemp/CVPR/DroneRacingData/apple_health_export/qs_ledger/apple_health/Height.csv for writing\n",
      "Opening /Users/dt/Desktop/CodesTemp/CVPR/DroneRacingData/apple_health_export/qs_ledger/apple_health/BodyMass.csv for writing\n",
      "Opening /Users/dt/Desktop/CodesTemp/CVPR/DroneRacingData/apple_health_export/qs_ledger/apple_health/HeartRate.csv for writing\n",
      "Opening /Users/dt/Desktop/CodesTemp/CVPR/DroneRacingData/apple_health_export/qs_ledger/apple_health/RespiratoryRate.csv for writing\n",
      "Opening /Users/dt/Desktop/CodesTemp/CVPR/DroneRacingData/apple_health_export/qs_ledger/apple_health/BodyFatPercentage.csv for writing\n",
      "Opening /Users/dt/Desktop/CodesTemp/CVPR/DroneRacingData/apple_health_export/qs_ledger/apple_health/LeanBodyMass.csv for writing\n",
      "Opening /Users/dt/Desktop/CodesTemp/CVPR/DroneRacingData/apple_health_export/qs_ledger/apple_health/StepCount.csv for writing\n",
      "Opening /Users/dt/Desktop/CodesTemp/CVPR/DroneRacingData/apple_health_export/qs_ledger/apple_health/DistanceWalkingRunning.csv for writing\n",
      "Opening /Users/dt/Desktop/CodesTemp/CVPR/DroneRacingData/apple_health_export/qs_ledger/apple_health/BasalEnergyBurned.csv for writing\n",
      "Opening /Users/dt/Desktop/CodesTemp/CVPR/DroneRacingData/apple_health_export/qs_ledger/apple_health/ActiveEnergyBurned.csv for writing\n",
      "Opening /Users/dt/Desktop/CodesTemp/CVPR/DroneRacingData/apple_health_export/qs_ledger/apple_health/FlightsClimbed.csv for writing\n",
      "Opening /Users/dt/Desktop/CodesTemp/CVPR/DroneRacingData/apple_health_export/qs_ledger/apple_health/AppleExerciseTime.csv for writing\n",
      "Opening /Users/dt/Desktop/CodesTemp/CVPR/DroneRacingData/apple_health_export/qs_ledger/apple_health/DistanceCycling.csv for writing\n",
      "Opening /Users/dt/Desktop/CodesTemp/CVPR/DroneRacingData/apple_health_export/qs_ledger/apple_health/DistanceSwimming.csv for writing\n",
      "Opening /Users/dt/Desktop/CodesTemp/CVPR/DroneRacingData/apple_health_export/qs_ledger/apple_health/SwimmingStrokeCount.csv for writing\n",
      "Opening /Users/dt/Desktop/CodesTemp/CVPR/DroneRacingData/apple_health_export/qs_ledger/apple_health/RestingHeartRate.csv for writing\n",
      "Opening /Users/dt/Desktop/CodesTemp/CVPR/DroneRacingData/apple_health_export/qs_ledger/apple_health/VO2Max.csv for writing\n",
      "Opening /Users/dt/Desktop/CodesTemp/CVPR/DroneRacingData/apple_health_export/qs_ledger/apple_health/WalkingHeartRateAverage.csv for writing\n",
      "Opening /Users/dt/Desktop/CodesTemp/CVPR/DroneRacingData/apple_health_export/qs_ledger/apple_health/HeadphoneAudioExposure.csv for writing\n",
      "Opening /Users/dt/Desktop/CodesTemp/CVPR/DroneRacingData/apple_health_export/qs_ledger/apple_health/AppleStandTime.csv for writing\n",
      "Opening /Users/dt/Desktop/CodesTemp/CVPR/DroneRacingData/apple_health_export/qs_ledger/apple_health/SleepAnalysis.csv for writing\n",
      "Opening /Users/dt/Desktop/CodesTemp/CVPR/DroneRacingData/apple_health_export/qs_ledger/apple_health/AppleStandHour.csv for writing\n",
      "Opening /Users/dt/Desktop/CodesTemp/CVPR/DroneRacingData/apple_health_export/qs_ledger/apple_health/MindfulSession.csv for writing\n",
      "Opening /Users/dt/Desktop/CodesTemp/CVPR/DroneRacingData/apple_health_export/qs_ledger/apple_health/HeartRateVariabilitySDNN.csv for writing\n",
      "Opening /Users/dt/Desktop/CodesTemp/CVPR/DroneRacingData/apple_health_export/qs_ledger/apple_health/Workout.csv for writing\n",
      "Opening /Users/dt/Desktop/CodesTemp/CVPR/DroneRacingData/apple_health_export/qs_ledger/apple_health/ActivitySummary.csv for writing\n",
      "Written BodyMassIndex data.\n",
      "Written Height data.\n",
      "Written BodyMass data.\n",
      "Written HeartRate data.\n",
      "Written RespiratoryRate data.\n",
      "Written BodyFatPercentage data.\n",
      "Written LeanBodyMass data.\n",
      "Written StepCount data.\n",
      "Written DistanceWalkingRunning data.\n",
      "Written BasalEnergyBurned data.\n",
      "Written ActiveEnergyBurned data.\n",
      "Written FlightsClimbed data.\n",
      "Written AppleExerciseTime data.\n",
      "Written DistanceCycling data.\n",
      "Written DistanceSwimming data.\n",
      "Written SwimmingStrokeCount data.\n",
      "Written RestingHeartRate data.\n",
      "Written VO2Max data.\n",
      "Written WalkingHeartRateAverage data.\n",
      "Written HeadphoneAudioExposure data.\n",
      "Written AppleStandTime data.\n",
      "Written SleepAnalysis data.\n",
      "Written AppleStandHour data.\n",
      "Written MindfulSession data.\n",
      "Written HeartRateVariabilitySDNN data.\n",
      "Written Workout data.\n",
      "Written ActivitySummary data.\n"
     ]
    }
   ],
   "source": [
    "# %run -i 'apple-health-data-parser' 'export.xml' \n",
    "%run -i 'apple-health-data-parser' 'export.xml' "
   ]
  },
  {
   "cell_type": "markdown",
   "metadata": {},
   "source": [
    "-----"
   ]
  },
  {
   "cell_type": "markdown",
   "metadata": {},
   "source": [
    "# Apple Health Data Check and Simple Data Analysis"
   ]
  },
  {
   "cell_type": "code",
   "execution_count": 1,
   "metadata": {},
   "outputs": [],
   "source": [
    "import numpy as np\n",
    "import pandas as pd\n",
    "import glob\n",
    "from datetime import date, datetime, timedelta as td\n",
    "import pytz\n",
    "import numpy as np\n",
    "import pandas as pd"
   ]
  },
  {
   "cell_type": "markdown",
   "metadata": {},
   "source": [
    "----"
   ]
  },
  {
   "cell_type": "markdown",
   "metadata": {},
   "source": [
    "# Weight"
   ]
  },
  {
   "cell_type": "code",
   "execution_count": 2,
   "metadata": {},
   "outputs": [],
   "source": [
    "weight = pd.read_csv(\"BodyMass.csv\")"
   ]
  },
  {
   "cell_type": "code",
   "execution_count": 55,
   "metadata": {},
   "outputs": [
    {
     "data": {
      "text/html": [
       "<div>\n",
       "<style scoped>\n",
       "    .dataframe tbody tr th:only-of-type {\n",
       "        vertical-align: middle;\n",
       "    }\n",
       "\n",
       "    .dataframe tbody tr th {\n",
       "        vertical-align: top;\n",
       "    }\n",
       "\n",
       "    .dataframe thead th {\n",
       "        text-align: right;\n",
       "    }\n",
       "</style>\n",
       "<table border=\"1\" class=\"dataframe\">\n",
       "  <thead>\n",
       "    <tr style=\"text-align: right;\">\n",
       "      <th></th>\n",
       "      <th>sourceName</th>\n",
       "      <th>sourceVersion</th>\n",
       "      <th>device</th>\n",
       "      <th>type</th>\n",
       "      <th>unit</th>\n",
       "      <th>creationDate</th>\n",
       "      <th>startDate</th>\n",
       "      <th>endDate</th>\n",
       "      <th>value</th>\n",
       "    </tr>\n",
       "  </thead>\n",
       "  <tbody>\n",
       "    <tr>\n",
       "      <th>176</th>\n",
       "      <td>Mi Fit</td>\n",
       "      <td>201907081918</td>\n",
       "      <td>NaN</td>\n",
       "      <td>BodyMass</td>\n",
       "      <td>kg</td>\n",
       "      <td>2020-07-02 07:52:37 +0530</td>\n",
       "      <td>2020-07-02 07:52:31 +0530</td>\n",
       "      <td>2020-07-02 07:52:31 +0530</td>\n",
       "      <td>88.8</td>\n",
       "    </tr>\n",
       "    <tr>\n",
       "      <th>177</th>\n",
       "      <td>Mi Fit</td>\n",
       "      <td>201907081918</td>\n",
       "      <td>NaN</td>\n",
       "      <td>BodyMass</td>\n",
       "      <td>kg</td>\n",
       "      <td>2020-07-04 09:09:36 +0530</td>\n",
       "      <td>2020-07-04 09:09:25 +0530</td>\n",
       "      <td>2020-07-04 09:09:25 +0530</td>\n",
       "      <td>90.9</td>\n",
       "    </tr>\n",
       "    <tr>\n",
       "      <th>178</th>\n",
       "      <td>Mi Fit</td>\n",
       "      <td>201907081918</td>\n",
       "      <td>NaN</td>\n",
       "      <td>BodyMass</td>\n",
       "      <td>kg</td>\n",
       "      <td>2020-07-05 09:03:03 +0530</td>\n",
       "      <td>2020-07-04 09:10:52 +0530</td>\n",
       "      <td>2020-07-04 09:10:52 +0530</td>\n",
       "      <td>89.4</td>\n",
       "    </tr>\n",
       "    <tr>\n",
       "      <th>179</th>\n",
       "      <td>Mi Fit</td>\n",
       "      <td>201907081918</td>\n",
       "      <td>NaN</td>\n",
       "      <td>BodyMass</td>\n",
       "      <td>kg</td>\n",
       "      <td>2020-07-05 09:03:03 +0530</td>\n",
       "      <td>2020-07-05 09:02:55 +0530</td>\n",
       "      <td>2020-07-05 09:02:55 +0530</td>\n",
       "      <td>88.9</td>\n",
       "    </tr>\n",
       "    <tr>\n",
       "      <th>180</th>\n",
       "      <td>Mi Fit</td>\n",
       "      <td>201907081918</td>\n",
       "      <td>NaN</td>\n",
       "      <td>BodyMass</td>\n",
       "      <td>kg</td>\n",
       "      <td>2020-07-06 08:33:11 +0530</td>\n",
       "      <td>2020-07-06 08:33:05 +0530</td>\n",
       "      <td>2020-07-06 08:33:05 +0530</td>\n",
       "      <td>88.3</td>\n",
       "    </tr>\n",
       "  </tbody>\n",
       "</table>\n",
       "</div>"
      ],
      "text/plain": [
       "    sourceName sourceVersion  device      type unit  \\\n",
       "176     Mi Fit  201907081918     NaN  BodyMass   kg   \n",
       "177     Mi Fit  201907081918     NaN  BodyMass   kg   \n",
       "178     Mi Fit  201907081918     NaN  BodyMass   kg   \n",
       "179     Mi Fit  201907081918     NaN  BodyMass   kg   \n",
       "180     Mi Fit  201907081918     NaN  BodyMass   kg   \n",
       "\n",
       "                  creationDate                  startDate  \\\n",
       "176  2020-07-02 07:52:37 +0530  2020-07-02 07:52:31 +0530   \n",
       "177  2020-07-04 09:09:36 +0530  2020-07-04 09:09:25 +0530   \n",
       "178  2020-07-05 09:03:03 +0530  2020-07-04 09:10:52 +0530   \n",
       "179  2020-07-05 09:03:03 +0530  2020-07-05 09:02:55 +0530   \n",
       "180  2020-07-06 08:33:11 +0530  2020-07-06 08:33:05 +0530   \n",
       "\n",
       "                       endDate  value  \n",
       "176  2020-07-02 07:52:31 +0530   88.8  \n",
       "177  2020-07-04 09:09:25 +0530   90.9  \n",
       "178  2020-07-04 09:10:52 +0530   89.4  \n",
       "179  2020-07-05 09:02:55 +0530   88.9  \n",
       "180  2020-07-06 08:33:05 +0530   88.3  "
      ]
     },
     "execution_count": 55,
     "metadata": {},
     "output_type": "execute_result"
    }
   ],
   "source": [
    "weight.tail()"
   ]
  },
  {
   "cell_type": "code",
   "execution_count": 56,
   "metadata": {},
   "outputs": [
    {
     "data": {
      "text/html": [
       "<div>\n",
       "<style scoped>\n",
       "    .dataframe tbody tr th:only-of-type {\n",
       "        vertical-align: middle;\n",
       "    }\n",
       "\n",
       "    .dataframe tbody tr th {\n",
       "        vertical-align: top;\n",
       "    }\n",
       "\n",
       "    .dataframe thead th {\n",
       "        text-align: right;\n",
       "    }\n",
       "</style>\n",
       "<table border=\"1\" class=\"dataframe\">\n",
       "  <thead>\n",
       "    <tr style=\"text-align: right;\">\n",
       "      <th></th>\n",
       "      <th>device</th>\n",
       "      <th>value</th>\n",
       "    </tr>\n",
       "  </thead>\n",
       "  <tbody>\n",
       "    <tr>\n",
       "      <th>count</th>\n",
       "      <td>0.0</td>\n",
       "      <td>181.000000</td>\n",
       "    </tr>\n",
       "    <tr>\n",
       "      <th>mean</th>\n",
       "      <td>NaN</td>\n",
       "      <td>88.637569</td>\n",
       "    </tr>\n",
       "    <tr>\n",
       "      <th>std</th>\n",
       "      <td>NaN</td>\n",
       "      <td>0.806861</td>\n",
       "    </tr>\n",
       "    <tr>\n",
       "      <th>min</th>\n",
       "      <td>NaN</td>\n",
       "      <td>84.200000</td>\n",
       "    </tr>\n",
       "    <tr>\n",
       "      <th>25%</th>\n",
       "      <td>NaN</td>\n",
       "      <td>88.300000</td>\n",
       "    </tr>\n",
       "    <tr>\n",
       "      <th>50%</th>\n",
       "      <td>NaN</td>\n",
       "      <td>88.600000</td>\n",
       "    </tr>\n",
       "    <tr>\n",
       "      <th>75%</th>\n",
       "      <td>NaN</td>\n",
       "      <td>89.100000</td>\n",
       "    </tr>\n",
       "    <tr>\n",
       "      <th>max</th>\n",
       "      <td>NaN</td>\n",
       "      <td>90.900000</td>\n",
       "    </tr>\n",
       "  </tbody>\n",
       "</table>\n",
       "</div>"
      ],
      "text/plain": [
       "       device       value\n",
       "count     0.0  181.000000\n",
       "mean      NaN   88.637569\n",
       "std       NaN    0.806861\n",
       "min       NaN   84.200000\n",
       "25%       NaN   88.300000\n",
       "50%       NaN   88.600000\n",
       "75%       NaN   89.100000\n",
       "max       NaN   90.900000"
      ]
     },
     "execution_count": 56,
     "metadata": {},
     "output_type": "execute_result"
    }
   ],
   "source": [
    "weight.describe()"
   ]
  },
  {
   "cell_type": "markdown",
   "metadata": {},
   "source": [
    "----"
   ]
  },
  {
   "cell_type": "markdown",
   "metadata": {},
   "source": [
    "## Steps"
   ]
  },
  {
   "cell_type": "code",
   "execution_count": 114,
   "metadata": {},
   "outputs": [],
   "source": [
    "steps = pd.read_csv(\"StepCount.csv\")"
   ]
  },
  {
   "cell_type": "code",
   "execution_count": 115,
   "metadata": {},
   "outputs": [
    {
     "data": {
      "text/plain": [
       "174943"
      ]
     },
     "execution_count": 115,
     "metadata": {},
     "output_type": "execute_result"
    }
   ],
   "source": [
    "len(steps)"
   ]
  },
  {
   "cell_type": "code",
   "execution_count": 116,
   "metadata": {},
   "outputs": [
    {
     "data": {
      "text/plain": [
       "Index(['sourceName', 'sourceVersion', 'device', 'type', 'unit', 'creationDate',\n",
       "       'startDate', 'endDate', 'value'],\n",
       "      dtype='object')"
      ]
     },
     "execution_count": 116,
     "metadata": {},
     "output_type": "execute_result"
    }
   ],
   "source": [
    "steps.columns"
   ]
  },
  {
   "cell_type": "code",
   "execution_count": 117,
   "metadata": {},
   "outputs": [
    {
     "data": {
      "text/html": [
       "<div>\n",
       "<style scoped>\n",
       "    .dataframe tbody tr th:only-of-type {\n",
       "        vertical-align: middle;\n",
       "    }\n",
       "\n",
       "    .dataframe tbody tr th {\n",
       "        vertical-align: top;\n",
       "    }\n",
       "\n",
       "    .dataframe thead th {\n",
       "        text-align: right;\n",
       "    }\n",
       "</style>\n",
       "<table border=\"1\" class=\"dataframe\">\n",
       "  <thead>\n",
       "    <tr style=\"text-align: right;\">\n",
       "      <th></th>\n",
       "      <th>value</th>\n",
       "    </tr>\n",
       "  </thead>\n",
       "  <tbody>\n",
       "    <tr>\n",
       "      <th>count</th>\n",
       "      <td>174943.000000</td>\n",
       "    </tr>\n",
       "    <tr>\n",
       "      <th>mean</th>\n",
       "      <td>82.619207</td>\n",
       "    </tr>\n",
       "    <tr>\n",
       "      <th>std</th>\n",
       "      <td>214.041698</td>\n",
       "    </tr>\n",
       "    <tr>\n",
       "      <th>min</th>\n",
       "      <td>1.000000</td>\n",
       "    </tr>\n",
       "    <tr>\n",
       "      <th>25%</th>\n",
       "      <td>17.000000</td>\n",
       "    </tr>\n",
       "    <tr>\n",
       "      <th>50%</th>\n",
       "      <td>40.000000</td>\n",
       "    </tr>\n",
       "    <tr>\n",
       "      <th>75%</th>\n",
       "      <td>90.000000</td>\n",
       "    </tr>\n",
       "    <tr>\n",
       "      <th>max</th>\n",
       "      <td>43109.000000</td>\n",
       "    </tr>\n",
       "  </tbody>\n",
       "</table>\n",
       "</div>"
      ],
      "text/plain": [
       "               value\n",
       "count  174943.000000\n",
       "mean       82.619207\n",
       "std       214.041698\n",
       "min         1.000000\n",
       "25%        17.000000\n",
       "50%        40.000000\n",
       "75%        90.000000\n",
       "max     43109.000000"
      ]
     },
     "execution_count": 117,
     "metadata": {},
     "output_type": "execute_result"
    }
   ],
   "source": [
    "steps.describe()"
   ]
  },
  {
   "cell_type": "code",
   "execution_count": 118,
   "metadata": {},
   "outputs": [],
   "source": [
    "# TRIAL CODE TO GROUPBY\n",
    "# a = len(steps.index)\n",
    "# for i in range(0,a):\n",
    "#     steps['creationDate'][i] =steps['creationDate'][i].replace('-',':')[0:19].replace(\" \", \":\")\n",
    "#     steps['startDate'][i] =steps['startDate'][i].replace('-',':')[0:19].replace(\" \", \":\")\n",
    "#     steps['endDate'][i] =steps['endDate'][i].replace('-',':')[0:19].replace(\" \", \":\")\n",
    "#     print(i)\n",
    "# print(steps['creationDate'])\n",
    "# steps['creationDate'][0] =steps['creationDate'][0].replace('-',':')[0:19].replace(\" \", \":\") \n",
    "# print(steps['creationDate'][0])\n"
   ]
  },
  {
   "cell_type": "code",
   "execution_count": 119,
   "metadata": {},
   "outputs": [],
   "source": [
    "# functions to convert UTC to Kolkata time zone and extract date/time elements\n",
    "convert_tz = lambda x: x.to_pydatetime().replace(tzinfo=pytz.utc).astimezone(pytz.timezone('Asia/Kolkata'))\n",
    "get_year = lambda x: convert_tz(x).year\n",
    "get_month = lambda x: '{}-{:02}'.format(convert_tz(x).year, convert_tz(x).month) #inefficient\n",
    "get_date = lambda x: '{}-{:02}-{:02}'.format(convert_tz(x).year, convert_tz(x).month, convert_tz(x).day) #inefficient\n",
    "get_day = lambda x: convert_tz(x).day\n",
    "get_hour = lambda x: convert_tz(x).hour\n",
    "get_minute = lambda x: convert_tz(x).minute\n",
    "get_day_of_week = lambda x: convert_tz(x).weekday()"
   ]
  },
  {
   "cell_type": "code",
   "execution_count": 120,
   "metadata": {},
   "outputs": [],
   "source": [
    "# parse out date and time elements as Kolkata time\n",
    "steps['startDate'] = pd.to_datetime(steps['startDate'])\n",
    "steps['year'] = steps['startDate'].map(get_year)\n",
    "steps['month'] = steps['startDate'].map(get_month)\n",
    "steps['date'] = steps['startDate'].map(get_date)\n",
    "steps['day'] = steps['startDate'].map(get_day)\n",
    "steps['hour'] = steps['startDate'].map(get_hour)\n",
    "steps['minute'] = steps['startDate'].map(get_minute)\n",
    "steps['dow'] = steps['startDate'].map(get_day_of_week)"
   ]
  },
  {
   "cell_type": "code",
   "execution_count": 125,
   "metadata": {},
   "outputs": [
    {
     "data": {
      "text/html": [
       "<div>\n",
       "<style scoped>\n",
       "    .dataframe tbody tr th:only-of-type {\n",
       "        vertical-align: middle;\n",
       "    }\n",
       "\n",
       "    .dataframe tbody tr th {\n",
       "        vertical-align: top;\n",
       "    }\n",
       "\n",
       "    .dataframe thead th {\n",
       "        text-align: right;\n",
       "    }\n",
       "</style>\n",
       "<table border=\"1\" class=\"dataframe\">\n",
       "  <thead>\n",
       "    <tr style=\"text-align: right;\">\n",
       "      <th></th>\n",
       "      <th>date</th>\n",
       "      <th>Steps</th>\n",
       "    </tr>\n",
       "  </thead>\n",
       "  <tbody>\n",
       "    <tr>\n",
       "      <th>0</th>\n",
       "      <td>2015-12-21</td>\n",
       "      <td>4355</td>\n",
       "    </tr>\n",
       "    <tr>\n",
       "      <th>1</th>\n",
       "      <td>2015-12-22</td>\n",
       "      <td>4389</td>\n",
       "    </tr>\n",
       "    <tr>\n",
       "      <th>2</th>\n",
       "      <td>2015-12-23</td>\n",
       "      <td>6566</td>\n",
       "    </tr>\n",
       "    <tr>\n",
       "      <th>3</th>\n",
       "      <td>2015-12-24</td>\n",
       "      <td>5180</td>\n",
       "    </tr>\n",
       "    <tr>\n",
       "      <th>4</th>\n",
       "      <td>2015-12-25</td>\n",
       "      <td>4498</td>\n",
       "    </tr>\n",
       "  </tbody>\n",
       "</table>\n",
       "</div>"
      ],
      "text/plain": [
       "         date  Steps\n",
       "0  2015-12-21   4355\n",
       "1  2015-12-22   4389\n",
       "2  2015-12-23   6566\n",
       "3  2015-12-24   5180\n",
       "4  2015-12-25   4498"
      ]
     },
     "execution_count": 125,
     "metadata": {},
     "output_type": "execute_result"
    }
   ],
   "source": [
    "steps_by_date = steps.groupby(['date'])['value'].sum().reset_index(name='Steps')\n",
    "steps_by_date.head()"
   ]
  },
  {
   "cell_type": "code",
   "execution_count": 126,
   "metadata": {},
   "outputs": [
    {
     "name": "stderr",
     "output_type": "stream",
     "text": [
      "/Library/Frameworks/Python.framework/Versions/3.6/lib/python3.6/site-packages/ipykernel_launcher.py:9: SettingWithCopyWarning: \n",
      "A value is trying to be set on a copy of a slice from a DataFrame\n",
      "\n",
      "See the caveats in the documentation: http://pandas.pydata.org/pandas-docs/stable/user_guide/indexing.html#returning-a-view-versus-a-copy\n",
      "  if __name__ == '__main__':\n"
     ]
    }
   ],
   "source": [
    "steps_by_date['date'] = pd.to_datetime(steps_by_date['date'])\n",
    "steps_by_date['dow'] = steps_by_date['date'].dt.weekday\n",
    "steps_by_date['weekNo'] = steps_by_date['dow']\n",
    "ref_for_week = steps_by_date['dow'][0]\n",
    "p = 0\n",
    "for i in range(0,len(steps_by_date)):\n",
    "    if steps_by_date['dow'][i] == ref_for_week:\n",
    "        p = p+1\n",
    "    steps_by_date['weekNo'][i] = p\n",
    "steps_by_date.to_csv(\"steps_per_day_shashank.csv\", index=False)"
   ]
  },
  {
   "cell_type": "code",
   "execution_count": 129,
   "metadata": {},
   "outputs": [
    {
     "data": {
      "text/plain": [
       "1533     9586\n",
       "1534    10094\n",
       "1535    17906\n",
       "1536    13233\n",
       "1537    23340\n",
       "        ...  \n",
       "1612     9640\n",
       "1613    23457\n",
       "1614    14834\n",
       "1615    20820\n",
       "1616    14632\n",
       "Name: Steps, Length: 84, dtype: int64"
      ]
     },
     "execution_count": 129,
     "metadata": {},
     "output_type": "execute_result"
    }
   ],
   "source": [
    "InsightLength = 12\n",
    "week_num = 221\n",
    "# len(steps_by_date)\n",
    "i = 7*(week_num - 2)\n",
    "# steps_by_date = steps_by_date.to_numpy\n",
    "steps_by_date[i:i+7*InsightLength]['Steps']\n",
    "\n",
    "# np.unique(steps_by_date)"
   ]
  },
  {
   "cell_type": "code",
   "execution_count": 37,
   "metadata": {},
   "outputs": [],
   "source": [
    "# grouping data by week and storing in table\n",
    "steps_by_week = steps_by_date.groupby(['weekNo'])['Steps'].sum().reset_index(name='Steps')"
   ]
  },
  {
   "cell_type": "code",
   "execution_count": 14,
   "metadata": {},
   "outputs": [
    {
     "data": {
      "text/html": [
       "<div>\n",
       "<style scoped>\n",
       "    .dataframe tbody tr th:only-of-type {\n",
       "        vertical-align: middle;\n",
       "    }\n",
       "\n",
       "    .dataframe tbody tr th {\n",
       "        vertical-align: top;\n",
       "    }\n",
       "\n",
       "    .dataframe thead th {\n",
       "        text-align: right;\n",
       "    }\n",
       "</style>\n",
       "<table border=\"1\" class=\"dataframe\">\n",
       "  <thead>\n",
       "    <tr style=\"text-align: right;\">\n",
       "      <th></th>\n",
       "      <th>weekNo</th>\n",
       "      <th>Steps</th>\n",
       "      <th>stdDev</th>\n",
       "    </tr>\n",
       "  </thead>\n",
       "  <tbody>\n",
       "    <tr>\n",
       "      <th>0</th>\n",
       "      <td>1</td>\n",
       "      <td>30513</td>\n",
       "      <td>NaN</td>\n",
       "    </tr>\n",
       "    <tr>\n",
       "      <th>1</th>\n",
       "      <td>2</td>\n",
       "      <td>42378</td>\n",
       "      <td>1430.254290</td>\n",
       "    </tr>\n",
       "    <tr>\n",
       "      <th>2</th>\n",
       "      <td>3</td>\n",
       "      <td>42809</td>\n",
       "      <td>2658.213310</td>\n",
       "    </tr>\n",
       "    <tr>\n",
       "      <th>3</th>\n",
       "      <td>4</td>\n",
       "      <td>31654</td>\n",
       "      <td>2795.473595</td>\n",
       "    </tr>\n",
       "    <tr>\n",
       "      <th>4</th>\n",
       "      <td>5</td>\n",
       "      <td>37155</td>\n",
       "      <td>1848.365765</td>\n",
       "    </tr>\n",
       "    <tr>\n",
       "      <th>...</th>\n",
       "      <td>...</td>\n",
       "      <td>...</td>\n",
       "      <td>...</td>\n",
       "    </tr>\n",
       "    <tr>\n",
       "      <th>233</th>\n",
       "      <td>234</td>\n",
       "      <td>99240</td>\n",
       "      <td>4927.263497</td>\n",
       "    </tr>\n",
       "    <tr>\n",
       "      <th>234</th>\n",
       "      <td>235</td>\n",
       "      <td>129670</td>\n",
       "      <td>6948.434342</td>\n",
       "    </tr>\n",
       "    <tr>\n",
       "      <th>235</th>\n",
       "      <td>236</td>\n",
       "      <td>181365</td>\n",
       "      <td>8530.072034</td>\n",
       "    </tr>\n",
       "    <tr>\n",
       "      <th>236</th>\n",
       "      <td>237</td>\n",
       "      <td>148001</td>\n",
       "      <td>6071.716855</td>\n",
       "    </tr>\n",
       "    <tr>\n",
       "      <th>237</th>\n",
       "      <td>238</td>\n",
       "      <td>12603</td>\n",
       "      <td>8036.222682</td>\n",
       "    </tr>\n",
       "  </tbody>\n",
       "</table>\n",
       "<p>238 rows × 3 columns</p>\n",
       "</div>"
      ],
      "text/plain": [
       "     weekNo   Steps       stdDev\n",
       "0         1   30513          NaN\n",
       "1         2   42378  1430.254290\n",
       "2         3   42809  2658.213310\n",
       "3         4   31654  2795.473595\n",
       "4         5   37155  1848.365765\n",
       "..      ...     ...          ...\n",
       "233     234   99240  4927.263497\n",
       "234     235  129670  6948.434342\n",
       "235     236  181365  8530.072034\n",
       "236     237  148001  6071.716855\n",
       "237     238   12603  8036.222682\n",
       "\n",
       "[238 rows x 3 columns]"
      ]
     },
     "execution_count": 14,
     "metadata": {},
     "output_type": "execute_result"
    }
   ],
   "source": [
    "steps_by_week['stdDev'] = steps_by_date.groupby(['weekNo'])['Steps'].std()\n",
    "steps_by_week"
   ]
  },
  {
   "cell_type": "code",
   "execution_count": null,
   "metadata": {},
   "outputs": [],
   "source": []
  },
  {
   "cell_type": "code",
   "execution_count": 142,
   "metadata": {},
   "outputs": [
    {
     "data": {
      "text/plain": [
       "[1,\n",
       " 2,\n",
       " 3,\n",
       " 4,\n",
       " 5,\n",
       " 6,\n",
       " 7,\n",
       " 8,\n",
       " 9,\n",
       " 10,\n",
       " 11,\n",
       " 12,\n",
       " 13,\n",
       " 14,\n",
       " 15,\n",
       " 16,\n",
       " 17,\n",
       " 18,\n",
       " 19,\n",
       " 20,\n",
       " 21,\n",
       " 22,\n",
       " 23,\n",
       " 24,\n",
       " 25,\n",
       " 26,\n",
       " 27,\n",
       " 28,\n",
       " 29,\n",
       " 30,\n",
       " 31,\n",
       " 32,\n",
       " 33,\n",
       " 34,\n",
       " 35,\n",
       " 36,\n",
       " 37,\n",
       " 38,\n",
       " 39,\n",
       " 40,\n",
       " 41,\n",
       " 42,\n",
       " 43,\n",
       " 44,\n",
       " 45,\n",
       " 46,\n",
       " 47,\n",
       " 48,\n",
       " 49,\n",
       " 50,\n",
       " 51,\n",
       " 52,\n",
       " 53,\n",
       " 54,\n",
       " 55,\n",
       " 56,\n",
       " 57,\n",
       " 58,\n",
       " 59,\n",
       " 60,\n",
       " 61,\n",
       " 62,\n",
       " 63,\n",
       " 64,\n",
       " 65,\n",
       " 66,\n",
       " 67,\n",
       " 68,\n",
       " 69,\n",
       " 70,\n",
       " 71,\n",
       " 72,\n",
       " 73,\n",
       " 74,\n",
       " 75,\n",
       " 76,\n",
       " 77,\n",
       " 78,\n",
       " 79,\n",
       " 80,\n",
       " 81,\n",
       " 82,\n",
       " 83,\n",
       " 84,\n",
       " 85,\n",
       " 86,\n",
       " 87,\n",
       " 88,\n",
       " 89,\n",
       " 90,\n",
       " 91,\n",
       " 92,\n",
       " 93,\n",
       " 94,\n",
       " 95,\n",
       " 96,\n",
       " 97,\n",
       " 98,\n",
       " 99,\n",
       " 100,\n",
       " 101,\n",
       " 102,\n",
       " 103,\n",
       " 104,\n",
       " 105,\n",
       " 106,\n",
       " 107,\n",
       " 108,\n",
       " 109,\n",
       " 110,\n",
       " 111,\n",
       " 112,\n",
       " 113,\n",
       " 114,\n",
       " 115,\n",
       " 116,\n",
       " 117,\n",
       " 118,\n",
       " 119,\n",
       " 120,\n",
       " 121,\n",
       " 122,\n",
       " 123,\n",
       " 124,\n",
       " 125,\n",
       " 126,\n",
       " 127,\n",
       " 128,\n",
       " 129,\n",
       " 130,\n",
       " 131,\n",
       " 132,\n",
       " 133,\n",
       " 134,\n",
       " 135,\n",
       " 136,\n",
       " 137,\n",
       " 138,\n",
       " 139,\n",
       " 140,\n",
       " 141,\n",
       " 142,\n",
       " 143,\n",
       " 144,\n",
       " 145,\n",
       " 146,\n",
       " 147,\n",
       " 148,\n",
       " 149,\n",
       " 150,\n",
       " 151,\n",
       " 152,\n",
       " 153,\n",
       " 154,\n",
       " 155,\n",
       " 156,\n",
       " 157,\n",
       " 158,\n",
       " 159,\n",
       " 160,\n",
       " 161,\n",
       " 162,\n",
       " 163,\n",
       " 164,\n",
       " 165,\n",
       " 166,\n",
       " 167,\n",
       " 168,\n",
       " 169,\n",
       " 170,\n",
       " 171,\n",
       " 172,\n",
       " 173,\n",
       " 174,\n",
       " 175,\n",
       " 176,\n",
       " 177,\n",
       " 178,\n",
       " 179,\n",
       " 180,\n",
       " 181,\n",
       " 182,\n",
       " 183,\n",
       " 184,\n",
       " 185,\n",
       " 186,\n",
       " 187,\n",
       " 188,\n",
       " 189,\n",
       " 190,\n",
       " 191,\n",
       " 192,\n",
       " 193,\n",
       " 194,\n",
       " 195,\n",
       " 196,\n",
       " 197,\n",
       " 198,\n",
       " 199,\n",
       " 200,\n",
       " 201,\n",
       " 202,\n",
       " 203,\n",
       " 204,\n",
       " 205,\n",
       " 206,\n",
       " 207,\n",
       " 208,\n",
       " 209,\n",
       " 210,\n",
       " 211,\n",
       " 212,\n",
       " 213,\n",
       " 214,\n",
       " 215,\n",
       " 216,\n",
       " 217,\n",
       " 218,\n",
       " 219,\n",
       " 220,\n",
       " 221,\n",
       " 222,\n",
       " 223,\n",
       " 224,\n",
       " 225,\n",
       " 226,\n",
       " 227,\n",
       " 228,\n",
       " 229,\n",
       " 230,\n",
       " 231,\n",
       " 232,\n",
       " 233,\n",
       " 234,\n",
       " 235,\n",
       " 236,\n",
       " 237,\n",
       " 238]"
      ]
     },
     "execution_count": 142,
     "metadata": {},
     "output_type": "execute_result"
    }
   ],
   "source": [
    "steps_by_week.to_csv(\"steps_per_week_shashank.csv\", index=False)\n",
    "steps_by_week.to_numpy()\n",
    "steps_week_np = steps_by_week.to_numpy()\n",
    "[steps_week_np[i][0] for i in range(0,len(steps_week_np))]"
   ]
  },
  {
   "cell_type": "code",
   "execution_count": 115,
   "metadata": {},
   "outputs": [
    {
     "name": "stdout",
     "output_type": "stream",
     "text": [
      "{'mean': [134636.25, 126032.75, 131760.25, 146805.5, 151290.0, 147402.5, 131213.25], 'stdDev': array([0., 0., 0., 0., 0., 0., 0.])}\n",
      "{'mean': [136758.33333333334, 119060.0, 124820.33333333333, 142600.33333333334, 152984.0, 152736.33333333334, 145676.66666666666, 121810.66666666667], 'stdDev': array([0., 0., 0., 0., 0., 0., 0., 0.])}\n",
      "{'mean': [155517.5, 114455.0, 113755.0, 137610.5, 149765.5, 156000.5, 152814.5, 138804.5, 109612.0], 'stdDev': array([0., 0., 0., 0., 0., 0., 0., 0., 0.])}\n"
     ]
    }
   ],
   "source": [
    "def setofInsightMonthly(steps_week,threeWeek = False,twoWeek = False):\n",
    "#   THIS FUNCTION FINDS and STORES THE INSIGHTS ON THE BASIS OF A 4WEEK/28DAY PERIOD \n",
    "#   ALSO FINDS ON THE BASIS OF 3 and 2 weeks\n",
    "    steps_week_np = steps_week.to_numpy()\n",
    "    steps_12week = np.flip(steps_week_np[len(steps_week_np)-13:len(steps_week_np)-2],axis = 0) #flipping the last to the first for easier access to indices \n",
    "    sliding_insight_four_week = {'mean':np.zeros(len(steps_12week) - 4),'stdDev':np.zeros(len(steps_12week) - 4)} #hardcoded sliding possibilities according to a month\n",
    "    sliding_insight_three_week = {'mean':np.zeros(len(steps_12week) - 3),'stdDev':np.zeros(len(steps_12week) - 3)}\n",
    "    sliding_insight_two_week = {'mean':np.zeros(len(steps_12week) - 2),'stdDev':np.zeros(len(steps_12week) - 2)}\n",
    "#     finding mean of Grouped weekly data\n",
    "    sliding_insight_four_week['mean'] = [np.mean(steps_12week[i:i+4,1]) for i in range(0,len(steps_12week)-4)]\n",
    "    if threeWeek:\n",
    "        sliding_insight_three_week['mean'] = [np.mean(steps_12week[i:i+3,1]) for i in range(0,len(steps_12week)-3)]\n",
    "    if twoWeek:\n",
    "        sliding_insight_two_week['mean'] = [(np.mean(steps_12week[i:i+2,1])) for i in range(0,len(steps_12week)-2)]\n",
    "    return sliding_insight_four_week,sliding_insight_three_week,sliding_insight_two_week\n",
    "\n",
    "A,B,C = setofInsightMonthly(steps_by_day,True,True)\n",
    "print(A)\n",
    "print(B)\n",
    "print(C)"
   ]
  },
  {
   "cell_type": "code",
   "execution_count": 447,
   "metadata": {
    "scrolled": true
   },
   "outputs": [
    {
     "name": "stdout",
     "output_type": "stream",
     "text": [
      "[227 228 229 230 231 232 233 234 235 236 237]\n",
      "[25049.5, 39059.5, 42245.5, 36010.5, 23855.5]\n",
      "[26616.666666666657, 33676.33333333334, 33924.0, 23540.333333333343]\n",
      "[12766.25, 16653.75, 12169.25, 8603.5]\n",
      "Please keep walking, your performance went down from week 230 to 231 by 591437.0 steps\n",
      "Please keep walking your performance went down from week 230 to 232 by 712404.0 steps\n",
      "Please keep walking, your performance went down from week 229 to 232 by 466305.0 steps\n"
     ]
    }
   ],
   "source": [
    "# Present this to sushant\n",
    "\n",
    "import scipy.stats\n",
    "def csv_to_pd():\n",
    "    steps_per_day = pd.read_csv('steps_per_day_shashank.csv')\n",
    "    steps_per_week = pd.read_csv('steps_per_week_shashank.csv')\n",
    "    return steps_per_day,steps_per_week\n",
    "\n",
    "def findingDaysfromWeek(week_num,insightDuration,daily_data):\n",
    "    # week start should be a multiple of 7 or 0\n",
    "    # might have to make it week_num - 1 if the year is normal currently leap year so week_num-2\n",
    "    if week_num < 100:\n",
    "        week_start = 7*(week_num-1)\n",
    "    else:\n",
    "        week_start = 7*(week_num-2)\n",
    "    return daily_data[week_start:week_start+7*insightDuration]['Steps'], daily_data[week_start:week_start+7*10]['Steps']\n",
    "# combining this with \n",
    "def setofInsightMonthly(steps_week,threeWeek = False,twoWeek = False):\n",
    "#   THIS FUNCTION FINDS and STORES THE INSIGHTS ON THE BASIS OF A 4WEEK/28DAY PERIOD \n",
    "#   ALSO FINDS ON THE BASIS OF 3 and 2 weeks\n",
    "    steps_week_np = steps_week.to_numpy()\n",
    "    temp = steps_week_np[len(steps_week_np)-12:len(steps_week_np)-1]\n",
    "#     steps_12week = np.flip(steps_week_np[len(steps_week_np)-12:len(steps_week_np)],axis = 0) #flipping the last to the first for easier access to indices \n",
    "    steps_12week = steps_week_np[len(steps_week_np)-12:len(steps_week_np)-1]\n",
    "    weeknum = np.unique([steps_12week[i][0] for i in range(0,len(steps_12week))]) #finding unique week numbers from which insights need to be extracted\n",
    "    print(weeknum)\n",
    "    sliding_insight_four_week = {'mean':np.zeros(len(steps_12week) - 3),'stdDev':np.zeros(len(steps_12week) - 3),'weeknum':[]} #hardcoded sliding possibilities according to a month\n",
    "    sliding_insight_three_week = {'mean':np.zeros(len(steps_12week) - 2),'stdDev':np.zeros(len(steps_12week) - 2),'weeknum':[]}\n",
    "    sliding_insight_two_week = {'mean':np.zeros(len(steps_12week) - 1),'stdDev':np.zeros(len(steps_12week) - 1),'weeknum':[]}\n",
    "#     finding mean of Grouped weekly \n",
    "    sliding_insight_four_week['mean'] = [np.mean(steps_12week[i:i+4,1]) for i in range(0,len(steps_12week)-3)]\n",
    "    sliding_insight_four_week['weeknum'] = [weeknum[i:i+4][0] for i in range(0,len(steps_12week)-3)]\n",
    "#     print(sliding_insight_four_week['weeknum'])\n",
    "    if threeWeek:\n",
    "        sliding_insight_three_week['mean'] = [np.mean(steps_12week[i:i+3,1]) for i in range(0,len(steps_12week)-2)]\n",
    "        sliding_insight_three_week['weeknum'] = [weeknum[i:i+3][0] for i in range(0,len(steps_12week)-2)]\n",
    "    if twoWeek:\n",
    "        sliding_insight_two_week['mean'] = [(np.mean(steps_12week[i:i+2,1])) for i in range(0,len(steps_12week)-1)]\n",
    "        sliding_insight_two_week['weeknum'] = [weeknum[i:i+2][0] for i in range(0,len(steps_12week)-1)]\n",
    "    return sliding_insight_four_week,sliding_insight_three_week,sliding_insight_two_week\n",
    "\n",
    "# CAN USE THIS OR STUDENT'S T TEST\n",
    "def tTest(data1,data2,alpha):\n",
    "    # calculate means\n",
    "    data1 = data1.to_numpy()\n",
    "    data2 = data2.to_numpy()\n",
    "    mean1, mean2 = np.mean(data1), np.mean(data2)\n",
    "    # number of paired samples\n",
    "    n1 = len(data1)\n",
    "    n2 = len(data2)\n",
    "    # sum squared difference between observations\n",
    "    s1 = np.std(data1)**2\n",
    "    # sum difference between observations\n",
    "    s2 = np.std(data2)**2\n",
    "    # standard deviation of the difference between means\n",
    "    den = np.sqrt(s1/len(data1) + s2/len(data2))\n",
    "    # standard error of the difference between the means\n",
    "    num = (mean1 - mean2)\n",
    "    # calculate the t statistic\n",
    "    t_stat = abs(num/den)\n",
    "    # degrees of freedom\n",
    "    df = ((s1**2/n1) + (s2**2/n2))**2/((s1**2/n1)**2/(n1-1) + (s2**2/n2)**2/(n2-1))\n",
    "    # calculate the critical value\n",
    "    cv = scipy.stats.t.ppf(1.0 - alpha, df)\n",
    "    # calculate the p-value\n",
    "    p = (1.0 - scipy.stats.t.cdf(abs(t_stat), df)) * 2.0\n",
    "    return t_stat, df, cv, p\n",
    "    # return everything\n",
    "#     return data2\n",
    "\n",
    "def gettingInsights():\n",
    "    steps_per_day,steps_per_week = csv_to_pd()\n",
    "#     print(steps_per_day)\n",
    "    dict4week,dict3week,dict2week = setofInsightMonthly(steps_per_week,threeWeek = True,twoWeek = True)\n",
    "#     print(dict4week['weeknum'])\n",
    "    weekconsidered = 233\n",
    "    insight2week,meandiff2week = weekInsight(weekconsidered,steps_per_day,dict2week,2)\n",
    "    insight3week,meandiff3week = weekInsight(weekconsidered,steps_per_day,dict3week,3)\n",
    "    insight4week,meandiff4week = weekInsight(weekconsidered,steps_per_day,dict4week,4)\n",
    "#     { CODE SNIPPET TO SAVE MONTHLY DATA INTO A CSV FILE\n",
    "#     array1 = np.transpose(np.array([dict2week['weeknum'],dict2week['mean']]))\n",
    "#     array2 = np.transpose(np.array([dict3week['weeknum'],dict3week['mean']]))\n",
    "#     array3 = np.transpose(np.array([dict4week['weeknum'],dict4week['mean']]))\n",
    "#     print(array1)\n",
    "    \n",
    "#     np.savetxt(\"meandiff_grouped_2week.csv\", array1, delimiter=\",\")\n",
    "#     np.savetxt(\"meandiff_grouped_3week.csv\", array2, delimiter=\",\")\n",
    "#     np.savetxt(\"meandiff_grouped_4week.csv\", array3, delimiter=\",\")\n",
    "#     }\n",
    "    weekNo2week,maxdiff2week = printGroupedInsightsHelper(insight2week,meandiff2week)\n",
    "    weekNo3week,maxdiff3week = printGroupedInsightsHelper(insight3week,meandiff3week)\n",
    "    weekNo4week,maxdiff4week = printGroupedInsightsHelper(insight4week,meandiff4week)\n",
    "    if printGroupInsight(weekNo2week,meandiff2week,insight2week):\n",
    "        print('Great job! your steps have increased from week '+str(weekNo2week)+' to '+str(weekNo2week+1)+' by '+str(round(maxdiff2week*14))+' steps')\n",
    "    else:\n",
    "        print('Please keep walking, your performance went down from week '+str(weekNo2week)+' to '+str(weekNo2week+1)+' by '+str(round(maxdiff2week*14))+' steps')\n",
    "    if printGroupInsight(weekNo3week,meandiff3week,insight3week):\n",
    "        print('Great job! your steps have increased from week '+str(weekNo3week)+' to '+str(weekNo3week+2)+' by '+str(round(maxdiff3week*21))+' steps')\n",
    "    else:\n",
    "        print('Please keep walking your performance went down from week '+str(weekNo3week)+' to '+str(weekNo3week+2)+' by '+str(round(maxdiff3week*21))+' steps')\n",
    "\n",
    "    if printGroupInsight(weekNo4week,meandiff4week,insight4week):\n",
    "        print('Great job! your steps have increased from week '+str(weekNo4week)+' to '+str(weekNo4week+3)+' by '+str(round(maxdiff4week*28))+' steps')\n",
    "    else:\n",
    "        print('Please keep walking, your performance went down from week '+str(weekNo4week)+' to '+str(weekNo4week+3)+' by '+str(round(maxdiff4week*28))+' steps')\n",
    "\n",
    "def weekInsight(weekconsidered,steps_per_day,WeekgroupedData,groupSize):\n",
    "    dailydatanumpy1,dailydata12week = findingDaysfromWeek(weekconsidered,groupSize,steps_per_day)\n",
    "    a = np.array(WeekgroupedData['weeknum'])\n",
    "    weekIndexGrouped = list(np.where(a == weekconsidered))\n",
    "#     print(weekIndexGrouped[0])\n",
    "#     print(WeekgroupedData['weeknum'])\n",
    "    if len(weekIndexGrouped[0]) == 0:\n",
    "        insight = []\n",
    "        meandiff = []\n",
    "        return insight,meandiff\n",
    "    weekIndex = int(weekIndexGrouped[0])\n",
    "    insight = []\n",
    "    meandiff = []\n",
    "    for i in range(0,len(WeekgroupedData['weeknum'])):\n",
    "        dailydatanumpy2,_ = findingDaysfromWeek(WeekgroupedData['weeknum'][i],groupSize,steps_per_day)\n",
    "        t_stat,_,_,p =  tTest(dailydatanumpy1,dailydatanumpy2,0.05)\n",
    "        if t_stat > p and weekIndex > i:\n",
    "            insight.append(WeekgroupedData['weeknum'][i])\n",
    "            meandiff.append(WeekgroupedData['mean'][weekIndex] - WeekgroupedData['mean'][i])\n",
    "    # two 4 week insight comparison\n",
    "    return insight,meandiff\n",
    "def printGroupedInsightsHelper(insight,meandiff):\n",
    "    meandiffabs = [abs(number) for number in meandiff]\n",
    "    print(meandiffabs)\n",
    "    maxdiff = np.amax(meandiffabs)\n",
    "    index = np.where(meandiffabs == maxdiff)\n",
    "    return insight[int(index[0])],meandiffabs[int(index[0])]\n",
    "def printGroupInsight(insightweek,meandiff,weeknum):\n",
    "    indexInsight = np.where(weeknum == insightweek)\n",
    "    if meandiff[int(indexInsight[0])] > 0:\n",
    "        return True\n",
    "    else:\n",
    "        return False\n",
    "gettingInsights()"
   ]
  },
  {
   "cell_type": "code",
   "execution_count": 343,
   "metadata": {},
   "outputs": [
    {
     "ename": "SyntaxError",
     "evalue": "invalid syntax (<ipython-input-343-b552b52ba88d>, line 1)",
     "output_type": "error",
     "traceback": [
      "\u001b[0;36m  File \u001b[0;32m\"<ipython-input-343-b552b52ba88d>\"\u001b[0;36m, line \u001b[0;32m1\u001b[0m\n\u001b[0;31m    [227 228 229 230 231 232 233 234 235 236 237]\u001b[0m\n\u001b[0m           ^\u001b[0m\n\u001b[0;31mSyntaxError\u001b[0m\u001b[0;31m:\u001b[0m invalid syntax\n"
     ]
    }
   ],
   "source": [
    "#dont look at this\n",
    "[227 228 229 230 231 232 233 234 235 236 237]\n",
    "[236, 235, 234, 233, 232, 231, 230, 229, 228]\n",
    "[235, 234, 233, 232, 231, 230, 229, 228]\n",
    "[235, 234, 233, 232, 231, 230, 229, 228]"
   ]
  },
  {
   "cell_type": "markdown",
   "metadata": {},
   "source": [
    "## Stand Count"
   ]
  },
  {
   "cell_type": "code",
   "execution_count": 187,
   "metadata": {},
   "outputs": [],
   "source": [
    "stand = pd.read_csv(\"AppleStandHour.csv\")"
   ]
  },
  {
   "cell_type": "code",
   "execution_count": 188,
   "metadata": {},
   "outputs": [
    {
     "data": {
      "text/plain": [
       "9073"
      ]
     },
     "execution_count": 188,
     "metadata": {},
     "output_type": "execute_result"
    }
   ],
   "source": [
    "len(stand)"
   ]
  },
  {
   "cell_type": "code",
   "execution_count": 181,
   "metadata": {},
   "outputs": [
    {
     "data": {
      "text/plain": [
       "Index(['sourceName', 'sourceVersion', 'device', 'type', 'unit', 'creationDate',\n",
       "       'startDate', 'endDate', 'value'],\n",
       "      dtype='object')"
      ]
     },
     "execution_count": 181,
     "metadata": {},
     "output_type": "execute_result"
    }
   ],
   "source": [
    "stand.columns"
   ]
  },
  {
   "cell_type": "code",
   "execution_count": 182,
   "metadata": {},
   "outputs": [
    {
     "data": {
      "text/html": [
       "<div>\n",
       "<style scoped>\n",
       "    .dataframe tbody tr th:only-of-type {\n",
       "        vertical-align: middle;\n",
       "    }\n",
       "\n",
       "    .dataframe tbody tr th {\n",
       "        vertical-align: top;\n",
       "    }\n",
       "\n",
       "    .dataframe thead th {\n",
       "        text-align: right;\n",
       "    }\n",
       "</style>\n",
       "<table border=\"1\" class=\"dataframe\">\n",
       "  <thead>\n",
       "    <tr style=\"text-align: right;\">\n",
       "      <th></th>\n",
       "      <th>sourceName</th>\n",
       "      <th>sourceVersion</th>\n",
       "      <th>device</th>\n",
       "      <th>type</th>\n",
       "      <th>unit</th>\n",
       "      <th>creationDate</th>\n",
       "      <th>startDate</th>\n",
       "      <th>endDate</th>\n",
       "      <th>value</th>\n",
       "    </tr>\n",
       "  </thead>\n",
       "  <tbody>\n",
       "    <tr>\n",
       "      <th>9068</th>\n",
       "      <td>Shashank’s Apple Watch</td>\n",
       "      <td>6.1.3</td>\n",
       "      <td>&lt;&lt;HKDevice: 0x2826a4be0&gt;, name:Apple Watch, ma...</td>\n",
       "      <td>AppleStandHour</td>\n",
       "      <td>NaN</td>\n",
       "      <td>2020-07-05 19:01:23 +0530</td>\n",
       "      <td>2020-07-05 19:00:00 +0530</td>\n",
       "      <td>2020-07-05 20:00:00 +0530</td>\n",
       "      <td>HKCategoryValueAppleStandHourStood</td>\n",
       "    </tr>\n",
       "    <tr>\n",
       "      <th>9069</th>\n",
       "      <td>Shashank’s Apple Watch</td>\n",
       "      <td>6.1.3</td>\n",
       "      <td>&lt;&lt;HKDevice: 0x2826a4cd0&gt;, name:Apple Watch, ma...</td>\n",
       "      <td>AppleStandHour</td>\n",
       "      <td>NaN</td>\n",
       "      <td>2020-07-05 20:11:10 +0530</td>\n",
       "      <td>2020-07-05 20:00:00 +0530</td>\n",
       "      <td>2020-07-05 21:00:00 +0530</td>\n",
       "      <td>HKCategoryValueAppleStandHourStood</td>\n",
       "    </tr>\n",
       "    <tr>\n",
       "      <th>9070</th>\n",
       "      <td>Shashank’s Apple Watch</td>\n",
       "      <td>6.1.3</td>\n",
       "      <td>&lt;&lt;HKDevice: 0x2826a4dc0&gt;, name:Apple Watch, ma...</td>\n",
       "      <td>AppleStandHour</td>\n",
       "      <td>NaN</td>\n",
       "      <td>2020-07-05 21:04:22 +0530</td>\n",
       "      <td>2020-07-05 21:00:00 +0530</td>\n",
       "      <td>2020-07-05 22:00:00 +0530</td>\n",
       "      <td>HKCategoryValueAppleStandHourStood</td>\n",
       "    </tr>\n",
       "    <tr>\n",
       "      <th>9071</th>\n",
       "      <td>Shashank’s Apple Watch</td>\n",
       "      <td>6.1.3</td>\n",
       "      <td>&lt;&lt;HKDevice: 0x2826a4eb0&gt;, name:Apple Watch, ma...</td>\n",
       "      <td>AppleStandHour</td>\n",
       "      <td>NaN</td>\n",
       "      <td>2020-07-05 22:01:13 +0530</td>\n",
       "      <td>2020-07-05 22:00:00 +0530</td>\n",
       "      <td>2020-07-05 23:00:00 +0530</td>\n",
       "      <td>HKCategoryValueAppleStandHourStood</td>\n",
       "    </tr>\n",
       "    <tr>\n",
       "      <th>9072</th>\n",
       "      <td>Shashank’s Apple Watch</td>\n",
       "      <td>6.1.3</td>\n",
       "      <td>&lt;&lt;HKDevice: 0x2826a4fa0&gt;, name:Apple Watch, ma...</td>\n",
       "      <td>AppleStandHour</td>\n",
       "      <td>NaN</td>\n",
       "      <td>2020-07-05 23:35:54 +0530</td>\n",
       "      <td>2020-07-05 23:00:00 +0530</td>\n",
       "      <td>2020-07-06 00:00:00 +0530</td>\n",
       "      <td>HKCategoryValueAppleStandHourStood</td>\n",
       "    </tr>\n",
       "  </tbody>\n",
       "</table>\n",
       "</div>"
      ],
      "text/plain": [
       "                  sourceName sourceVersion  \\\n",
       "9068  Shashank’s Apple Watch         6.1.3   \n",
       "9069  Shashank’s Apple Watch         6.1.3   \n",
       "9070  Shashank’s Apple Watch         6.1.3   \n",
       "9071  Shashank’s Apple Watch         6.1.3   \n",
       "9072  Shashank’s Apple Watch         6.1.3   \n",
       "\n",
       "                                                 device            type  unit  \\\n",
       "9068  <<HKDevice: 0x2826a4be0>, name:Apple Watch, ma...  AppleStandHour   NaN   \n",
       "9069  <<HKDevice: 0x2826a4cd0>, name:Apple Watch, ma...  AppleStandHour   NaN   \n",
       "9070  <<HKDevice: 0x2826a4dc0>, name:Apple Watch, ma...  AppleStandHour   NaN   \n",
       "9071  <<HKDevice: 0x2826a4eb0>, name:Apple Watch, ma...  AppleStandHour   NaN   \n",
       "9072  <<HKDevice: 0x2826a4fa0>, name:Apple Watch, ma...  AppleStandHour   NaN   \n",
       "\n",
       "                   creationDate                  startDate  \\\n",
       "9068  2020-07-05 19:01:23 +0530  2020-07-05 19:00:00 +0530   \n",
       "9069  2020-07-05 20:11:10 +0530  2020-07-05 20:00:00 +0530   \n",
       "9070  2020-07-05 21:04:22 +0530  2020-07-05 21:00:00 +0530   \n",
       "9071  2020-07-05 22:01:13 +0530  2020-07-05 22:00:00 +0530   \n",
       "9072  2020-07-05 23:35:54 +0530  2020-07-05 23:00:00 +0530   \n",
       "\n",
       "                        endDate                               value  \n",
       "9068  2020-07-05 20:00:00 +0530  HKCategoryValueAppleStandHourStood  \n",
       "9069  2020-07-05 21:00:00 +0530  HKCategoryValueAppleStandHourStood  \n",
       "9070  2020-07-05 22:00:00 +0530  HKCategoryValueAppleStandHourStood  \n",
       "9071  2020-07-05 23:00:00 +0530  HKCategoryValueAppleStandHourStood  \n",
       "9072  2020-07-06 00:00:00 +0530  HKCategoryValueAppleStandHourStood  "
      ]
     },
     "execution_count": 182,
     "metadata": {},
     "output_type": "execute_result"
    }
   ],
   "source": [
    "stand.tail()"
   ]
  },
  {
   "cell_type": "code",
   "execution_count": 183,
   "metadata": {},
   "outputs": [
    {
     "ename": "ValueError",
     "evalue": "time data '2017-11-18 02:30:00' does not match format '%Y%m%d%H%M%S'",
     "output_type": "error",
     "traceback": [
      "\u001b[0;31m---------------------------------------------------------------------------\u001b[0m",
      "\u001b[0;31mValueError\u001b[0m                                Traceback (most recent call last)",
      "\u001b[0;32m<ipython-input-183-cfcb47e218d6>\u001b[0m in \u001b[0;36m<module>\u001b[0;34m\u001b[0m\n\u001b[1;32m      5\u001b[0m \u001b[0;34m\u001b[0m\u001b[0m\n\u001b[1;32m      6\u001b[0m \u001b[0;32mfor\u001b[0m \u001b[0mi\u001b[0m \u001b[0;32min\u001b[0m \u001b[0mrange\u001b[0m\u001b[0;34m(\u001b[0m\u001b[0;36m0\u001b[0m\u001b[0;34m,\u001b[0m\u001b[0mlen\u001b[0m\u001b[0;34m(\u001b[0m\u001b[0mstand\u001b[0m\u001b[0;34m[\u001b[0m\u001b[0;34m'endDate'\u001b[0m\u001b[0;34m]\u001b[0m\u001b[0;34m)\u001b[0m\u001b[0;34m)\u001b[0m\u001b[0;34m:\u001b[0m\u001b[0;34m\u001b[0m\u001b[0m\n\u001b[0;32m----> 7\u001b[0;31m     \u001b[0mt1\u001b[0m \u001b[0;34m=\u001b[0m \u001b[0mdatetime\u001b[0m\u001b[0;34m.\u001b[0m\u001b[0mstrptime\u001b[0m\u001b[0;34m(\u001b[0m\u001b[0mstand\u001b[0m\u001b[0;34m[\u001b[0m\u001b[0;34m'endDate'\u001b[0m\u001b[0;34m]\u001b[0m\u001b[0;34m[\u001b[0m\u001b[0mi\u001b[0m\u001b[0;34m]\u001b[0m\u001b[0;34m[\u001b[0m\u001b[0;36m0\u001b[0m\u001b[0;34m:\u001b[0m\u001b[0;36m19\u001b[0m\u001b[0;34m]\u001b[0m\u001b[0;34m,\u001b[0m \u001b[0;34m'%Y%m%d%H%M%S'\u001b[0m\u001b[0;34m)\u001b[0m\u001b[0;34m\u001b[0m\u001b[0m\n\u001b[0m\u001b[1;32m      8\u001b[0m \u001b[0;31m#     t1 = datetime.time(*map(int, stand['endDate'][i][12:19].split(':')))\u001b[0m\u001b[0;34m\u001b[0m\u001b[0;34m\u001b[0m\u001b[0m\n\u001b[1;32m      9\u001b[0m \u001b[0;31m#     t2 = datetime.time(*map(int, stand['startDate'][i][12:19].split(':')))\u001b[0m\u001b[0;34m\u001b[0m\u001b[0;34m\u001b[0m\u001b[0m\n",
      "\u001b[0;32m/Library/Frameworks/Python.framework/Versions/3.6/lib/python3.6/_strptime.py\u001b[0m in \u001b[0;36m_strptime_datetime\u001b[0;34m(cls, data_string, format)\u001b[0m\n\u001b[1;32m    563\u001b[0m     \"\"\"Return a class cls instance based on the input string and the\n\u001b[1;32m    564\u001b[0m     format string.\"\"\"\n\u001b[0;32m--> 565\u001b[0;31m     \u001b[0mtt\u001b[0m\u001b[0;34m,\u001b[0m \u001b[0mfraction\u001b[0m \u001b[0;34m=\u001b[0m \u001b[0m_strptime\u001b[0m\u001b[0;34m(\u001b[0m\u001b[0mdata_string\u001b[0m\u001b[0;34m,\u001b[0m \u001b[0mformat\u001b[0m\u001b[0;34m)\u001b[0m\u001b[0;34m\u001b[0m\u001b[0m\n\u001b[0m\u001b[1;32m    566\u001b[0m     \u001b[0mtzname\u001b[0m\u001b[0;34m,\u001b[0m \u001b[0mgmtoff\u001b[0m \u001b[0;34m=\u001b[0m \u001b[0mtt\u001b[0m\u001b[0;34m[\u001b[0m\u001b[0;34m-\u001b[0m\u001b[0;36m2\u001b[0m\u001b[0;34m:\u001b[0m\u001b[0;34m]\u001b[0m\u001b[0;34m\u001b[0m\u001b[0m\n\u001b[1;32m    567\u001b[0m     \u001b[0margs\u001b[0m \u001b[0;34m=\u001b[0m \u001b[0mtt\u001b[0m\u001b[0;34m[\u001b[0m\u001b[0;34m:\u001b[0m\u001b[0;36m6\u001b[0m\u001b[0;34m]\u001b[0m \u001b[0;34m+\u001b[0m \u001b[0;34m(\u001b[0m\u001b[0mfraction\u001b[0m\u001b[0;34m,\u001b[0m\u001b[0;34m)\u001b[0m\u001b[0;34m\u001b[0m\u001b[0m\n",
      "\u001b[0;32m/Library/Frameworks/Python.framework/Versions/3.6/lib/python3.6/_strptime.py\u001b[0m in \u001b[0;36m_strptime\u001b[0;34m(data_string, format)\u001b[0m\n\u001b[1;32m    360\u001b[0m     \u001b[0;32mif\u001b[0m \u001b[0;32mnot\u001b[0m \u001b[0mfound\u001b[0m\u001b[0;34m:\u001b[0m\u001b[0;34m\u001b[0m\u001b[0m\n\u001b[1;32m    361\u001b[0m         raise ValueError(\"time data %r does not match format %r\" %\n\u001b[0;32m--> 362\u001b[0;31m                          (data_string, format))\n\u001b[0m\u001b[1;32m    363\u001b[0m     \u001b[0;32mif\u001b[0m \u001b[0mlen\u001b[0m\u001b[0;34m(\u001b[0m\u001b[0mdata_string\u001b[0m\u001b[0;34m)\u001b[0m \u001b[0;34m!=\u001b[0m \u001b[0mfound\u001b[0m\u001b[0;34m.\u001b[0m\u001b[0mend\u001b[0m\u001b[0;34m(\u001b[0m\u001b[0;34m)\u001b[0m\u001b[0;34m:\u001b[0m\u001b[0;34m\u001b[0m\u001b[0m\n\u001b[1;32m    364\u001b[0m         raise ValueError(\"unconverted data remains: %s\" %\n",
      "\u001b[0;31mValueError\u001b[0m: time data '2017-11-18 02:30:00' does not match format '%Y%m%d%H%M%S'"
     ]
    }
   ],
   "source": [
    "# stand['value'] = stand['endDate'] - stand['startDate']\n",
    "a = ['i' for i in range(0,len(stand['endDate']))]\n",
    "# for i in range(0,len(stand['endDate'])):\n",
    "    \n",
    "    \n",
    "for i in range(0,len(stand['endDate'])):\n",
    "    t1 = datetime.strptime(stand['endDate'][i][0:19], '%Y%m%d%H%M%S')\n",
    "#     t1 = datetime.time(*map(int, stand['endDate'][i][12:19].split(':')))\n",
    "#     t2 = datetime.time(*map(int, stand['startDate'][i][12:19].split(':')))\n",
    "    t2 = datetime.strptime(stand['startDate'][i][0:19], '%Y%m%d%H%M%S')\n",
    "    a[i] =  t1-t2\n",
    "stand['value'] = a\n",
    "print(stand['value'].tail())"
   ]
  },
  {
   "cell_type": "markdown",
   "metadata": {},
   "source": [
    "------"
   ]
  },
  {
   "cell_type": "markdown",
   "metadata": {},
   "source": [
    "## Resting Heart Rate (HR)"
   ]
  },
  {
   "cell_type": "code",
   "execution_count": 18,
   "metadata": {},
   "outputs": [],
   "source": [
    "restingHR = pd.read_csv(\"RestingHeartRate.csv\")"
   ]
  },
  {
   "cell_type": "code",
   "execution_count": 19,
   "metadata": {},
   "outputs": [
    {
     "data": {
      "text/plain": [
       "645"
      ]
     },
     "execution_count": 19,
     "metadata": {},
     "output_type": "execute_result"
    }
   ],
   "source": [
    "len(restingHR)"
   ]
  },
  {
   "cell_type": "code",
   "execution_count": 20,
   "metadata": {},
   "outputs": [
    {
     "data": {
      "text/html": [
       "<div>\n",
       "<style scoped>\n",
       "    .dataframe tbody tr th:only-of-type {\n",
       "        vertical-align: middle;\n",
       "    }\n",
       "\n",
       "    .dataframe tbody tr th {\n",
       "        vertical-align: top;\n",
       "    }\n",
       "\n",
       "    .dataframe thead th {\n",
       "        text-align: right;\n",
       "    }\n",
       "</style>\n",
       "<table border=\"1\" class=\"dataframe\">\n",
       "  <thead>\n",
       "    <tr style=\"text-align: right;\">\n",
       "      <th></th>\n",
       "      <th>device</th>\n",
       "      <th>value</th>\n",
       "    </tr>\n",
       "  </thead>\n",
       "  <tbody>\n",
       "    <tr>\n",
       "      <th>count</th>\n",
       "      <td>0.0</td>\n",
       "      <td>645.000000</td>\n",
       "    </tr>\n",
       "    <tr>\n",
       "      <th>mean</th>\n",
       "      <td>NaN</td>\n",
       "      <td>69.809302</td>\n",
       "    </tr>\n",
       "    <tr>\n",
       "      <th>std</th>\n",
       "      <td>NaN</td>\n",
       "      <td>5.422455</td>\n",
       "    </tr>\n",
       "    <tr>\n",
       "      <th>min</th>\n",
       "      <td>NaN</td>\n",
       "      <td>50.000000</td>\n",
       "    </tr>\n",
       "    <tr>\n",
       "      <th>25%</th>\n",
       "      <td>NaN</td>\n",
       "      <td>67.000000</td>\n",
       "    </tr>\n",
       "    <tr>\n",
       "      <th>50%</th>\n",
       "      <td>NaN</td>\n",
       "      <td>69.000000</td>\n",
       "    </tr>\n",
       "    <tr>\n",
       "      <th>75%</th>\n",
       "      <td>NaN</td>\n",
       "      <td>72.000000</td>\n",
       "    </tr>\n",
       "    <tr>\n",
       "      <th>max</th>\n",
       "      <td>NaN</td>\n",
       "      <td>98.000000</td>\n",
       "    </tr>\n",
       "  </tbody>\n",
       "</table>\n",
       "</div>"
      ],
      "text/plain": [
       "       device       value\n",
       "count     0.0  645.000000\n",
       "mean      NaN   69.809302\n",
       "std       NaN    5.422455\n",
       "min       NaN   50.000000\n",
       "25%       NaN   67.000000\n",
       "50%       NaN   69.000000\n",
       "75%       NaN   72.000000\n",
       "max       NaN   98.000000"
      ]
     },
     "execution_count": 20,
     "metadata": {},
     "output_type": "execute_result"
    }
   ],
   "source": [
    "restingHR.describe()"
   ]
  },
  {
   "cell_type": "markdown",
   "metadata": {},
   "source": [
    "---"
   ]
  },
  {
   "cell_type": "markdown",
   "metadata": {},
   "source": [
    "## Walking Heart Rate (HR) Average"
   ]
  },
  {
   "cell_type": "code",
   "execution_count": 21,
   "metadata": {},
   "outputs": [],
   "source": [
    "walkingHR = pd.read_csv(\"WalkingHeartRateAverage.csv\")"
   ]
  },
  {
   "cell_type": "code",
   "execution_count": 22,
   "metadata": {},
   "outputs": [
    {
     "data": {
      "text/plain": [
       "539"
      ]
     },
     "execution_count": 22,
     "metadata": {},
     "output_type": "execute_result"
    }
   ],
   "source": [
    "len(walkingHR)"
   ]
  },
  {
   "cell_type": "code",
   "execution_count": 23,
   "metadata": {},
   "outputs": [
    {
     "data": {
      "text/html": [
       "<div>\n",
       "<style scoped>\n",
       "    .dataframe tbody tr th:only-of-type {\n",
       "        vertical-align: middle;\n",
       "    }\n",
       "\n",
       "    .dataframe tbody tr th {\n",
       "        vertical-align: top;\n",
       "    }\n",
       "\n",
       "    .dataframe thead th {\n",
       "        text-align: right;\n",
       "    }\n",
       "</style>\n",
       "<table border=\"1\" class=\"dataframe\">\n",
       "  <thead>\n",
       "    <tr style=\"text-align: right;\">\n",
       "      <th></th>\n",
       "      <th>device</th>\n",
       "      <th>value</th>\n",
       "    </tr>\n",
       "  </thead>\n",
       "  <tbody>\n",
       "    <tr>\n",
       "      <th>count</th>\n",
       "      <td>0.0</td>\n",
       "      <td>539.000000</td>\n",
       "    </tr>\n",
       "    <tr>\n",
       "      <th>mean</th>\n",
       "      <td>NaN</td>\n",
       "      <td>99.084416</td>\n",
       "    </tr>\n",
       "    <tr>\n",
       "      <th>std</th>\n",
       "      <td>NaN</td>\n",
       "      <td>11.996546</td>\n",
       "    </tr>\n",
       "    <tr>\n",
       "      <th>min</th>\n",
       "      <td>NaN</td>\n",
       "      <td>72.500000</td>\n",
       "    </tr>\n",
       "    <tr>\n",
       "      <th>25%</th>\n",
       "      <td>NaN</td>\n",
       "      <td>91.000000</td>\n",
       "    </tr>\n",
       "    <tr>\n",
       "      <th>50%</th>\n",
       "      <td>NaN</td>\n",
       "      <td>97.000000</td>\n",
       "    </tr>\n",
       "    <tr>\n",
       "      <th>75%</th>\n",
       "      <td>NaN</td>\n",
       "      <td>104.000000</td>\n",
       "    </tr>\n",
       "    <tr>\n",
       "      <th>max</th>\n",
       "      <td>NaN</td>\n",
       "      <td>143.000000</td>\n",
       "    </tr>\n",
       "  </tbody>\n",
       "</table>\n",
       "</div>"
      ],
      "text/plain": [
       "       device       value\n",
       "count     0.0  539.000000\n",
       "mean      NaN   99.084416\n",
       "std       NaN   11.996546\n",
       "min       NaN   72.500000\n",
       "25%       NaN   91.000000\n",
       "50%       NaN   97.000000\n",
       "75%       NaN  104.000000\n",
       "max       NaN  143.000000"
      ]
     },
     "execution_count": 23,
     "metadata": {},
     "output_type": "execute_result"
    }
   ],
   "source": [
    "walkingHR.describe()"
   ]
  },
  {
   "cell_type": "markdown",
   "metadata": {},
   "source": [
    "---"
   ]
  },
  {
   "cell_type": "markdown",
   "metadata": {},
   "source": [
    "## Heart Rate Variability (HRV)"
   ]
  },
  {
   "cell_type": "code",
   "execution_count": 24,
   "metadata": {},
   "outputs": [],
   "source": [
    "hrv = pd.read_csv(\"HeartRateVariabilitySDNN.csv\")"
   ]
  },
  {
   "cell_type": "code",
   "execution_count": 25,
   "metadata": {},
   "outputs": [
    {
     "data": {
      "text/plain": [
       "1687"
      ]
     },
     "execution_count": 25,
     "metadata": {},
     "output_type": "execute_result"
    }
   ],
   "source": [
    "len(hrv)"
   ]
  },
  {
   "cell_type": "code",
   "execution_count": 26,
   "metadata": {},
   "outputs": [
    {
     "data": {
      "text/plain": [
       "Index(['sourceName', 'sourceVersion', 'device', 'type', 'unit', 'creationDate',\n",
       "       'startDate', 'endDate', 'value'],\n",
       "      dtype='object')"
      ]
     },
     "execution_count": 26,
     "metadata": {},
     "output_type": "execute_result"
    }
   ],
   "source": [
    "hrv.columns"
   ]
  },
  {
   "cell_type": "code",
   "execution_count": 27,
   "metadata": {},
   "outputs": [
    {
     "data": {
      "text/html": [
       "<div>\n",
       "<style scoped>\n",
       "    .dataframe tbody tr th:only-of-type {\n",
       "        vertical-align: middle;\n",
       "    }\n",
       "\n",
       "    .dataframe tbody tr th {\n",
       "        vertical-align: top;\n",
       "    }\n",
       "\n",
       "    .dataframe thead th {\n",
       "        text-align: right;\n",
       "    }\n",
       "</style>\n",
       "<table border=\"1\" class=\"dataframe\">\n",
       "  <thead>\n",
       "    <tr style=\"text-align: right;\">\n",
       "      <th></th>\n",
       "      <th>value</th>\n",
       "    </tr>\n",
       "  </thead>\n",
       "  <tbody>\n",
       "    <tr>\n",
       "      <th>count</th>\n",
       "      <td>1687.000000</td>\n",
       "    </tr>\n",
       "    <tr>\n",
       "      <th>mean</th>\n",
       "      <td>33.308511</td>\n",
       "    </tr>\n",
       "    <tr>\n",
       "      <th>std</th>\n",
       "      <td>13.458962</td>\n",
       "    </tr>\n",
       "    <tr>\n",
       "      <th>min</th>\n",
       "      <td>7.327180</td>\n",
       "    </tr>\n",
       "    <tr>\n",
       "      <th>25%</th>\n",
       "      <td>23.761850</td>\n",
       "    </tr>\n",
       "    <tr>\n",
       "      <th>50%</th>\n",
       "      <td>31.081500</td>\n",
       "    </tr>\n",
       "    <tr>\n",
       "      <th>75%</th>\n",
       "      <td>40.132200</td>\n",
       "    </tr>\n",
       "    <tr>\n",
       "      <th>max</th>\n",
       "      <td>160.640000</td>\n",
       "    </tr>\n",
       "  </tbody>\n",
       "</table>\n",
       "</div>"
      ],
      "text/plain": [
       "             value\n",
       "count  1687.000000\n",
       "mean     33.308511\n",
       "std      13.458962\n",
       "min       7.327180\n",
       "25%      23.761850\n",
       "50%      31.081500\n",
       "75%      40.132200\n",
       "max     160.640000"
      ]
     },
     "execution_count": 27,
     "metadata": {},
     "output_type": "execute_result"
    }
   ],
   "source": [
    "hrv.describe()"
   ]
  },
  {
   "cell_type": "code",
   "execution_count": 28,
   "metadata": {},
   "outputs": [
    {
     "data": {
      "text/html": [
       "<div>\n",
       "<style scoped>\n",
       "    .dataframe tbody tr th:only-of-type {\n",
       "        vertical-align: middle;\n",
       "    }\n",
       "\n",
       "    .dataframe tbody tr th {\n",
       "        vertical-align: top;\n",
       "    }\n",
       "\n",
       "    .dataframe thead th {\n",
       "        text-align: right;\n",
       "    }\n",
       "</style>\n",
       "<table border=\"1\" class=\"dataframe\">\n",
       "  <thead>\n",
       "    <tr style=\"text-align: right;\">\n",
       "      <th></th>\n",
       "      <th>sourceName</th>\n",
       "      <th>sourceVersion</th>\n",
       "      <th>device</th>\n",
       "      <th>type</th>\n",
       "      <th>unit</th>\n",
       "      <th>creationDate</th>\n",
       "      <th>startDate</th>\n",
       "      <th>endDate</th>\n",
       "      <th>value</th>\n",
       "    </tr>\n",
       "  </thead>\n",
       "  <tbody>\n",
       "    <tr>\n",
       "      <th>1682</th>\n",
       "      <td>Shashank’s Apple Watch</td>\n",
       "      <td>6.1.3</td>\n",
       "      <td>&lt;&lt;HKDevice: 0x282780a00&gt;, name:Apple Watch, ma...</td>\n",
       "      <td>HeartRateVariabilitySDNN</td>\n",
       "      <td>ms</td>\n",
       "      <td>2020-07-05 11:54:27 +0530</td>\n",
       "      <td>2020-07-05 11:53:26 +0530</td>\n",
       "      <td>2020-07-05 11:54:27 +0530</td>\n",
       "      <td>21.7083</td>\n",
       "    </tr>\n",
       "    <tr>\n",
       "      <th>1683</th>\n",
       "      <td>Shashank’s Apple Watch</td>\n",
       "      <td>6.1.3</td>\n",
       "      <td>&lt;&lt;HKDevice: 0x282784af0&gt;, name:Apple Watch, ma...</td>\n",
       "      <td>HeartRateVariabilitySDNN</td>\n",
       "      <td>ms</td>\n",
       "      <td>2020-07-05 13:55:48 +0530</td>\n",
       "      <td>2020-07-05 13:54:43 +0530</td>\n",
       "      <td>2020-07-05 13:55:48 +0530</td>\n",
       "      <td>38.0041</td>\n",
       "    </tr>\n",
       "    <tr>\n",
       "      <th>1684</th>\n",
       "      <td>Shashank’s Apple Watch</td>\n",
       "      <td>6.1.3</td>\n",
       "      <td>&lt;&lt;HKDevice: 0x282785a90&gt;, name:Apple Watch, ma...</td>\n",
       "      <td>HeartRateVariabilitySDNN</td>\n",
       "      <td>ms</td>\n",
       "      <td>2020-07-05 17:54:11 +0530</td>\n",
       "      <td>2020-07-05 17:53:06 +0530</td>\n",
       "      <td>2020-07-05 17:54:11 +0530</td>\n",
       "      <td>31.3568</td>\n",
       "    </tr>\n",
       "    <tr>\n",
       "      <th>1685</th>\n",
       "      <td>Shashank’s Apple Watch</td>\n",
       "      <td>6.1.3</td>\n",
       "      <td>&lt;&lt;HKDevice: 0x282786260&gt;, name:Apple Watch, ma...</td>\n",
       "      <td>HeartRateVariabilitySDNN</td>\n",
       "      <td>ms</td>\n",
       "      <td>2020-07-05 18:09:13 +0530</td>\n",
       "      <td>2020-07-05 18:08:10 +0530</td>\n",
       "      <td>2020-07-05 18:09:13 +0530</td>\n",
       "      <td>30.0479</td>\n",
       "    </tr>\n",
       "    <tr>\n",
       "      <th>1686</th>\n",
       "      <td>Shashank’s Apple Watch</td>\n",
       "      <td>6.1.3</td>\n",
       "      <td>&lt;&lt;HKDevice: 0x2827863f0&gt;, name:Apple Watch, ma...</td>\n",
       "      <td>HeartRateVariabilitySDNN</td>\n",
       "      <td>ms</td>\n",
       "      <td>2020-07-05 21:55:17 +0530</td>\n",
       "      <td>2020-07-05 21:54:11 +0530</td>\n",
       "      <td>2020-07-05 21:55:17 +0530</td>\n",
       "      <td>28.2694</td>\n",
       "    </tr>\n",
       "  </tbody>\n",
       "</table>\n",
       "</div>"
      ],
      "text/plain": [
       "                  sourceName sourceVersion  \\\n",
       "1682  Shashank’s Apple Watch         6.1.3   \n",
       "1683  Shashank’s Apple Watch         6.1.3   \n",
       "1684  Shashank’s Apple Watch         6.1.3   \n",
       "1685  Shashank’s Apple Watch         6.1.3   \n",
       "1686  Shashank’s Apple Watch         6.1.3   \n",
       "\n",
       "                                                 device  \\\n",
       "1682  <<HKDevice: 0x282780a00>, name:Apple Watch, ma...   \n",
       "1683  <<HKDevice: 0x282784af0>, name:Apple Watch, ma...   \n",
       "1684  <<HKDevice: 0x282785a90>, name:Apple Watch, ma...   \n",
       "1685  <<HKDevice: 0x282786260>, name:Apple Watch, ma...   \n",
       "1686  <<HKDevice: 0x2827863f0>, name:Apple Watch, ma...   \n",
       "\n",
       "                          type unit               creationDate  \\\n",
       "1682  HeartRateVariabilitySDNN   ms  2020-07-05 11:54:27 +0530   \n",
       "1683  HeartRateVariabilitySDNN   ms  2020-07-05 13:55:48 +0530   \n",
       "1684  HeartRateVariabilitySDNN   ms  2020-07-05 17:54:11 +0530   \n",
       "1685  HeartRateVariabilitySDNN   ms  2020-07-05 18:09:13 +0530   \n",
       "1686  HeartRateVariabilitySDNN   ms  2020-07-05 21:55:17 +0530   \n",
       "\n",
       "                      startDate                    endDate    value  \n",
       "1682  2020-07-05 11:53:26 +0530  2020-07-05 11:54:27 +0530  21.7083  \n",
       "1683  2020-07-05 13:54:43 +0530  2020-07-05 13:55:48 +0530  38.0041  \n",
       "1684  2020-07-05 17:53:06 +0530  2020-07-05 17:54:11 +0530  31.3568  \n",
       "1685  2020-07-05 18:08:10 +0530  2020-07-05 18:09:13 +0530  30.0479  \n",
       "1686  2020-07-05 21:54:11 +0530  2020-07-05 21:55:17 +0530  28.2694  "
      ]
     },
     "execution_count": 28,
     "metadata": {},
     "output_type": "execute_result"
    }
   ],
   "source": [
    "hrv.tail()"
   ]
  },
  {
   "cell_type": "markdown",
   "metadata": {},
   "source": [
    "-------"
   ]
  },
  {
   "cell_type": "markdown",
   "metadata": {},
   "source": [
    "## VO2 Max"
   ]
  },
  {
   "cell_type": "code",
   "execution_count": 29,
   "metadata": {},
   "outputs": [],
   "source": [
    "vo2max = pd.read_csv(\"VO2Max.csv\")"
   ]
  },
  {
   "cell_type": "code",
   "execution_count": 30,
   "metadata": {},
   "outputs": [
    {
     "data": {
      "text/plain": [
       "57"
      ]
     },
     "execution_count": 30,
     "metadata": {},
     "output_type": "execute_result"
    }
   ],
   "source": [
    "len(vo2max)"
   ]
  },
  {
   "cell_type": "code",
   "execution_count": 31,
   "metadata": {},
   "outputs": [
    {
     "data": {
      "text/html": [
       "<div>\n",
       "<style scoped>\n",
       "    .dataframe tbody tr th:only-of-type {\n",
       "        vertical-align: middle;\n",
       "    }\n",
       "\n",
       "    .dataframe tbody tr th {\n",
       "        vertical-align: top;\n",
       "    }\n",
       "\n",
       "    .dataframe thead th {\n",
       "        text-align: right;\n",
       "    }\n",
       "</style>\n",
       "<table border=\"1\" class=\"dataframe\">\n",
       "  <thead>\n",
       "    <tr style=\"text-align: right;\">\n",
       "      <th></th>\n",
       "      <th>sourceVersion</th>\n",
       "      <th>device</th>\n",
       "      <th>value</th>\n",
       "    </tr>\n",
       "  </thead>\n",
       "  <tbody>\n",
       "    <tr>\n",
       "      <th>count</th>\n",
       "      <td>0.0</td>\n",
       "      <td>0.0</td>\n",
       "      <td>57.000000</td>\n",
       "    </tr>\n",
       "    <tr>\n",
       "      <th>mean</th>\n",
       "      <td>NaN</td>\n",
       "      <td>NaN</td>\n",
       "      <td>33.181767</td>\n",
       "    </tr>\n",
       "    <tr>\n",
       "      <th>std</th>\n",
       "      <td>NaN</td>\n",
       "      <td>NaN</td>\n",
       "      <td>2.716489</td>\n",
       "    </tr>\n",
       "    <tr>\n",
       "      <th>min</th>\n",
       "      <td>NaN</td>\n",
       "      <td>NaN</td>\n",
       "      <td>29.883700</td>\n",
       "    </tr>\n",
       "    <tr>\n",
       "      <th>25%</th>\n",
       "      <td>NaN</td>\n",
       "      <td>NaN</td>\n",
       "      <td>31.768700</td>\n",
       "    </tr>\n",
       "    <tr>\n",
       "      <th>50%</th>\n",
       "      <td>NaN</td>\n",
       "      <td>NaN</td>\n",
       "      <td>31.886300</td>\n",
       "    </tr>\n",
       "    <tr>\n",
       "      <th>75%</th>\n",
       "      <td>NaN</td>\n",
       "      <td>NaN</td>\n",
       "      <td>33.954500</td>\n",
       "    </tr>\n",
       "    <tr>\n",
       "      <th>max</th>\n",
       "      <td>NaN</td>\n",
       "      <td>NaN</td>\n",
       "      <td>41.459300</td>\n",
       "    </tr>\n",
       "  </tbody>\n",
       "</table>\n",
       "</div>"
      ],
      "text/plain": [
       "       sourceVersion  device      value\n",
       "count            0.0     0.0  57.000000\n",
       "mean             NaN     NaN  33.181767\n",
       "std              NaN     NaN   2.716489\n",
       "min              NaN     NaN  29.883700\n",
       "25%              NaN     NaN  31.768700\n",
       "50%              NaN     NaN  31.886300\n",
       "75%              NaN     NaN  33.954500\n",
       "max              NaN     NaN  41.459300"
      ]
     },
     "execution_count": 31,
     "metadata": {},
     "output_type": "execute_result"
    }
   ],
   "source": [
    "vo2max.describe()"
   ]
  },
  {
   "cell_type": "markdown",
   "metadata": {},
   "source": [
    "----"
   ]
  },
  {
   "cell_type": "markdown",
   "metadata": {},
   "source": [
    "## Blood Pressure"
   ]
  },
  {
   "cell_type": "code",
   "execution_count": 32,
   "metadata": {},
   "outputs": [
    {
     "ename": "FileNotFoundError",
     "evalue": "File b'BloodPressureDiastolic.csv' does not exist",
     "output_type": "error",
     "traceback": [
      "\u001b[0;31m---------------------------------------------------------------------------\u001b[0m",
      "\u001b[0;31mFileNotFoundError\u001b[0m                         Traceback (most recent call last)",
      "\u001b[0;32m~/Desktop/CodesTemp/CVPR/DroneRacingData/apple_health_export/qs_ledger/apple_health/apple-health-data-parser.py\u001b[0m in \u001b[0;36m<module>\u001b[0;34m\u001b[0m\n\u001b[0;32m----> 1\u001b[0;31m \u001b[0mdiastolic\u001b[0m \u001b[0;34m=\u001b[0m \u001b[0mpd\u001b[0m\u001b[0;34m.\u001b[0m\u001b[0mread_csv\u001b[0m\u001b[0;34m(\u001b[0m\u001b[0;34m\"BloodPressureDiastolic.csv\"\u001b[0m\u001b[0;34m)\u001b[0m\u001b[0;34m\u001b[0m\u001b[0m\n\u001b[0m\u001b[1;32m      2\u001b[0m \u001b[0msystolic\u001b[0m \u001b[0;34m=\u001b[0m \u001b[0mpd\u001b[0m\u001b[0;34m.\u001b[0m\u001b[0mread_csv\u001b[0m\u001b[0;34m(\u001b[0m\u001b[0;34m\"BloodPressureSystolic.csv\"\u001b[0m\u001b[0;34m)\u001b[0m\u001b[0;34m\u001b[0m\u001b[0m\n",
      "\u001b[0;32m/Library/Frameworks/Python.framework/Versions/3.6/lib/python3.6/site-packages/pandas/io/parsers.py\u001b[0m in \u001b[0;36mparser_f\u001b[0;34m(filepath_or_buffer, sep, delimiter, header, names, index_col, usecols, squeeze, prefix, mangle_dupe_cols, dtype, engine, converters, true_values, false_values, skipinitialspace, skiprows, nrows, na_values, keep_default_na, na_filter, verbose, skip_blank_lines, parse_dates, infer_datetime_format, keep_date_col, date_parser, dayfirst, iterator, chunksize, compression, thousands, decimal, lineterminator, quotechar, quoting, escapechar, comment, encoding, dialect, tupleize_cols, error_bad_lines, warn_bad_lines, skipfooter, doublequote, delim_whitespace, low_memory, memory_map, float_precision)\u001b[0m\n\u001b[1;32m    676\u001b[0m                     skip_blank_lines=skip_blank_lines)\n\u001b[1;32m    677\u001b[0m \u001b[0;34m\u001b[0m\u001b[0m\n\u001b[0;32m--> 678\u001b[0;31m         \u001b[0;32mreturn\u001b[0m \u001b[0m_read\u001b[0m\u001b[0;34m(\u001b[0m\u001b[0mfilepath_or_buffer\u001b[0m\u001b[0;34m,\u001b[0m \u001b[0mkwds\u001b[0m\u001b[0;34m)\u001b[0m\u001b[0;34m\u001b[0m\u001b[0m\n\u001b[0m\u001b[1;32m    679\u001b[0m \u001b[0;34m\u001b[0m\u001b[0m\n\u001b[1;32m    680\u001b[0m     \u001b[0mparser_f\u001b[0m\u001b[0;34m.\u001b[0m\u001b[0m__name__\u001b[0m \u001b[0;34m=\u001b[0m \u001b[0mname\u001b[0m\u001b[0;34m\u001b[0m\u001b[0m\n",
      "\u001b[0;32m/Library/Frameworks/Python.framework/Versions/3.6/lib/python3.6/site-packages/pandas/io/parsers.py\u001b[0m in \u001b[0;36m_read\u001b[0;34m(filepath_or_buffer, kwds)\u001b[0m\n\u001b[1;32m    438\u001b[0m \u001b[0;34m\u001b[0m\u001b[0m\n\u001b[1;32m    439\u001b[0m     \u001b[0;31m# Create the parser.\u001b[0m\u001b[0;34m\u001b[0m\u001b[0;34m\u001b[0m\u001b[0m\n\u001b[0;32m--> 440\u001b[0;31m     \u001b[0mparser\u001b[0m \u001b[0;34m=\u001b[0m \u001b[0mTextFileReader\u001b[0m\u001b[0;34m(\u001b[0m\u001b[0mfilepath_or_buffer\u001b[0m\u001b[0;34m,\u001b[0m \u001b[0;34m**\u001b[0m\u001b[0mkwds\u001b[0m\u001b[0;34m)\u001b[0m\u001b[0;34m\u001b[0m\u001b[0m\n\u001b[0m\u001b[1;32m    441\u001b[0m \u001b[0;34m\u001b[0m\u001b[0m\n\u001b[1;32m    442\u001b[0m     \u001b[0;32mif\u001b[0m \u001b[0mchunksize\u001b[0m \u001b[0;32mor\u001b[0m \u001b[0miterator\u001b[0m\u001b[0;34m:\u001b[0m\u001b[0;34m\u001b[0m\u001b[0m\n",
      "\u001b[0;32m/Library/Frameworks/Python.framework/Versions/3.6/lib/python3.6/site-packages/pandas/io/parsers.py\u001b[0m in \u001b[0;36m__init__\u001b[0;34m(self, f, engine, **kwds)\u001b[0m\n\u001b[1;32m    785\u001b[0m             \u001b[0mself\u001b[0m\u001b[0;34m.\u001b[0m\u001b[0moptions\u001b[0m\u001b[0;34m[\u001b[0m\u001b[0;34m'has_index_names'\u001b[0m\u001b[0;34m]\u001b[0m \u001b[0;34m=\u001b[0m \u001b[0mkwds\u001b[0m\u001b[0;34m[\u001b[0m\u001b[0;34m'has_index_names'\u001b[0m\u001b[0;34m]\u001b[0m\u001b[0;34m\u001b[0m\u001b[0m\n\u001b[1;32m    786\u001b[0m \u001b[0;34m\u001b[0m\u001b[0m\n\u001b[0;32m--> 787\u001b[0;31m         \u001b[0mself\u001b[0m\u001b[0;34m.\u001b[0m\u001b[0m_make_engine\u001b[0m\u001b[0;34m(\u001b[0m\u001b[0mself\u001b[0m\u001b[0;34m.\u001b[0m\u001b[0mengine\u001b[0m\u001b[0;34m)\u001b[0m\u001b[0;34m\u001b[0m\u001b[0m\n\u001b[0m\u001b[1;32m    788\u001b[0m \u001b[0;34m\u001b[0m\u001b[0m\n\u001b[1;32m    789\u001b[0m     \u001b[0;32mdef\u001b[0m \u001b[0mclose\u001b[0m\u001b[0;34m(\u001b[0m\u001b[0mself\u001b[0m\u001b[0;34m)\u001b[0m\u001b[0;34m:\u001b[0m\u001b[0;34m\u001b[0m\u001b[0m\n",
      "\u001b[0;32m/Library/Frameworks/Python.framework/Versions/3.6/lib/python3.6/site-packages/pandas/io/parsers.py\u001b[0m in \u001b[0;36m_make_engine\u001b[0;34m(self, engine)\u001b[0m\n\u001b[1;32m   1012\u001b[0m     \u001b[0;32mdef\u001b[0m \u001b[0m_make_engine\u001b[0m\u001b[0;34m(\u001b[0m\u001b[0mself\u001b[0m\u001b[0;34m,\u001b[0m \u001b[0mengine\u001b[0m\u001b[0;34m=\u001b[0m\u001b[0;34m'c'\u001b[0m\u001b[0;34m)\u001b[0m\u001b[0;34m:\u001b[0m\u001b[0;34m\u001b[0m\u001b[0m\n\u001b[1;32m   1013\u001b[0m         \u001b[0;32mif\u001b[0m \u001b[0mengine\u001b[0m \u001b[0;34m==\u001b[0m \u001b[0;34m'c'\u001b[0m\u001b[0;34m:\u001b[0m\u001b[0;34m\u001b[0m\u001b[0m\n\u001b[0;32m-> 1014\u001b[0;31m             \u001b[0mself\u001b[0m\u001b[0;34m.\u001b[0m\u001b[0m_engine\u001b[0m \u001b[0;34m=\u001b[0m \u001b[0mCParserWrapper\u001b[0m\u001b[0;34m(\u001b[0m\u001b[0mself\u001b[0m\u001b[0;34m.\u001b[0m\u001b[0mf\u001b[0m\u001b[0;34m,\u001b[0m \u001b[0;34m**\u001b[0m\u001b[0mself\u001b[0m\u001b[0;34m.\u001b[0m\u001b[0moptions\u001b[0m\u001b[0;34m)\u001b[0m\u001b[0;34m\u001b[0m\u001b[0m\n\u001b[0m\u001b[1;32m   1015\u001b[0m         \u001b[0;32melse\u001b[0m\u001b[0;34m:\u001b[0m\u001b[0;34m\u001b[0m\u001b[0m\n\u001b[1;32m   1016\u001b[0m             \u001b[0;32mif\u001b[0m \u001b[0mengine\u001b[0m \u001b[0;34m==\u001b[0m \u001b[0;34m'python'\u001b[0m\u001b[0;34m:\u001b[0m\u001b[0;34m\u001b[0m\u001b[0m\n",
      "\u001b[0;32m/Library/Frameworks/Python.framework/Versions/3.6/lib/python3.6/site-packages/pandas/io/parsers.py\u001b[0m in \u001b[0;36m__init__\u001b[0;34m(self, src, **kwds)\u001b[0m\n\u001b[1;32m   1706\u001b[0m         \u001b[0mkwds\u001b[0m\u001b[0;34m[\u001b[0m\u001b[0;34m'usecols'\u001b[0m\u001b[0;34m]\u001b[0m \u001b[0;34m=\u001b[0m \u001b[0mself\u001b[0m\u001b[0;34m.\u001b[0m\u001b[0musecols\u001b[0m\u001b[0;34m\u001b[0m\u001b[0m\n\u001b[1;32m   1707\u001b[0m \u001b[0;34m\u001b[0m\u001b[0m\n\u001b[0;32m-> 1708\u001b[0;31m         \u001b[0mself\u001b[0m\u001b[0;34m.\u001b[0m\u001b[0m_reader\u001b[0m \u001b[0;34m=\u001b[0m \u001b[0mparsers\u001b[0m\u001b[0;34m.\u001b[0m\u001b[0mTextReader\u001b[0m\u001b[0;34m(\u001b[0m\u001b[0msrc\u001b[0m\u001b[0;34m,\u001b[0m \u001b[0;34m**\u001b[0m\u001b[0mkwds\u001b[0m\u001b[0;34m)\u001b[0m\u001b[0;34m\u001b[0m\u001b[0m\n\u001b[0m\u001b[1;32m   1709\u001b[0m \u001b[0;34m\u001b[0m\u001b[0m\n\u001b[1;32m   1710\u001b[0m         \u001b[0mpassed_names\u001b[0m \u001b[0;34m=\u001b[0m \u001b[0mself\u001b[0m\u001b[0;34m.\u001b[0m\u001b[0mnames\u001b[0m \u001b[0;32mis\u001b[0m \u001b[0;32mNone\u001b[0m\u001b[0;34m\u001b[0m\u001b[0m\n",
      "\u001b[0;32mpandas/_libs/parsers.pyx\u001b[0m in \u001b[0;36mpandas._libs.parsers.TextReader.__cinit__\u001b[0;34m()\u001b[0m\n",
      "\u001b[0;32mpandas/_libs/parsers.pyx\u001b[0m in \u001b[0;36mpandas._libs.parsers.TextReader._setup_parser_source\u001b[0;34m()\u001b[0m\n",
      "\u001b[0;31mFileNotFoundError\u001b[0m: File b'BloodPressureDiastolic.csv' does not exist"
     ]
    }
   ],
   "source": [
    "diastolic = pd.read_csv(\"BloodPressureDiastolic.csv\")\n",
    "systolic = pd.read_csv(\"BloodPressureSystolic.csv\")"
   ]
  },
  {
   "cell_type": "code",
   "execution_count": 33,
   "metadata": {},
   "outputs": [
    {
     "ename": "NameError",
     "evalue": "name 'diastolic' is not defined",
     "output_type": "error",
     "traceback": [
      "\u001b[0;31m---------------------------------------------------------------------------\u001b[0m",
      "\u001b[0;31mNameError\u001b[0m                                 Traceback (most recent call last)",
      "\u001b[0;32m~/Desktop/CodesTemp/CVPR/DroneRacingData/apple_health_export/qs_ledger/apple_health/apple-health-data-parser.py\u001b[0m in \u001b[0;36m<module>\u001b[0;34m\u001b[0m\n\u001b[0;32m----> 1\u001b[0;31m \u001b[0mdiastolic\u001b[0m\u001b[0;34m.\u001b[0m\u001b[0mdescribe\u001b[0m\u001b[0;34m(\u001b[0m\u001b[0;34m)\u001b[0m\u001b[0;34m\u001b[0m\u001b[0m\n\u001b[0m",
      "\u001b[0;31mNameError\u001b[0m: name 'diastolic' is not defined"
     ]
    }
   ],
   "source": [
    "diastolic.describe()"
   ]
  },
  {
   "cell_type": "code",
   "execution_count": 34,
   "metadata": {},
   "outputs": [
    {
     "ename": "NameError",
     "evalue": "name 'systolic' is not defined",
     "output_type": "error",
     "traceback": [
      "\u001b[0;31m---------------------------------------------------------------------------\u001b[0m",
      "\u001b[0;31mNameError\u001b[0m                                 Traceback (most recent call last)",
      "\u001b[0;32m~/Desktop/CodesTemp/CVPR/DroneRacingData/apple_health_export/qs_ledger/apple_health/apple-health-data-parser.py\u001b[0m in \u001b[0;36m<module>\u001b[0;34m\u001b[0m\n\u001b[0;32m----> 1\u001b[0;31m \u001b[0msystolic\u001b[0m\u001b[0;34m.\u001b[0m\u001b[0mdescribe\u001b[0m\u001b[0;34m(\u001b[0m\u001b[0;34m)\u001b[0m\u001b[0;34m\u001b[0m\u001b[0m\n\u001b[0m",
      "\u001b[0;31mNameError\u001b[0m: name 'systolic' is not defined"
     ]
    }
   ],
   "source": [
    "systolic.describe()"
   ]
  },
  {
   "cell_type": "markdown",
   "metadata": {},
   "source": [
    "------"
   ]
  },
  {
   "cell_type": "markdown",
   "metadata": {},
   "source": [
    "## Sleep"
   ]
  },
  {
   "cell_type": "code",
   "execution_count": 41,
   "metadata": {},
   "outputs": [],
   "source": [
    "sleep = pd.read_csv(\"SleepAnalysis.csv\")\n",
    "sleep['unit'] = 'hours'"
   ]
  },
  {
   "cell_type": "code",
   "execution_count": 42,
   "metadata": {},
   "outputs": [
    {
     "data": {
      "text/html": [
       "<div>\n",
       "<style scoped>\n",
       "    .dataframe tbody tr th:only-of-type {\n",
       "        vertical-align: middle;\n",
       "    }\n",
       "\n",
       "    .dataframe tbody tr th {\n",
       "        vertical-align: top;\n",
       "    }\n",
       "\n",
       "    .dataframe thead th {\n",
       "        text-align: right;\n",
       "    }\n",
       "</style>\n",
       "<table border=\"1\" class=\"dataframe\">\n",
       "  <thead>\n",
       "    <tr style=\"text-align: right;\">\n",
       "      <th></th>\n",
       "      <th>sourceName</th>\n",
       "      <th>sourceVersion</th>\n",
       "      <th>device</th>\n",
       "      <th>type</th>\n",
       "      <th>unit</th>\n",
       "      <th>creationDate</th>\n",
       "      <th>startDate</th>\n",
       "      <th>endDate</th>\n",
       "      <th>value</th>\n",
       "    </tr>\n",
       "  </thead>\n",
       "  <tbody>\n",
       "    <tr>\n",
       "      <th>17</th>\n",
       "      <td>Dozee</td>\n",
       "      <td>1</td>\n",
       "      <td>NaN</td>\n",
       "      <td>SleepAnalysis</td>\n",
       "      <td>hours</td>\n",
       "      <td>2020-06-12 00:01:58 +0530</td>\n",
       "      <td>2019-04-07 00:55:05 +0530</td>\n",
       "      <td>2019-04-07 06:57:33 +0530</td>\n",
       "      <td>HKCategoryValueSleepAnalysisAsleep</td>\n",
       "    </tr>\n",
       "    <tr>\n",
       "      <th>18</th>\n",
       "      <td>Dozee</td>\n",
       "      <td>1</td>\n",
       "      <td>NaN</td>\n",
       "      <td>SleepAnalysis</td>\n",
       "      <td>hours</td>\n",
       "      <td>2020-06-12 00:02:37 +0530</td>\n",
       "      <td>2019-04-07 00:53:05 +0530</td>\n",
       "      <td>2019-04-07 06:57:33 +0530</td>\n",
       "      <td>HKCategoryValueSleepAnalysisInBed</td>\n",
       "    </tr>\n",
       "    <tr>\n",
       "      <th>19</th>\n",
       "      <td>Dozee</td>\n",
       "      <td>1</td>\n",
       "      <td>NaN</td>\n",
       "      <td>SleepAnalysis</td>\n",
       "      <td>hours</td>\n",
       "      <td>2020-06-12 00:02:37 +0530</td>\n",
       "      <td>2019-04-07 00:55:05 +0530</td>\n",
       "      <td>2019-04-07 06:57:33 +0530</td>\n",
       "      <td>HKCategoryValueSleepAnalysisAsleep</td>\n",
       "    </tr>\n",
       "    <tr>\n",
       "      <th>20</th>\n",
       "      <td>Dozee</td>\n",
       "      <td>1</td>\n",
       "      <td>NaN</td>\n",
       "      <td>SleepAnalysis</td>\n",
       "      <td>hours</td>\n",
       "      <td>2020-06-12 00:03:58 +0530</td>\n",
       "      <td>2019-04-07 00:53:05 +0530</td>\n",
       "      <td>2019-04-07 06:57:33 +0530</td>\n",
       "      <td>HKCategoryValueSleepAnalysisInBed</td>\n",
       "    </tr>\n",
       "    <tr>\n",
       "      <th>21</th>\n",
       "      <td>Dozee</td>\n",
       "      <td>1</td>\n",
       "      <td>NaN</td>\n",
       "      <td>SleepAnalysis</td>\n",
       "      <td>hours</td>\n",
       "      <td>2020-06-12 00:03:58 +0530</td>\n",
       "      <td>2019-04-07 00:55:05 +0530</td>\n",
       "      <td>2019-04-07 06:57:33 +0530</td>\n",
       "      <td>HKCategoryValueSleepAnalysisAsleep</td>\n",
       "    </tr>\n",
       "  </tbody>\n",
       "</table>\n",
       "</div>"
      ],
      "text/plain": [
       "   sourceName  sourceVersion device           type   unit  \\\n",
       "17      Dozee              1    NaN  SleepAnalysis  hours   \n",
       "18      Dozee              1    NaN  SleepAnalysis  hours   \n",
       "19      Dozee              1    NaN  SleepAnalysis  hours   \n",
       "20      Dozee              1    NaN  SleepAnalysis  hours   \n",
       "21      Dozee              1    NaN  SleepAnalysis  hours   \n",
       "\n",
       "                 creationDate                  startDate  \\\n",
       "17  2020-06-12 00:01:58 +0530  2019-04-07 00:55:05 +0530   \n",
       "18  2020-06-12 00:02:37 +0530  2019-04-07 00:53:05 +0530   \n",
       "19  2020-06-12 00:02:37 +0530  2019-04-07 00:55:05 +0530   \n",
       "20  2020-06-12 00:03:58 +0530  2019-04-07 00:53:05 +0530   \n",
       "21  2020-06-12 00:03:58 +0530  2019-04-07 00:55:05 +0530   \n",
       "\n",
       "                      endDate                               value  \n",
       "17  2019-04-07 06:57:33 +0530  HKCategoryValueSleepAnalysisAsleep  \n",
       "18  2019-04-07 06:57:33 +0530   HKCategoryValueSleepAnalysisInBed  \n",
       "19  2019-04-07 06:57:33 +0530  HKCategoryValueSleepAnalysisAsleep  \n",
       "20  2019-04-07 06:57:33 +0530   HKCategoryValueSleepAnalysisInBed  \n",
       "21  2019-04-07 06:57:33 +0530  HKCategoryValueSleepAnalysisAsleep  "
      ]
     },
     "execution_count": 42,
     "metadata": {},
     "output_type": "execute_result"
    }
   ],
   "source": [
    "sleep.tail()"
   ]
  },
  {
   "cell_type": "code",
   "execution_count": 37,
   "metadata": {},
   "outputs": [
    {
     "data": {
      "text/html": [
       "<div>\n",
       "<style scoped>\n",
       "    .dataframe tbody tr th:only-of-type {\n",
       "        vertical-align: middle;\n",
       "    }\n",
       "\n",
       "    .dataframe tbody tr th {\n",
       "        vertical-align: top;\n",
       "    }\n",
       "\n",
       "    .dataframe thead th {\n",
       "        text-align: right;\n",
       "    }\n",
       "</style>\n",
       "<table border=\"1\" class=\"dataframe\">\n",
       "  <thead>\n",
       "    <tr style=\"text-align: right;\">\n",
       "      <th></th>\n",
       "      <th>sourceVersion</th>\n",
       "      <th>unit</th>\n",
       "    </tr>\n",
       "  </thead>\n",
       "  <tbody>\n",
       "    <tr>\n",
       "      <th>count</th>\n",
       "      <td>22.000000</td>\n",
       "      <td>0.0</td>\n",
       "    </tr>\n",
       "    <tr>\n",
       "      <th>mean</th>\n",
       "      <td>18.818182</td>\n",
       "      <td>NaN</td>\n",
       "    </tr>\n",
       "    <tr>\n",
       "      <th>std</th>\n",
       "      <td>24.125932</td>\n",
       "      <td>NaN</td>\n",
       "    </tr>\n",
       "    <tr>\n",
       "      <th>min</th>\n",
       "      <td>1.000000</td>\n",
       "      <td>NaN</td>\n",
       "    </tr>\n",
       "    <tr>\n",
       "      <th>25%</th>\n",
       "      <td>1.000000</td>\n",
       "      <td>NaN</td>\n",
       "    </tr>\n",
       "    <tr>\n",
       "      <th>50%</th>\n",
       "      <td>1.000000</td>\n",
       "      <td>NaN</td>\n",
       "    </tr>\n",
       "    <tr>\n",
       "      <th>75%</th>\n",
       "      <td>50.000000</td>\n",
       "      <td>NaN</td>\n",
       "    </tr>\n",
       "    <tr>\n",
       "      <th>max</th>\n",
       "      <td>50.000000</td>\n",
       "      <td>NaN</td>\n",
       "    </tr>\n",
       "  </tbody>\n",
       "</table>\n",
       "</div>"
      ],
      "text/plain": [
       "       sourceVersion  unit\n",
       "count      22.000000   0.0\n",
       "mean       18.818182   NaN\n",
       "std        24.125932   NaN\n",
       "min         1.000000   NaN\n",
       "25%         1.000000   NaN\n",
       "50%         1.000000   NaN\n",
       "75%        50.000000   NaN\n",
       "max        50.000000   NaN"
      ]
     },
     "execution_count": 37,
     "metadata": {},
     "output_type": "execute_result"
    }
   ],
   "source": [
    "sleep.describe()"
   ]
  },
  {
   "cell_type": "code",
   "execution_count": null,
   "metadata": {},
   "outputs": [],
   "source": []
  }
 ],
 "metadata": {
  "kernelspec": {
   "display_name": "Python 3",
   "language": "python",
   "name": "python3"
  },
  "language_info": {
   "codemirror_mode": {
    "name": "ipython",
    "version": 3
   },
   "file_extension": ".py",
   "mimetype": "text/x-python",
   "name": "python",
   "nbconvert_exporter": "python",
   "pygments_lexer": "ipython3",
   "version": "3.6.0"
  }
 },
 "nbformat": 4,
 "nbformat_minor": 2
}
