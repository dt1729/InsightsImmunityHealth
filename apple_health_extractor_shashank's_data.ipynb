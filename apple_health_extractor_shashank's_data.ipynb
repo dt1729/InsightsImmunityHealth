{
 "cells": [
  {
   "cell_type": "markdown",
   "metadata": {},
   "source": [
    "# Apple Health Extractor"
   ]
  },
  {
   "cell_type": "markdown",
   "metadata": {},
   "source": [
    "This code will parse your Apple Health export data, create multiple CSV and do some simple data checks and data analysis. \n",
    "\n",
    "Enjoy! "
   ]
  },
  {
   "cell_type": "markdown",
   "metadata": {},
   "source": [
    "--------"
   ]
  },
  {
   "cell_type": "markdown",
   "metadata": {},
   "source": [
    "## Setup and Usage NOTE\n",
    "\n",
    "* Export your data from Apple Health App on your phone. \n",
    "* Unzip export.zip into this directory and rename to data. \n",
    "* Inside your directory there should be a directory and file here: /data/export.xml\n",
    "* Run inside project or in the command line."
   ]
  },
  {
   "cell_type": "code",
   "execution_count": 1,
   "metadata": {},
   "outputs": [
    {
     "name": "stdout",
     "output_type": "stream",
     "text": [
      "Reading data from export.xml . . . done\n",
      "Unexpected node of type ExportDate.\n",
      "\n",
      "Tags:\n",
      "ActivitySummary: 686\n",
      "ExportDate: 1\n",
      "Me: 1\n",
      "Record: 1142965\n",
      "Workout: 106\n",
      "\n",
      "Fields:\n",
      "HKCharacteristicTypeIdentifierBiologicalSex: 1\n",
      "HKCharacteristicTypeIdentifierBloodType: 1\n",
      "HKCharacteristicTypeIdentifierDateOfBirth: 1\n",
      "HKCharacteristicTypeIdentifierFitzpatrickSkinType: 1\n",
      "activeEnergyBurned: 686\n",
      "activeEnergyBurnedGoal: 686\n",
      "activeEnergyBurnedUnit: 686\n",
      "appleExerciseTime: 686\n",
      "appleExerciseTimeGoal: 686\n",
      "appleStandHours: 686\n",
      "appleStandHoursGoal: 686\n",
      "creationDate: 1143071\n",
      "dateComponents: 686\n",
      "device: 1125552\n",
      "duration: 106\n",
      "durationUnit: 106\n",
      "endDate: 1143071\n",
      "sourceName: 1143071\n",
      "sourceVersion: 1138201\n",
      "startDate: 1143071\n",
      "totalDistance: 106\n",
      "totalDistanceUnit: 106\n",
      "totalEnergyBurned: 106\n",
      "totalEnergyBurnedUnit: 106\n",
      "type: 1142965\n",
      "unit: 1133858\n",
      "value: 1142954\n",
      "workoutActivityType: 106\n",
      "\n",
      "Record types:\n",
      "ActiveEnergyBurned: 525528\n",
      "AppleExerciseTime: 11599\n",
      "AppleStandHour: 9073\n",
      "AppleStandTime: 4813\n",
      "BasalEnergyBurned: 100290\n",
      "BodyFatPercentage: 101\n",
      "BodyMass: 181\n",
      "BodyMassIndex: 177\n",
      "DistanceCycling: 3\n",
      "DistanceSwimming: 30\n",
      "DistanceWalkingRunning: 201451\n",
      "FlightsClimbed: 6651\n",
      "HeadphoneAudioExposure: 702\n",
      "HeartRate: 103741\n",
      "HeartRateVariabilitySDNN: 1687\n",
      "Height: 1\n",
      "LeanBodyMass: 101\n",
      "MindfulSession: 12\n",
      "RespiratoryRate: 588\n",
      "RestingHeartRate: 645\n",
      "SleepAnalysis: 22\n",
      "StepCount: 174943\n",
      "SwimmingStrokeCount: 30\n",
      "VO2Max: 57\n",
      "WalkingHeartRateAverage: 539\n",
      "\n",
      "Opening /Users/dt/Desktop/CodesTemp/CVPR/DroneRacingData/apple_health_export/qs_ledger/apple_health/BodyMassIndex.csv for writing\n",
      "Opening /Users/dt/Desktop/CodesTemp/CVPR/DroneRacingData/apple_health_export/qs_ledger/apple_health/Height.csv for writing\n",
      "Opening /Users/dt/Desktop/CodesTemp/CVPR/DroneRacingData/apple_health_export/qs_ledger/apple_health/BodyMass.csv for writing\n",
      "Opening /Users/dt/Desktop/CodesTemp/CVPR/DroneRacingData/apple_health_export/qs_ledger/apple_health/HeartRate.csv for writing\n",
      "Opening /Users/dt/Desktop/CodesTemp/CVPR/DroneRacingData/apple_health_export/qs_ledger/apple_health/RespiratoryRate.csv for writing\n",
      "Opening /Users/dt/Desktop/CodesTemp/CVPR/DroneRacingData/apple_health_export/qs_ledger/apple_health/BodyFatPercentage.csv for writing\n",
      "Opening /Users/dt/Desktop/CodesTemp/CVPR/DroneRacingData/apple_health_export/qs_ledger/apple_health/LeanBodyMass.csv for writing\n",
      "Opening /Users/dt/Desktop/CodesTemp/CVPR/DroneRacingData/apple_health_export/qs_ledger/apple_health/StepCount.csv for writing\n",
      "Opening /Users/dt/Desktop/CodesTemp/CVPR/DroneRacingData/apple_health_export/qs_ledger/apple_health/DistanceWalkingRunning.csv for writing\n",
      "Opening /Users/dt/Desktop/CodesTemp/CVPR/DroneRacingData/apple_health_export/qs_ledger/apple_health/BasalEnergyBurned.csv for writing\n",
      "Opening /Users/dt/Desktop/CodesTemp/CVPR/DroneRacingData/apple_health_export/qs_ledger/apple_health/ActiveEnergyBurned.csv for writing\n",
      "Opening /Users/dt/Desktop/CodesTemp/CVPR/DroneRacingData/apple_health_export/qs_ledger/apple_health/FlightsClimbed.csv for writing\n",
      "Opening /Users/dt/Desktop/CodesTemp/CVPR/DroneRacingData/apple_health_export/qs_ledger/apple_health/AppleExerciseTime.csv for writing\n",
      "Opening /Users/dt/Desktop/CodesTemp/CVPR/DroneRacingData/apple_health_export/qs_ledger/apple_health/DistanceCycling.csv for writing\n",
      "Opening /Users/dt/Desktop/CodesTemp/CVPR/DroneRacingData/apple_health_export/qs_ledger/apple_health/DistanceSwimming.csv for writing\n",
      "Opening /Users/dt/Desktop/CodesTemp/CVPR/DroneRacingData/apple_health_export/qs_ledger/apple_health/SwimmingStrokeCount.csv for writing\n",
      "Opening /Users/dt/Desktop/CodesTemp/CVPR/DroneRacingData/apple_health_export/qs_ledger/apple_health/RestingHeartRate.csv for writing\n",
      "Opening /Users/dt/Desktop/CodesTemp/CVPR/DroneRacingData/apple_health_export/qs_ledger/apple_health/VO2Max.csv for writing\n",
      "Opening /Users/dt/Desktop/CodesTemp/CVPR/DroneRacingData/apple_health_export/qs_ledger/apple_health/WalkingHeartRateAverage.csv for writing\n",
      "Opening /Users/dt/Desktop/CodesTemp/CVPR/DroneRacingData/apple_health_export/qs_ledger/apple_health/HeadphoneAudioExposure.csv for writing\n",
      "Opening /Users/dt/Desktop/CodesTemp/CVPR/DroneRacingData/apple_health_export/qs_ledger/apple_health/AppleStandTime.csv for writing\n",
      "Opening /Users/dt/Desktop/CodesTemp/CVPR/DroneRacingData/apple_health_export/qs_ledger/apple_health/SleepAnalysis.csv for writing\n",
      "Opening /Users/dt/Desktop/CodesTemp/CVPR/DroneRacingData/apple_health_export/qs_ledger/apple_health/AppleStandHour.csv for writing\n",
      "Opening /Users/dt/Desktop/CodesTemp/CVPR/DroneRacingData/apple_health_export/qs_ledger/apple_health/MindfulSession.csv for writing\n",
      "Opening /Users/dt/Desktop/CodesTemp/CVPR/DroneRacingData/apple_health_export/qs_ledger/apple_health/HeartRateVariabilitySDNN.csv for writing\n",
      "Opening /Users/dt/Desktop/CodesTemp/CVPR/DroneRacingData/apple_health_export/qs_ledger/apple_health/Workout.csv for writing\n",
      "Opening /Users/dt/Desktop/CodesTemp/CVPR/DroneRacingData/apple_health_export/qs_ledger/apple_health/ActivitySummary.csv for writing\n",
      "Written BodyMassIndex data.\n",
      "Written Height data.\n",
      "Written BodyMass data.\n",
      "Written HeartRate data.\n",
      "Written RespiratoryRate data.\n",
      "Written BodyFatPercentage data.\n",
      "Written LeanBodyMass data.\n",
      "Written StepCount data.\n",
      "Written DistanceWalkingRunning data.\n",
      "Written BasalEnergyBurned data.\n",
      "Written ActiveEnergyBurned data.\n",
      "Written FlightsClimbed data.\n",
      "Written AppleExerciseTime data.\n",
      "Written DistanceCycling data.\n",
      "Written DistanceSwimming data.\n",
      "Written SwimmingStrokeCount data.\n",
      "Written RestingHeartRate data.\n",
      "Written VO2Max data.\n",
      "Written WalkingHeartRateAverage data.\n",
      "Written HeadphoneAudioExposure data.\n",
      "Written AppleStandTime data.\n",
      "Written SleepAnalysis data.\n",
      "Written AppleStandHour data.\n",
      "Written MindfulSession data.\n",
      "Written HeartRateVariabilitySDNN data.\n",
      "Written Workout data.\n",
      "Written ActivitySummary data.\n"
     ]
    }
   ],
   "source": [
    "# %run -i 'apple-health-data-parser' 'export.xml' \n",
    "%run -i 'apple-health-data-parser' 'export.xml' "
   ]
  },
  {
   "cell_type": "markdown",
   "metadata": {},
   "source": [
    "-----"
   ]
  },
  {
   "cell_type": "markdown",
   "metadata": {},
   "source": [
    "# Apple Health Data Check and Simple Data Analysis"
   ]
  },
  {
   "cell_type": "code",
   "execution_count": 1,
   "metadata": {},
   "outputs": [],
   "source": [
    "import numpy as np\n",
    "import pandas as pd\n",
    "import glob\n",
    "from datetime import date, datetime, timedelta as td\n",
    "import pytz\n",
    "import numpy as np\n",
    "import pandas as pd"
   ]
  },
  {
   "cell_type": "markdown",
   "metadata": {},
   "source": [
    "----"
   ]
  },
  {
   "cell_type": "markdown",
   "metadata": {},
   "source": [
    "# Weight"
   ]
  },
  {
   "cell_type": "code",
   "execution_count": 2,
   "metadata": {},
   "outputs": [],
   "source": [
    "weight = pd.read_csv(\"BodyMass.csv\")"
   ]
  },
  {
   "cell_type": "code",
   "execution_count": 55,
   "metadata": {},
   "outputs": [
    {
     "data": {
      "text/html": [
       "<div>\n",
       "<style scoped>\n",
       "    .dataframe tbody tr th:only-of-type {\n",
       "        vertical-align: middle;\n",
       "    }\n",
       "\n",
       "    .dataframe tbody tr th {\n",
       "        vertical-align: top;\n",
       "    }\n",
       "\n",
       "    .dataframe thead th {\n",
       "        text-align: right;\n",
       "    }\n",
       "</style>\n",
       "<table border=\"1\" class=\"dataframe\">\n",
       "  <thead>\n",
       "    <tr style=\"text-align: right;\">\n",
       "      <th></th>\n",
       "      <th>sourceName</th>\n",
       "      <th>sourceVersion</th>\n",
       "      <th>device</th>\n",
       "      <th>type</th>\n",
       "      <th>unit</th>\n",
       "      <th>creationDate</th>\n",
       "      <th>startDate</th>\n",
       "      <th>endDate</th>\n",
       "      <th>value</th>\n",
       "    </tr>\n",
       "  </thead>\n",
       "  <tbody>\n",
       "    <tr>\n",
       "      <th>176</th>\n",
       "      <td>Mi Fit</td>\n",
       "      <td>201907081918</td>\n",
       "      <td>NaN</td>\n",
       "      <td>BodyMass</td>\n",
       "      <td>kg</td>\n",
       "      <td>2020-07-02 07:52:37 +0530</td>\n",
       "      <td>2020-07-02 07:52:31 +0530</td>\n",
       "      <td>2020-07-02 07:52:31 +0530</td>\n",
       "      <td>88.8</td>\n",
       "    </tr>\n",
       "    <tr>\n",
       "      <th>177</th>\n",
       "      <td>Mi Fit</td>\n",
       "      <td>201907081918</td>\n",
       "      <td>NaN</td>\n",
       "      <td>BodyMass</td>\n",
       "      <td>kg</td>\n",
       "      <td>2020-07-04 09:09:36 +0530</td>\n",
       "      <td>2020-07-04 09:09:25 +0530</td>\n",
       "      <td>2020-07-04 09:09:25 +0530</td>\n",
       "      <td>90.9</td>\n",
       "    </tr>\n",
       "    <tr>\n",
       "      <th>178</th>\n",
       "      <td>Mi Fit</td>\n",
       "      <td>201907081918</td>\n",
       "      <td>NaN</td>\n",
       "      <td>BodyMass</td>\n",
       "      <td>kg</td>\n",
       "      <td>2020-07-05 09:03:03 +0530</td>\n",
       "      <td>2020-07-04 09:10:52 +0530</td>\n",
       "      <td>2020-07-04 09:10:52 +0530</td>\n",
       "      <td>89.4</td>\n",
       "    </tr>\n",
       "    <tr>\n",
       "      <th>179</th>\n",
       "      <td>Mi Fit</td>\n",
       "      <td>201907081918</td>\n",
       "      <td>NaN</td>\n",
       "      <td>BodyMass</td>\n",
       "      <td>kg</td>\n",
       "      <td>2020-07-05 09:03:03 +0530</td>\n",
       "      <td>2020-07-05 09:02:55 +0530</td>\n",
       "      <td>2020-07-05 09:02:55 +0530</td>\n",
       "      <td>88.9</td>\n",
       "    </tr>\n",
       "    <tr>\n",
       "      <th>180</th>\n",
       "      <td>Mi Fit</td>\n",
       "      <td>201907081918</td>\n",
       "      <td>NaN</td>\n",
       "      <td>BodyMass</td>\n",
       "      <td>kg</td>\n",
       "      <td>2020-07-06 08:33:11 +0530</td>\n",
       "      <td>2020-07-06 08:33:05 +0530</td>\n",
       "      <td>2020-07-06 08:33:05 +0530</td>\n",
       "      <td>88.3</td>\n",
       "    </tr>\n",
       "  </tbody>\n",
       "</table>\n",
       "</div>"
      ],
      "text/plain": [
       "    sourceName sourceVersion  device      type unit  \\\n",
       "176     Mi Fit  201907081918     NaN  BodyMass   kg   \n",
       "177     Mi Fit  201907081918     NaN  BodyMass   kg   \n",
       "178     Mi Fit  201907081918     NaN  BodyMass   kg   \n",
       "179     Mi Fit  201907081918     NaN  BodyMass   kg   \n",
       "180     Mi Fit  201907081918     NaN  BodyMass   kg   \n",
       "\n",
       "                  creationDate                  startDate  \\\n",
       "176  2020-07-02 07:52:37 +0530  2020-07-02 07:52:31 +0530   \n",
       "177  2020-07-04 09:09:36 +0530  2020-07-04 09:09:25 +0530   \n",
       "178  2020-07-05 09:03:03 +0530  2020-07-04 09:10:52 +0530   \n",
       "179  2020-07-05 09:03:03 +0530  2020-07-05 09:02:55 +0530   \n",
       "180  2020-07-06 08:33:11 +0530  2020-07-06 08:33:05 +0530   \n",
       "\n",
       "                       endDate  value  \n",
       "176  2020-07-02 07:52:31 +0530   88.8  \n",
       "177  2020-07-04 09:09:25 +0530   90.9  \n",
       "178  2020-07-04 09:10:52 +0530   89.4  \n",
       "179  2020-07-05 09:02:55 +0530   88.9  \n",
       "180  2020-07-06 08:33:05 +0530   88.3  "
      ]
     },
     "execution_count": 55,
     "metadata": {},
     "output_type": "execute_result"
    }
   ],
   "source": [
    "weight.tail()"
   ]
  },
  {
   "cell_type": "code",
   "execution_count": 56,
   "metadata": {},
   "outputs": [
    {
     "data": {
      "text/html": [
       "<div>\n",
       "<style scoped>\n",
       "    .dataframe tbody tr th:only-of-type {\n",
       "        vertical-align: middle;\n",
       "    }\n",
       "\n",
       "    .dataframe tbody tr th {\n",
       "        vertical-align: top;\n",
       "    }\n",
       "\n",
       "    .dataframe thead th {\n",
       "        text-align: right;\n",
       "    }\n",
       "</style>\n",
       "<table border=\"1\" class=\"dataframe\">\n",
       "  <thead>\n",
       "    <tr style=\"text-align: right;\">\n",
       "      <th></th>\n",
       "      <th>device</th>\n",
       "      <th>value</th>\n",
       "    </tr>\n",
       "  </thead>\n",
       "  <tbody>\n",
       "    <tr>\n",
       "      <th>count</th>\n",
       "      <td>0.0</td>\n",
       "      <td>181.000000</td>\n",
       "    </tr>\n",
       "    <tr>\n",
       "      <th>mean</th>\n",
       "      <td>NaN</td>\n",
       "      <td>88.637569</td>\n",
       "    </tr>\n",
       "    <tr>\n",
       "      <th>std</th>\n",
       "      <td>NaN</td>\n",
       "      <td>0.806861</td>\n",
       "    </tr>\n",
       "    <tr>\n",
       "      <th>min</th>\n",
       "      <td>NaN</td>\n",
       "      <td>84.200000</td>\n",
       "    </tr>\n",
       "    <tr>\n",
       "      <th>25%</th>\n",
       "      <td>NaN</td>\n",
       "      <td>88.300000</td>\n",
       "    </tr>\n",
       "    <tr>\n",
       "      <th>50%</th>\n",
       "      <td>NaN</td>\n",
       "      <td>88.600000</td>\n",
       "    </tr>\n",
       "    <tr>\n",
       "      <th>75%</th>\n",
       "      <td>NaN</td>\n",
       "      <td>89.100000</td>\n",
       "    </tr>\n",
       "    <tr>\n",
       "      <th>max</th>\n",
       "      <td>NaN</td>\n",
       "      <td>90.900000</td>\n",
       "    </tr>\n",
       "  </tbody>\n",
       "</table>\n",
       "</div>"
      ],
      "text/plain": [
       "       device       value\n",
       "count     0.0  181.000000\n",
       "mean      NaN   88.637569\n",
       "std       NaN    0.806861\n",
       "min       NaN   84.200000\n",
       "25%       NaN   88.300000\n",
       "50%       NaN   88.600000\n",
       "75%       NaN   89.100000\n",
       "max       NaN   90.900000"
      ]
     },
     "execution_count": 56,
     "metadata": {},
     "output_type": "execute_result"
    }
   ],
   "source": [
    "weight.describe()"
   ]
  },
  {
   "cell_type": "markdown",
   "metadata": {},
   "source": [
    "----"
   ]
  },
  {
   "cell_type": "markdown",
   "metadata": {},
   "source": [
    "## Steps"
   ]
  },
  {
   "cell_type": "code",
   "execution_count": 2,
   "metadata": {},
   "outputs": [],
   "source": [
    "steps = pd.read_csv(\"StepCount.csv\")"
   ]
  },
  {
   "cell_type": "code",
   "execution_count": 3,
   "metadata": {},
   "outputs": [
    {
     "data": {
      "text/plain": [
       "174943"
      ]
     },
     "execution_count": 3,
     "metadata": {},
     "output_type": "execute_result"
    }
   ],
   "source": [
    "len(steps)"
   ]
  },
  {
   "cell_type": "code",
   "execution_count": 4,
   "metadata": {},
   "outputs": [
    {
     "data": {
      "text/plain": [
       "Index(['sourceName', 'sourceVersion', 'device', 'type', 'unit', 'creationDate',\n",
       "       'startDate', 'endDate', 'value'],\n",
       "      dtype='object')"
      ]
     },
     "execution_count": 4,
     "metadata": {},
     "output_type": "execute_result"
    }
   ],
   "source": [
    "steps.columns"
   ]
  },
  {
   "cell_type": "code",
   "execution_count": 5,
   "metadata": {},
   "outputs": [
    {
     "data": {
      "text/html": [
       "<div>\n",
       "<style scoped>\n",
       "    .dataframe tbody tr th:only-of-type {\n",
       "        vertical-align: middle;\n",
       "    }\n",
       "\n",
       "    .dataframe tbody tr th {\n",
       "        vertical-align: top;\n",
       "    }\n",
       "\n",
       "    .dataframe thead th {\n",
       "        text-align: right;\n",
       "    }\n",
       "</style>\n",
       "<table border=\"1\" class=\"dataframe\">\n",
       "  <thead>\n",
       "    <tr style=\"text-align: right;\">\n",
       "      <th></th>\n",
       "      <th>value</th>\n",
       "    </tr>\n",
       "  </thead>\n",
       "  <tbody>\n",
       "    <tr>\n",
       "      <th>count</th>\n",
       "      <td>174943.000000</td>\n",
       "    </tr>\n",
       "    <tr>\n",
       "      <th>mean</th>\n",
       "      <td>82.619207</td>\n",
       "    </tr>\n",
       "    <tr>\n",
       "      <th>std</th>\n",
       "      <td>214.041698</td>\n",
       "    </tr>\n",
       "    <tr>\n",
       "      <th>min</th>\n",
       "      <td>1.000000</td>\n",
       "    </tr>\n",
       "    <tr>\n",
       "      <th>25%</th>\n",
       "      <td>17.000000</td>\n",
       "    </tr>\n",
       "    <tr>\n",
       "      <th>50%</th>\n",
       "      <td>40.000000</td>\n",
       "    </tr>\n",
       "    <tr>\n",
       "      <th>75%</th>\n",
       "      <td>90.000000</td>\n",
       "    </tr>\n",
       "    <tr>\n",
       "      <th>max</th>\n",
       "      <td>43109.000000</td>\n",
       "    </tr>\n",
       "  </tbody>\n",
       "</table>\n",
       "</div>"
      ],
      "text/plain": [
       "               value\n",
       "count  174943.000000\n",
       "mean       82.619207\n",
       "std       214.041698\n",
       "min         1.000000\n",
       "25%        17.000000\n",
       "50%        40.000000\n",
       "75%        90.000000\n",
       "max     43109.000000"
      ]
     },
     "execution_count": 5,
     "metadata": {},
     "output_type": "execute_result"
    }
   ],
   "source": [
    "steps.describe()"
   ]
  },
  {
   "cell_type": "code",
   "execution_count": 6,
   "metadata": {},
   "outputs": [],
   "source": [
    "# TRIAL CODE TO GROUPBY\n",
    "# a = len(steps.index)\n",
    "# for i in range(0,a):\n",
    "#     steps['creationDate'][i] =steps['creationDate'][i].replace('-',':')[0:19].replace(\" \", \":\")\n",
    "#     steps['startDate'][i] =steps['startDate'][i].replace('-',':')[0:19].replace(\" \", \":\")\n",
    "#     steps['endDate'][i] =steps['endDate'][i].replace('-',':')[0:19].replace(\" \", \":\")\n",
    "#     print(i)\n",
    "# print(steps['creationDate'])\n",
    "# steps['creationDate'][0] =steps['creationDate'][0].replace('-',':')[0:19].replace(\" \", \":\") \n",
    "# print(steps['creationDate'][0])\n"
   ]
  },
  {
   "cell_type": "code",
   "execution_count": 7,
   "metadata": {},
   "outputs": [],
   "source": [
    "# functions to convert UTC to Kolkata time zone and extract date/time elements\n",
    "convert_tz = lambda x: x.to_pydatetime().replace(tzinfo=pytz.utc).astimezone(pytz.timezone('Asia/Kolkata'))\n",
    "get_year = lambda x: convert_tz(x).year\n",
    "get_month = lambda x: '{}-{:02}'.format(convert_tz(x).year, convert_tz(x).month) #inefficient\n",
    "get_date = lambda x: '{}-{:02}-{:02}'.format(convert_tz(x).year, convert_tz(x).month, convert_tz(x).day) #inefficient\n",
    "get_day = lambda x: convert_tz(x).day\n",
    "get_hour = lambda x: convert_tz(x).hour\n",
    "get_minute = lambda x: convert_tz(x).minute\n",
    "get_day_of_week = lambda x: convert_tz(x).weekday()"
   ]
  },
  {
   "cell_type": "code",
   "execution_count": 8,
   "metadata": {},
   "outputs": [],
   "source": [
    "# parse out date and time elements as Kolkata time\n",
    "steps['startDate'] = pd.to_datetime(steps['startDate'])\n",
    "steps['year'] = steps['startDate'].map(get_year)\n",
    "steps['month'] = steps['startDate'].map(get_month)\n",
    "steps['date'] = steps['startDate'].map(get_date)\n",
    "steps['day'] = steps['startDate'].map(get_day)\n",
    "steps['hour'] = steps['startDate'].map(get_hour)\n",
    "steps['minute'] = steps['startDate'].map(get_minute)\n",
    "steps['dow'] = steps['startDate'].map(get_day_of_week)"
   ]
  },
  {
   "cell_type": "code",
   "execution_count": 9,
   "metadata": {},
   "outputs": [
    {
     "data": {
      "text/html": [
       "<div>\n",
       "<style scoped>\n",
       "    .dataframe tbody tr th:only-of-type {\n",
       "        vertical-align: middle;\n",
       "    }\n",
       "\n",
       "    .dataframe tbody tr th {\n",
       "        vertical-align: top;\n",
       "    }\n",
       "\n",
       "    .dataframe thead th {\n",
       "        text-align: right;\n",
       "    }\n",
       "</style>\n",
       "<table border=\"1\" class=\"dataframe\">\n",
       "  <thead>\n",
       "    <tr style=\"text-align: right;\">\n",
       "      <th></th>\n",
       "      <th>date</th>\n",
       "      <th>Steps</th>\n",
       "    </tr>\n",
       "  </thead>\n",
       "  <tbody>\n",
       "    <tr>\n",
       "      <th>0</th>\n",
       "      <td>2015-12-21</td>\n",
       "      <td>4355</td>\n",
       "    </tr>\n",
       "    <tr>\n",
       "      <th>1</th>\n",
       "      <td>2015-12-22</td>\n",
       "      <td>4389</td>\n",
       "    </tr>\n",
       "    <tr>\n",
       "      <th>2</th>\n",
       "      <td>2015-12-23</td>\n",
       "      <td>6566</td>\n",
       "    </tr>\n",
       "    <tr>\n",
       "      <th>3</th>\n",
       "      <td>2015-12-24</td>\n",
       "      <td>5180</td>\n",
       "    </tr>\n",
       "    <tr>\n",
       "      <th>4</th>\n",
       "      <td>2015-12-25</td>\n",
       "      <td>4498</td>\n",
       "    </tr>\n",
       "  </tbody>\n",
       "</table>\n",
       "</div>"
      ],
      "text/plain": [
       "         date  Steps\n",
       "0  2015-12-21   4355\n",
       "1  2015-12-22   4389\n",
       "2  2015-12-23   6566\n",
       "3  2015-12-24   5180\n",
       "4  2015-12-25   4498"
      ]
     },
     "execution_count": 9,
     "metadata": {},
     "output_type": "execute_result"
    }
   ],
   "source": [
    "steps_by_date = steps.groupby(['date'])['value'].sum().reset_index(name='Steps')\n",
    "steps_by_date.to_csv(\"steps_per_day_shashank.csv\", index=False)\n",
    "steps_by_date.head()"
   ]
  },
  {
   "cell_type": "code",
   "execution_count": 13,
   "metadata": {},
   "outputs": [
    {
     "name": "stderr",
     "output_type": "stream",
     "text": [
      "/Library/Frameworks/Python.framework/Versions/3.6/lib/python3.6/site-packages/ipykernel_launcher.py:9: SettingWithCopyWarning: \n",
      "A value is trying to be set on a copy of a slice from a DataFrame\n",
      "\n",
      "See the caveats in the documentation: http://pandas.pydata.org/pandas-docs/stable/user_guide/indexing.html#returning-a-view-versus-a-copy\n",
      "  if __name__ == '__main__':\n"
     ]
    }
   ],
   "source": [
    "steps_by_date['date'] = pd.to_datetime(steps_by_date['date'])\n",
    "steps_by_date['dow'] = steps_by_date['date'].dt.weekday\n",
    "steps_by_date['weekNo'] = steps_by_date['dow']\n",
    "ref_for_week = steps_by_date['dow'][0]\n",
    "p = 0\n",
    "for i in range(0,len(steps_by_date)):\n",
    "    if steps_by_date['dow'][i] == ref_for_week:\n",
    "        p = p+1\n",
    "    steps_by_date['weekNo'][i] = p"
   ]
  },
  {
   "cell_type": "code",
   "execution_count": 101,
   "metadata": {},
   "outputs": [
    {
     "data": {
      "text/html": [
       "<div>\n",
       "<style scoped>\n",
       "    .dataframe tbody tr th:only-of-type {\n",
       "        vertical-align: middle;\n",
       "    }\n",
       "\n",
       "    .dataframe tbody tr th {\n",
       "        vertical-align: top;\n",
       "    }\n",
       "\n",
       "    .dataframe thead th {\n",
       "        text-align: right;\n",
       "    }\n",
       "</style>\n",
       "<table border=\"1\" class=\"dataframe\">\n",
       "  <thead>\n",
       "    <tr style=\"text-align: right;\">\n",
       "      <th></th>\n",
       "      <th>date</th>\n",
       "      <th>Steps</th>\n",
       "      <th>dow</th>\n",
       "      <th>weekNo</th>\n",
       "    </tr>\n",
       "  </thead>\n",
       "  <tbody>\n",
       "    <tr>\n",
       "      <th>0</th>\n",
       "      <td>2015-12-21</td>\n",
       "      <td>4355</td>\n",
       "      <td>0</td>\n",
       "      <td>1</td>\n",
       "    </tr>\n",
       "    <tr>\n",
       "      <th>1</th>\n",
       "      <td>2015-12-22</td>\n",
       "      <td>4389</td>\n",
       "      <td>1</td>\n",
       "      <td>1</td>\n",
       "    </tr>\n",
       "    <tr>\n",
       "      <th>2</th>\n",
       "      <td>2015-12-23</td>\n",
       "      <td>6566</td>\n",
       "      <td>2</td>\n",
       "      <td>1</td>\n",
       "    </tr>\n",
       "    <tr>\n",
       "      <th>3</th>\n",
       "      <td>2015-12-24</td>\n",
       "      <td>5180</td>\n",
       "      <td>3</td>\n",
       "      <td>1</td>\n",
       "    </tr>\n",
       "    <tr>\n",
       "      <th>4</th>\n",
       "      <td>2015-12-25</td>\n",
       "      <td>4498</td>\n",
       "      <td>4</td>\n",
       "      <td>1</td>\n",
       "    </tr>\n",
       "    <tr>\n",
       "      <th>...</th>\n",
       "      <td>...</td>\n",
       "      <td>...</td>\n",
       "      <td>...</td>\n",
       "      <td>...</td>\n",
       "    </tr>\n",
       "    <tr>\n",
       "      <th>1648</th>\n",
       "      <td>2020-07-02</td>\n",
       "      <td>14843</td>\n",
       "      <td>3</td>\n",
       "      <td>237</td>\n",
       "    </tr>\n",
       "    <tr>\n",
       "      <th>1649</th>\n",
       "      <td>2020-07-03</td>\n",
       "      <td>25581</td>\n",
       "      <td>4</td>\n",
       "      <td>237</td>\n",
       "    </tr>\n",
       "    <tr>\n",
       "      <th>1650</th>\n",
       "      <td>2020-07-04</td>\n",
       "      <td>14891</td>\n",
       "      <td>5</td>\n",
       "      <td>237</td>\n",
       "    </tr>\n",
       "    <tr>\n",
       "      <th>1651</th>\n",
       "      <td>2020-07-05</td>\n",
       "      <td>11537</td>\n",
       "      <td>6</td>\n",
       "      <td>237</td>\n",
       "    </tr>\n",
       "    <tr>\n",
       "      <th>1652</th>\n",
       "      <td>2020-07-06</td>\n",
       "      <td>12603</td>\n",
       "      <td>0</td>\n",
       "      <td>238</td>\n",
       "    </tr>\n",
       "  </tbody>\n",
       "</table>\n",
       "<p>1653 rows × 4 columns</p>\n",
       "</div>"
      ],
      "text/plain": [
       "           date  Steps  dow  weekNo\n",
       "0    2015-12-21   4355    0       1\n",
       "1    2015-12-22   4389    1       1\n",
       "2    2015-12-23   6566    2       1\n",
       "3    2015-12-24   5180    3       1\n",
       "4    2015-12-25   4498    4       1\n",
       "...         ...    ...  ...     ...\n",
       "1648 2020-07-02  14843    3     237\n",
       "1649 2020-07-03  25581    4     237\n",
       "1650 2020-07-04  14891    5     237\n",
       "1651 2020-07-05  11537    6     237\n",
       "1652 2020-07-06  12603    0     238\n",
       "\n",
       "[1653 rows x 4 columns]"
      ]
     },
     "execution_count": 101,
     "metadata": {},
     "output_type": "execute_result"
    }
   ],
   "source": [
    "steps_by_date"
   ]
  },
  {
   "cell_type": "code",
   "execution_count": 81,
   "metadata": {},
   "outputs": [],
   "source": [
    "# grouping data by week and storing in table\n",
    "steps_by_week = steps_by_date.groupby(['weekNo'])['Steps'].sum().reset_index(name='Steps')"
   ]
  },
  {
   "cell_type": "code",
   "execution_count": 86,
   "metadata": {},
   "outputs": [
    {
     "data": {
      "text/html": [
       "<div>\n",
       "<style scoped>\n",
       "    .dataframe tbody tr th:only-of-type {\n",
       "        vertical-align: middle;\n",
       "    }\n",
       "\n",
       "    .dataframe tbody tr th {\n",
       "        vertical-align: top;\n",
       "    }\n",
       "\n",
       "    .dataframe thead th {\n",
       "        text-align: right;\n",
       "    }\n",
       "</style>\n",
       "<table border=\"1\" class=\"dataframe\">\n",
       "  <thead>\n",
       "    <tr style=\"text-align: right;\">\n",
       "      <th></th>\n",
       "      <th>weekNo</th>\n",
       "      <th>Steps</th>\n",
       "      <th>stdDev</th>\n",
       "    </tr>\n",
       "  </thead>\n",
       "  <tbody>\n",
       "    <tr>\n",
       "      <th>0</th>\n",
       "      <td>1</td>\n",
       "      <td>30513</td>\n",
       "      <td>NaN</td>\n",
       "    </tr>\n",
       "    <tr>\n",
       "      <th>1</th>\n",
       "      <td>2</td>\n",
       "      <td>42378</td>\n",
       "      <td>1430.254290</td>\n",
       "    </tr>\n",
       "    <tr>\n",
       "      <th>2</th>\n",
       "      <td>3</td>\n",
       "      <td>42809</td>\n",
       "      <td>2658.213310</td>\n",
       "    </tr>\n",
       "    <tr>\n",
       "      <th>3</th>\n",
       "      <td>4</td>\n",
       "      <td>31654</td>\n",
       "      <td>2795.473595</td>\n",
       "    </tr>\n",
       "    <tr>\n",
       "      <th>4</th>\n",
       "      <td>5</td>\n",
       "      <td>37155</td>\n",
       "      <td>1848.365765</td>\n",
       "    </tr>\n",
       "    <tr>\n",
       "      <th>...</th>\n",
       "      <td>...</td>\n",
       "      <td>...</td>\n",
       "      <td>...</td>\n",
       "    </tr>\n",
       "    <tr>\n",
       "      <th>233</th>\n",
       "      <td>234</td>\n",
       "      <td>99240</td>\n",
       "      <td>4927.263497</td>\n",
       "    </tr>\n",
       "    <tr>\n",
       "      <th>234</th>\n",
       "      <td>235</td>\n",
       "      <td>129670</td>\n",
       "      <td>6948.434342</td>\n",
       "    </tr>\n",
       "    <tr>\n",
       "      <th>235</th>\n",
       "      <td>236</td>\n",
       "      <td>181365</td>\n",
       "      <td>8530.072034</td>\n",
       "    </tr>\n",
       "    <tr>\n",
       "      <th>236</th>\n",
       "      <td>237</td>\n",
       "      <td>148001</td>\n",
       "      <td>6071.716855</td>\n",
       "    </tr>\n",
       "    <tr>\n",
       "      <th>237</th>\n",
       "      <td>238</td>\n",
       "      <td>12603</td>\n",
       "      <td>8036.222682</td>\n",
       "    </tr>\n",
       "  </tbody>\n",
       "</table>\n",
       "<p>238 rows × 3 columns</p>\n",
       "</div>"
      ],
      "text/plain": [
       "     weekNo   Steps       stdDev\n",
       "0         1   30513          NaN\n",
       "1         2   42378  1430.254290\n",
       "2         3   42809  2658.213310\n",
       "3         4   31654  2795.473595\n",
       "4         5   37155  1848.365765\n",
       "..      ...     ...          ...\n",
       "233     234   99240  4927.263497\n",
       "234     235  129670  6948.434342\n",
       "235     236  181365  8530.072034\n",
       "236     237  148001  6071.716855\n",
       "237     238   12603  8036.222682\n",
       "\n",
       "[238 rows x 3 columns]"
      ]
     },
     "execution_count": 86,
     "metadata": {},
     "output_type": "execute_result"
    }
   ],
   "source": [
    "steps_by_week['stdDev'] = steps_by_date.groupby(['weekNo'])['Steps'].std()\n",
    "steps_by_week"
   ]
  },
  {
   "cell_type": "code",
   "execution_count": 102,
   "metadata": {},
   "outputs": [
    {
     "data": {
      "text/plain": [
       "array([[1.00000000e+00, 3.05130000e+04,            nan],\n",
       "       [2.00000000e+00, 4.23780000e+04, 1.43025429e+03],\n",
       "       [3.00000000e+00, 4.28090000e+04, 2.65821331e+03],\n",
       "       [4.00000000e+00, 3.16540000e+04, 2.79547359e+03],\n",
       "       [5.00000000e+00, 3.71550000e+04, 1.84836576e+03],\n",
       "       [6.00000000e+00, 4.78440000e+04, 1.14168493e+03],\n",
       "       [7.00000000e+00, 3.98530000e+04, 3.19637625e+03],\n",
       "       [8.00000000e+00, 3.37730000e+04, 2.61593608e+03],\n",
       "       [9.00000000e+00, 4.41610000e+04, 1.50738733e+03],\n",
       "       [1.00000000e+01, 3.06040000e+04, 2.65117205e+03],\n",
       "       [1.10000000e+01, 4.58670000e+04, 1.49621311e+03],\n",
       "       [1.20000000e+01, 3.49190000e+04, 3.68977727e+03],\n",
       "       [1.30000000e+01, 4.70890000e+04, 1.88778299e+03],\n",
       "       [1.40000000e+01, 8.50680000e+04, 2.50903846e+03],\n",
       "       [1.50000000e+01, 3.31690000e+04, 4.29579488e+03],\n",
       "       [1.60000000e+01, 4.66400000e+04, 1.23731818e+03],\n",
       "       [1.70000000e+01, 4.75950000e+04, 1.67399287e+03],\n",
       "       [1.80000000e+01, 3.33320000e+04, 1.72805051e+03],\n",
       "       [1.90000000e+01, 4.47400000e+04, 2.08224828e+03],\n",
       "       [2.00000000e+01, 3.47530000e+04, 1.36241830e+03],\n",
       "       [2.10000000e+01, 4.21510000e+04, 1.45374708e+03],\n",
       "       [2.20000000e+01, 3.16640000e+04, 2.34027654e+03],\n",
       "       [2.30000000e+01, 2.75740000e+04, 1.27576472e+03],\n",
       "       [2.40000000e+01, 3.03350000e+04, 4.90835827e+02],\n",
       "       [2.50000000e+01, 3.58260000e+04, 1.67687853e+03],\n",
       "       [2.60000000e+01, 2.77430000e+04, 6.70701126e+02],\n",
       "       [2.70000000e+01, 3.63170000e+04, 7.06231009e+02],\n",
       "       [2.80000000e+01, 2.50760000e+04, 1.24735446e+03],\n",
       "       [2.90000000e+01, 3.05260000e+04, 1.13074470e+03],\n",
       "       [3.00000000e+01, 3.57320000e+04, 1.65102528e+03],\n",
       "       [3.10000000e+01, 4.58820000e+04, 1.24681405e+03],\n",
       "       [3.20000000e+01, 4.80460000e+04, 2.93832372e+03],\n",
       "       [3.30000000e+01, 3.59940000e+04, 3.22119190e+03],\n",
       "       [3.40000000e+01, 3.36580000e+04, 2.07064611e+03],\n",
       "       [3.50000000e+01, 3.07000000e+04, 1.19146544e+03],\n",
       "       [3.60000000e+01, 3.78210000e+04, 1.26201449e+03],\n",
       "       [3.70000000e+01, 2.96510000e+04, 1.66034976e+03],\n",
       "       [3.80000000e+01, 4.25260000e+04, 1.13058369e+03],\n",
       "       [3.90000000e+01, 6.11440000e+04, 2.44013329e+03],\n",
       "       [4.00000000e+01, 3.60410000e+04, 2.86889766e+03],\n",
       "       [4.10000000e+01, 4.72500000e+04, 2.14202954e+03],\n",
       "       [4.20000000e+01, 4.17540000e+04, 1.83777483e+03],\n",
       "       [4.30000000e+01, 4.51350000e+04, 2.41906872e+03],\n",
       "       [4.40000000e+01, 3.26520000e+04, 2.27843612e+03],\n",
       "       [4.50000000e+01, 4.05200000e+04, 2.27497713e+03],\n",
       "       [4.60000000e+01, 2.94310000e+04, 1.35736201e+03],\n",
       "       [4.70000000e+01, 3.43530000e+04, 1.27713923e+03],\n",
       "       [4.80000000e+01, 5.07170000e+04, 1.47036853e+03],\n",
       "       [4.90000000e+01, 4.98510000e+04, 4.48375775e+03],\n",
       "       [5.00000000e+01, 4.08420000e+04, 1.45200905e+03],\n",
       "       [5.10000000e+01, 3.97760000e+04, 2.51140099e+03],\n",
       "       [5.20000000e+01, 4.71610000e+04, 1.11972909e+03],\n",
       "       [5.30000000e+01, 3.28090000e+04, 1.16577795e+03],\n",
       "       [5.40000000e+01, 3.11880000e+04, 2.02117128e+03],\n",
       "       [5.50000000e+01, 2.99680000e+04, 1.83827336e+03],\n",
       "       [5.60000000e+01, 3.02740000e+04, 9.12119405e+02],\n",
       "       [5.70000000e+01, 3.67820000e+04, 1.58827332e+03],\n",
       "       [5.80000000e+01, 3.61500000e+04, 1.01431584e+03],\n",
       "       [5.90000000e+01, 3.34580000e+04, 1.07125592e+03],\n",
       "       [6.00000000e+01, 3.98430000e+04, 1.86350840e+03],\n",
       "       [6.10000000e+01, 3.63200000e+04, 3.36755586e+03],\n",
       "       [6.20000000e+01, 3.08090000e+04, 1.63527886e+03],\n",
       "       [6.30000000e+01, 3.71150000e+04, 1.03005206e+03],\n",
       "       [6.40000000e+01, 3.13660000e+04, 1.36066582e+03],\n",
       "       [6.50000000e+01, 2.02300000e+03, 1.25904255e+03],\n",
       "       [6.60000000e+01, 3.23990000e+04, 1.29612673e+03],\n",
       "       [6.70000000e+01, 4.30020000e+04, 2.41015600e+03],\n",
       "       [6.80000000e+01, 2.92460000e+04, 2.11288952e+03],\n",
       "       [6.90000000e+01, 3.74290000e+04, 1.23587621e+03],\n",
       "       [7.00000000e+01, 3.10490000e+04, 2.11233741e+03],\n",
       "       [7.10000000e+01, 2.91520000e+04, 1.93257961e+03],\n",
       "       [7.20000000e+01, 4.04960000e+04, 1.09323966e+03],\n",
       "       [7.30000000e+01, 3.78860000e+04, 1.88470284e+03],\n",
       "       [7.40000000e+01, 3.57280000e+04, 1.83528587e+03],\n",
       "       [7.50000000e+01, 4.14020000e+04, 1.02298664e+03],\n",
       "       [7.60000000e+01, 3.37770000e+04, 1.23917659e+03],\n",
       "       [7.70000000e+01, 4.30710000e+04, 1.18693944e+03],\n",
       "       [7.80000000e+01, 3.46330000e+04, 1.74467905e+03],\n",
       "       [7.90000000e+01, 3.12770000e+04, 2.56868935e+03],\n",
       "       [8.00000000e+01, 2.98300000e+04, 4.93712949e+02],\n",
       "       [8.10000000e+01, 3.17580000e+04, 1.52351401e+03],\n",
       "       [8.20000000e+01, 2.79120000e+04, 1.32908182e+03],\n",
       "       [8.30000000e+01, 2.52410000e+04, 1.58272654e+03],\n",
       "       [8.40000000e+01, 4.17590000e+04, 8.64848432e+02],\n",
       "       [8.50000000e+01, 2.04110000e+04, 2.44581063e+03],\n",
       "       [8.60000000e+01, 3.49240000e+04, 1.42552579e+03],\n",
       "       [8.70000000e+01, 3.88810000e+04, 1.42016448e+03],\n",
       "       [8.80000000e+01, 3.37840000e+04, 2.24187599e+03],\n",
       "       [8.90000000e+01, 4.55980000e+04, 1.61010173e+03],\n",
       "       [9.00000000e+01, 3.50870000e+04, 2.86113660e+03],\n",
       "       [9.10000000e+01, 3.75880000e+04, 1.71255879e+03],\n",
       "       [9.20000000e+01, 3.84470000e+04, 1.79988960e+03],\n",
       "       [9.30000000e+01, 3.62190000e+04, 2.06221134e+03],\n",
       "       [9.40000000e+01, 3.97990000e+04, 1.40588411e+03],\n",
       "       [9.50000000e+01, 3.28680000e+04, 2.12032685e+03],\n",
       "       [9.60000000e+01, 4.81930000e+04, 1.06938532e+03],\n",
       "       [9.70000000e+01, 4.80930000e+04, 2.09977314e+03],\n",
       "       [9.80000000e+01, 3.96390000e+04, 2.57350739e+03],\n",
       "       [9.90000000e+01, 4.12700000e+04, 1.28364114e+03],\n",
       "       [1.00000000e+02, 7.82710000e+04, 1.27251689e+03],\n",
       "       [1.01000000e+02, 9.55750000e+04, 8.88163342e+03],\n",
       "       [1.02000000e+02, 7.89860000e+04, 5.79156239e+03],\n",
       "       [1.03000000e+02, 7.30270000e+04, 2.62173954e+03],\n",
       "       [1.04000000e+02, 8.25700000e+04, 4.18381990e+03],\n",
       "       [1.05000000e+02, 1.01437000e+05, 3.82686999e+03],\n",
       "       [1.06000000e+02, 1.29661000e+05, 5.95730532e+03],\n",
       "       [1.07000000e+02, 7.35510000e+04, 4.99444868e+03],\n",
       "       [1.08000000e+02, 7.93010000e+04, 3.86739437e+03],\n",
       "       [1.09000000e+02, 6.92500000e+04, 2.99672948e+03],\n",
       "       [1.10000000e+02, 3.85900000e+04, 6.37741780e+03],\n",
       "       [1.11000000e+02, 7.82050000e+04, 2.04778404e+03],\n",
       "       [1.12000000e+02, 6.84670000e+04, 3.64044431e+03],\n",
       "       [1.13000000e+02, 7.38740000e+04, 2.83233249e+03],\n",
       "       [1.14000000e+02, 7.42790000e+04, 3.50817174e+03],\n",
       "       [1.15000000e+02, 1.05219000e+05, 2.90169592e+03],\n",
       "       [1.16000000e+02, 1.05658000e+05, 7.62163610e+03],\n",
       "       [1.17000000e+02, 6.31340000e+04, 6.88432921e+03],\n",
       "       [1.18000000e+02, 8.26310000e+04, 2.99984585e+03],\n",
       "       [1.19000000e+02, 8.63760000e+04, 2.79648898e+03],\n",
       "       [1.20000000e+02, 7.26860000e+04, 2.99291223e+03],\n",
       "       [1.21000000e+02, 7.70350000e+04, 2.26459766e+03],\n",
       "       [1.22000000e+02, 9.69810000e+04, 1.39628256e+03],\n",
       "       [1.23000000e+02, 1.06721000e+05, 4.24856552e+03],\n",
       "       [1.24000000e+02, 1.10608000e+05, 6.55619871e+03],\n",
       "       [1.25000000e+02, 7.97030000e+04, 5.39136280e+03],\n",
       "       [1.26000000e+02, 7.22150000e+04, 5.01382287e+03],\n",
       "       [1.27000000e+02, 6.22380000e+04, 4.27527125e+03],\n",
       "       [1.28000000e+02, 7.50490000e+04, 3.36906720e+03],\n",
       "       [1.29000000e+02, 6.42950000e+04, 3.25440423e+03],\n",
       "       [1.30000000e+02, 8.49470000e+04, 3.16554055e+03],\n",
       "       [1.31000000e+02, 7.88350000e+04, 2.62865033e+03],\n",
       "       [1.32000000e+02, 9.66650000e+04, 4.48132478e+03],\n",
       "       [1.33000000e+02, 6.89000000e+04, 5.66960756e+03],\n",
       "       [1.34000000e+02, 7.44940000e+04, 2.46733780e+03],\n",
       "       [1.35000000e+02, 9.58910000e+04, 2.64486931e+03],\n",
       "       [1.36000000e+02, 7.23660000e+04, 3.53719506e+03],\n",
       "       [1.37000000e+02, 8.17310000e+04, 4.73289119e+03],\n",
       "       [1.38000000e+02, 7.51460000e+04, 1.98365836e+03],\n",
       "       [1.39000000e+02, 7.90550000e+04, 2.77638497e+03],\n",
       "       [1.40000000e+02, 1.13918000e+05, 4.11094028e+03],\n",
       "       [1.41000000e+02, 9.19140000e+04, 6.94786533e+03],\n",
       "       [1.42000000e+02, 9.22480000e+04, 3.18455271e+03],\n",
       "       [1.43000000e+02, 6.50180000e+04, 5.21627126e+03],\n",
       "       [1.44000000e+02, 1.12801000e+05, 2.56254039e+03],\n",
       "       [1.45000000e+02, 9.63790000e+04, 4.11330434e+03],\n",
       "       [1.46000000e+02, 1.35305000e+05, 7.05470396e+03],\n",
       "       [1.47000000e+02, 6.55450000e+04, 1.82921325e+04],\n",
       "       [1.48000000e+02, 7.53250000e+04, 1.18672706e+04],\n",
       "       [1.49000000e+02, 1.11110000e+05, 4.83440543e+03],\n",
       "       [1.50000000e+02, 9.92500000e+04, 1.01760652e+04],\n",
       "       [1.51000000e+02, 1.27327000e+05, 1.12194240e+04],\n",
       "       [1.52000000e+02, 7.95120000e+04, 8.28664039e+03],\n",
       "       [1.53000000e+02, 6.15230000e+04, 4.16713788e+03],\n",
       "       [1.54000000e+02, 8.39860000e+04, 3.27504407e+03],\n",
       "       [1.55000000e+02, 8.65840000e+04, 3.78482479e+03],\n",
       "       [1.56000000e+02, 6.62330000e+04, 3.50240424e+03],\n",
       "       [1.57000000e+02, 7.31030000e+04, 3.56983251e+03],\n",
       "       [1.58000000e+02, 1.46735000e+05, 2.76142099e+03],\n",
       "       [1.59000000e+02, 8.18000000e+04, 8.12821490e+03],\n",
       "       [1.60000000e+02, 7.81010000e+04, 5.23989932e+03],\n",
       "       [1.61000000e+02, 9.46360000e+04, 3.38425815e+03],\n",
       "       [1.62000000e+02, 8.90000000e+04, 3.55255077e+03],\n",
       "       [1.63000000e+02, 7.63350000e+04, 5.24622006e+03],\n",
       "       [1.64000000e+02, 8.78590000e+04, 2.58038104e+03],\n",
       "       [1.65000000e+02, 8.17570000e+04, 5.67880623e+03],\n",
       "       [1.66000000e+02, 8.75850000e+04, 4.70518582e+03],\n",
       "       [1.67000000e+02, 1.18679000e+05, 2.97960604e+03],\n",
       "       [1.68000000e+02, 1.46559000e+05, 4.50030404e+03],\n",
       "       [1.69000000e+02, 1.03782000e+05, 9.10073105e+03],\n",
       "       [1.70000000e+02, 6.29870000e+04, 7.42877675e+03],\n",
       "       [1.71000000e+02, 4.06550000e+04, 3.36027129e+03],\n",
       "       [1.72000000e+02, 4.69970000e+04, 1.67547391e+03],\n",
       "       [1.73000000e+02, 4.23930000e+04, 2.38649642e+03],\n",
       "       [1.74000000e+02, 4.06310000e+04, 2.23822507e+03],\n",
       "       [1.75000000e+02, 4.58980000e+04, 2.09047218e+03],\n",
       "       [1.76000000e+02, 3.08640000e+04, 2.29159045e+03],\n",
       "       [1.77000000e+02, 3.65260000e+04, 1.25216631e+03],\n",
       "       [1.78000000e+02, 4.60180000e+04, 2.03405293e+03],\n",
       "       [1.79000000e+02, 4.04160000e+04, 2.92198956e+03],\n",
       "       [1.80000000e+02, 3.38210000e+04, 2.08028626e+03],\n",
       "       [1.81000000e+02, 4.14170000e+04, 2.26544424e+03],\n",
       "       [1.82000000e+02, 6.33010000e+04, 2.46766771e+03],\n",
       "       [1.83000000e+02, 7.32720000e+04, 3.87452956e+03],\n",
       "       [1.84000000e+02, 6.29690000e+04, 4.45272927e+03],\n",
       "       [1.85000000e+02, 4.71970000e+04, 5.02803185e+03],\n",
       "       [1.86000000e+02, 3.30020000e+04, 2.32962714e+03],\n",
       "       [1.87000000e+02, 3.95260000e+04, 9.41331833e+02],\n",
       "       [1.88000000e+02, 5.05590000e+04, 1.66438025e+03],\n",
       "       [1.89000000e+02, 4.78200000e+04, 1.20186823e+03],\n",
       "       [1.90000000e+02, 3.95630000e+04, 2.01775509e+03],\n",
       "       [1.91000000e+02, 3.97710000e+04, 2.14359934e+03],\n",
       "       [1.92000000e+02, 3.93490000e+04, 1.63434460e+03],\n",
       "       [1.93000000e+02, 4.05420000e+04, 1.72737061e+03],\n",
       "       [1.94000000e+02, 3.00450000e+04, 1.96570061e+03],\n",
       "       [1.95000000e+02, 3.96750000e+04, 1.60312772e+03],\n",
       "       [1.96000000e+02, 3.68930000e+04, 1.36989044e+03],\n",
       "       [1.97000000e+02, 3.42260000e+04, 1.61437406e+03],\n",
       "       [1.98000000e+02, 4.12430000e+04, 1.59620100e+03],\n",
       "       [1.99000000e+02, 3.77790000e+04, 1.34907010e+03],\n",
       "       [2.00000000e+02, 3.64890000e+04, 1.39320601e+03],\n",
       "       [2.01000000e+02, 4.18200000e+04, 1.42990532e+03],\n",
       "       [2.02000000e+02, 2.93410000e+04, 1.74088040e+03],\n",
       "       [2.03000000e+02, 3.71220000e+04, 1.55657871e+03],\n",
       "       [2.04000000e+02, 3.53840000e+04, 4.27865767e+03],\n",
       "       [2.05000000e+02, 3.51900000e+04, 8.86467602e+02],\n",
       "       [2.06000000e+02, 4.63140000e+04, 1.30103682e+03],\n",
       "       [2.07000000e+02, 7.89220000e+04, 2.27324964e+03],\n",
       "       [2.08000000e+02, 7.25500000e+04, 1.80262955e+03],\n",
       "       [2.09000000e+02, 6.06490000e+04, 5.55972711e+03],\n",
       "       [2.10000000e+02, 1.34665000e+05, 5.58743759e+03],\n",
       "       [2.11000000e+02, 7.52840000e+04, 6.39369764e+03],\n",
       "       [2.12000000e+02, 8.85230000e+04, 4.57007726e+03],\n",
       "       [2.13000000e+02, 1.03662000e+05, 4.23854006e+03],\n",
       "       [2.14000000e+02, 8.02790000e+04, 4.75296642e+03],\n",
       "       [2.15000000e+02, 8.44850000e+04, 4.81879774e+03],\n",
       "       [2.16000000e+02, 1.32357000e+05, 4.84827377e+03],\n",
       "       [2.17000000e+02, 1.16608000e+05, 7.83734907e+03],\n",
       "       [2.18000000e+02, 7.14320000e+04, 3.40823873e+03],\n",
       "       [2.19000000e+02, 9.27150000e+04, 4.11326650e+03],\n",
       "       [2.20000000e+02, 1.08266000e+05, 5.27247377e+03],\n",
       "       [2.21000000e+02, 9.35090000e+04, 4.53071234e+03],\n",
       "       [2.22000000e+02, 6.19780000e+04, 5.37069390e+03],\n",
       "       [2.23000000e+02, 2.13970000e+04, 6.24102307e+03],\n",
       "       [2.24000000e+02, 3.04920000e+04, 1.16712706e+03],\n",
       "       [2.25000000e+02, 3.65160000e+04, 1.68622458e+03],\n",
       "       [2.26000000e+02, 3.15650000e+04, 1.80107513e+03],\n",
       "       [2.27000000e+02, 8.78230000e+04, 1.48473810e+03],\n",
       "       [2.28000000e+02, 1.31401000e+05, 6.97930408e+03],\n",
       "       [2.29000000e+02, 1.46208000e+05, 7.55521835e+03],\n",
       "       [2.30000000e+02, 1.59421000e+05, 7.68488290e+03],\n",
       "       [2.31000000e+02, 1.52580000e+05, 9.82578015e+03],\n",
       "       [2.32000000e+02, 1.46951000e+05, 6.27802125e+03],\n",
       "       [2.33000000e+02, 1.28270000e+05, 1.04334127e+04],\n",
       "       [2.34000000e+02, 9.92400000e+04, 4.92726350e+03],\n",
       "       [2.35000000e+02, 1.29670000e+05, 6.94843434e+03],\n",
       "       [2.36000000e+02, 1.81365000e+05, 8.53007203e+03],\n",
       "       [2.37000000e+02, 1.48001000e+05, 6.07171686e+03],\n",
       "       [2.38000000e+02, 1.26030000e+04, 8.03622268e+03]])"
      ]
     },
     "execution_count": 102,
     "metadata": {},
     "output_type": "execute_result"
    }
   ],
   "source": [
    "steps_by_week.to_csv(\"steps_per_week_shashank.csv\", index=False)\n",
    "steps_by_week.to_numpy()\n",
    "steps_week_np = steps_by_week.to_numpy()\n",
    "steps_week_np"
   ]
  },
  {
   "cell_type": "code",
   "execution_count": 115,
   "metadata": {},
   "outputs": [
    {
     "name": "stdout",
     "output_type": "stream",
     "text": [
      "{'mean': [134636.25, 126032.75, 131760.25, 146805.5, 151290.0, 147402.5, 131213.25], 'stdDev': array([0., 0., 0., 0., 0., 0., 0.])}\n",
      "{'mean': [136758.33333333334, 119060.0, 124820.33333333333, 142600.33333333334, 152984.0, 152736.33333333334, 145676.66666666666, 121810.66666666667], 'stdDev': array([0., 0., 0., 0., 0., 0., 0., 0.])}\n",
      "{'mean': [155517.5, 114455.0, 113755.0, 137610.5, 149765.5, 156000.5, 152814.5, 138804.5, 109612.0], 'stdDev': array([0., 0., 0., 0., 0., 0., 0., 0., 0.])}\n"
     ]
    }
   ],
   "source": [
    "def setofInsightMonthly(steps_week,threeWeek = False,twoWeek = False):\n",
    "#   THIS FUNCTION FINDS and STORES THE INSIGHTS ON THE BASIS OF A 4WEEK/28DAY PERIOD \n",
    "#   ALSO FINDS ON THE BASIS OF 3 and 2 weeks\n",
    "    steps_week_np = steps_week.to_numpy()\n",
    "    steps_12week = np.flip(steps_week_np[len(steps_week_np)-13:len(steps_week_np)-2],axis = 0) #flipping the last to the first for easier access to indices \n",
    "    sliding_insight_four_week = {'mean':np.zeros(len(steps_12week) - 4),'stdDev':np.zeros(len(steps_12week) - 4)} #hardcoded sliding possibilities according to a month\n",
    "    sliding_insight_three_week = {'mean':np.zeros(len(steps_12week) - 3),'stdDev':np.zeros(len(steps_12week) - 3)}\n",
    "    sliding_insight_two_week = {'mean':np.zeros(len(steps_12week) - 2),'stdDev':np.zeros(len(steps_12week) - 2)}\n",
    "#     finding mean of Grouped weekly data\n",
    "    sliding_insight_four_week['mean'] = [np.mean(steps_12week[i:i+4,1]) for i in range(0,len(steps_12week)-4)]\n",
    "    if threeWeek:\n",
    "        sliding_insight_three_week['mean'] = [np.mean(steps_12week[i:i+3,1]) for i in range(0,len(steps_12week)-3)]\n",
    "    if twoWeek:\n",
    "        sliding_insight_two_week['mean'] = [(np.mean(steps_12week[i:i+2,1])) for i in range(0,len(steps_12week)-2)]\n",
    "    return sliding_insight_four_week,sliding_insight_three_week,sliding_insight_two_week\n",
    "\n",
    "A,B,C = setofInsightMonthly(steps_by_week,True,True)\n",
    "print(A)\n",
    "print(B)\n",
    "print(C)"
   ]
  },
  {
   "cell_type": "markdown",
   "metadata": {},
   "source": [
    "## Stand Count"
   ]
  },
  {
   "cell_type": "code",
   "execution_count": 108,
   "metadata": {},
   "outputs": [],
   "source": [
    "stand = pd.read_csv(\"AppleStandHour.csv\")"
   ]
  },
  {
   "cell_type": "code",
   "execution_count": 109,
   "metadata": {},
   "outputs": [
    {
     "data": {
      "text/plain": [
       "9073"
      ]
     },
     "execution_count": 109,
     "metadata": {},
     "output_type": "execute_result"
    }
   ],
   "source": [
    "len(stand)"
   ]
  },
  {
   "cell_type": "code",
   "execution_count": 110,
   "metadata": {},
   "outputs": [
    {
     "data": {
      "text/plain": [
       "Index(['sourceName', 'sourceVersion', 'device', 'type', 'unit', 'creationDate',\n",
       "       'startDate', 'endDate', 'value'],\n",
       "      dtype='object')"
      ]
     },
     "execution_count": 110,
     "metadata": {},
     "output_type": "execute_result"
    }
   ],
   "source": [
    "stand.columns"
   ]
  },
  {
   "cell_type": "code",
   "execution_count": 15,
   "metadata": {},
   "outputs": [
    {
     "data": {
      "text/html": [
       "<div>\n",
       "<style scoped>\n",
       "    .dataframe tbody tr th:only-of-type {\n",
       "        vertical-align: middle;\n",
       "    }\n",
       "\n",
       "    .dataframe tbody tr th {\n",
       "        vertical-align: top;\n",
       "    }\n",
       "\n",
       "    .dataframe thead th {\n",
       "        text-align: right;\n",
       "    }\n",
       "</style>\n",
       "<table border=\"1\" class=\"dataframe\">\n",
       "  <thead>\n",
       "    <tr style=\"text-align: right;\">\n",
       "      <th></th>\n",
       "      <th>sourceName</th>\n",
       "      <th>sourceVersion</th>\n",
       "      <th>device</th>\n",
       "      <th>type</th>\n",
       "      <th>unit</th>\n",
       "      <th>creationDate</th>\n",
       "      <th>startDate</th>\n",
       "      <th>endDate</th>\n",
       "      <th>value</th>\n",
       "    </tr>\n",
       "  </thead>\n",
       "  <tbody>\n",
       "    <tr>\n",
       "      <th>9068</th>\n",
       "      <td>Shashank’s Apple Watch</td>\n",
       "      <td>6.1.3</td>\n",
       "      <td>&lt;&lt;HKDevice: 0x2826a4be0&gt;, name:Apple Watch, ma...</td>\n",
       "      <td>AppleStandHour</td>\n",
       "      <td>NaN</td>\n",
       "      <td>2020-07-05 19:01:23 +0530</td>\n",
       "      <td>2020-07-05 19:00:00 +0530</td>\n",
       "      <td>2020-07-05 20:00:00 +0530</td>\n",
       "      <td>HKCategoryValueAppleStandHourStood</td>\n",
       "    </tr>\n",
       "    <tr>\n",
       "      <th>9069</th>\n",
       "      <td>Shashank’s Apple Watch</td>\n",
       "      <td>6.1.3</td>\n",
       "      <td>&lt;&lt;HKDevice: 0x2826a4cd0&gt;, name:Apple Watch, ma...</td>\n",
       "      <td>AppleStandHour</td>\n",
       "      <td>NaN</td>\n",
       "      <td>2020-07-05 20:11:10 +0530</td>\n",
       "      <td>2020-07-05 20:00:00 +0530</td>\n",
       "      <td>2020-07-05 21:00:00 +0530</td>\n",
       "      <td>HKCategoryValueAppleStandHourStood</td>\n",
       "    </tr>\n",
       "    <tr>\n",
       "      <th>9070</th>\n",
       "      <td>Shashank’s Apple Watch</td>\n",
       "      <td>6.1.3</td>\n",
       "      <td>&lt;&lt;HKDevice: 0x2826a4dc0&gt;, name:Apple Watch, ma...</td>\n",
       "      <td>AppleStandHour</td>\n",
       "      <td>NaN</td>\n",
       "      <td>2020-07-05 21:04:22 +0530</td>\n",
       "      <td>2020-07-05 21:00:00 +0530</td>\n",
       "      <td>2020-07-05 22:00:00 +0530</td>\n",
       "      <td>HKCategoryValueAppleStandHourStood</td>\n",
       "    </tr>\n",
       "    <tr>\n",
       "      <th>9071</th>\n",
       "      <td>Shashank’s Apple Watch</td>\n",
       "      <td>6.1.3</td>\n",
       "      <td>&lt;&lt;HKDevice: 0x2826a4eb0&gt;, name:Apple Watch, ma...</td>\n",
       "      <td>AppleStandHour</td>\n",
       "      <td>NaN</td>\n",
       "      <td>2020-07-05 22:01:13 +0530</td>\n",
       "      <td>2020-07-05 22:00:00 +0530</td>\n",
       "      <td>2020-07-05 23:00:00 +0530</td>\n",
       "      <td>HKCategoryValueAppleStandHourStood</td>\n",
       "    </tr>\n",
       "    <tr>\n",
       "      <th>9072</th>\n",
       "      <td>Shashank’s Apple Watch</td>\n",
       "      <td>6.1.3</td>\n",
       "      <td>&lt;&lt;HKDevice: 0x2826a4fa0&gt;, name:Apple Watch, ma...</td>\n",
       "      <td>AppleStandHour</td>\n",
       "      <td>NaN</td>\n",
       "      <td>2020-07-05 23:35:54 +0530</td>\n",
       "      <td>2020-07-05 23:00:00 +0530</td>\n",
       "      <td>2020-07-06 00:00:00 +0530</td>\n",
       "      <td>HKCategoryValueAppleStandHourStood</td>\n",
       "    </tr>\n",
       "  </tbody>\n",
       "</table>\n",
       "</div>"
      ],
      "text/plain": [
       "                  sourceName sourceVersion  \\\n",
       "9068  Shashank’s Apple Watch         6.1.3   \n",
       "9069  Shashank’s Apple Watch         6.1.3   \n",
       "9070  Shashank’s Apple Watch         6.1.3   \n",
       "9071  Shashank’s Apple Watch         6.1.3   \n",
       "9072  Shashank’s Apple Watch         6.1.3   \n",
       "\n",
       "                                                 device            type  unit  \\\n",
       "9068  <<HKDevice: 0x2826a4be0>, name:Apple Watch, ma...  AppleStandHour   NaN   \n",
       "9069  <<HKDevice: 0x2826a4cd0>, name:Apple Watch, ma...  AppleStandHour   NaN   \n",
       "9070  <<HKDevice: 0x2826a4dc0>, name:Apple Watch, ma...  AppleStandHour   NaN   \n",
       "9071  <<HKDevice: 0x2826a4eb0>, name:Apple Watch, ma...  AppleStandHour   NaN   \n",
       "9072  <<HKDevice: 0x2826a4fa0>, name:Apple Watch, ma...  AppleStandHour   NaN   \n",
       "\n",
       "                   creationDate                  startDate  \\\n",
       "9068  2020-07-05 19:01:23 +0530  2020-07-05 19:00:00 +0530   \n",
       "9069  2020-07-05 20:11:10 +0530  2020-07-05 20:00:00 +0530   \n",
       "9070  2020-07-05 21:04:22 +0530  2020-07-05 21:00:00 +0530   \n",
       "9071  2020-07-05 22:01:13 +0530  2020-07-05 22:00:00 +0530   \n",
       "9072  2020-07-05 23:35:54 +0530  2020-07-05 23:00:00 +0530   \n",
       "\n",
       "                        endDate                               value  \n",
       "9068  2020-07-05 20:00:00 +0530  HKCategoryValueAppleStandHourStood  \n",
       "9069  2020-07-05 21:00:00 +0530  HKCategoryValueAppleStandHourStood  \n",
       "9070  2020-07-05 22:00:00 +0530  HKCategoryValueAppleStandHourStood  \n",
       "9071  2020-07-05 23:00:00 +0530  HKCategoryValueAppleStandHourStood  \n",
       "9072  2020-07-06 00:00:00 +0530  HKCategoryValueAppleStandHourStood  "
      ]
     },
     "execution_count": 15,
     "metadata": {},
     "output_type": "execute_result"
    }
   ],
   "source": [
    "stand.tail()"
   ]
  },
  {
   "cell_type": "code",
   "execution_count": 17,
   "metadata": {},
   "outputs": [
    {
     "ename": "ValueError",
     "evalue": "time data '2017-11-18 02:30:00' does not match format '%Y%m%d%H%M%S'",
     "output_type": "error",
     "traceback": [
      "\u001b[0;31m---------------------------------------------------------------------------\u001b[0m",
      "\u001b[0;31mValueError\u001b[0m                                Traceback (most recent call last)",
      "\u001b[0;32m~/Desktop/CodesTemp/CVPR/DroneRacingData/apple_health_export/qs_ledger/apple_health/apple-health-data-parser.py\u001b[0m in \u001b[0;36m<module>\u001b[0;34m\u001b[0m\n\u001b[1;32m      5\u001b[0m \u001b[0;34m\u001b[0m\u001b[0m\n\u001b[1;32m      6\u001b[0m \u001b[0;32mfor\u001b[0m \u001b[0mi\u001b[0m \u001b[0;32min\u001b[0m \u001b[0mrange\u001b[0m\u001b[0;34m(\u001b[0m\u001b[0;36m0\u001b[0m\u001b[0;34m,\u001b[0m\u001b[0mlen\u001b[0m\u001b[0;34m(\u001b[0m\u001b[0mstand\u001b[0m\u001b[0;34m[\u001b[0m\u001b[0;34m'endDate'\u001b[0m\u001b[0;34m]\u001b[0m\u001b[0;34m)\u001b[0m\u001b[0;34m)\u001b[0m\u001b[0;34m:\u001b[0m\u001b[0;34m\u001b[0m\u001b[0m\n\u001b[0;32m----> 7\u001b[0;31m     \u001b[0mt1\u001b[0m \u001b[0;34m=\u001b[0m \u001b[0mdatetime\u001b[0m\u001b[0;34m.\u001b[0m\u001b[0mstrptime\u001b[0m\u001b[0;34m(\u001b[0m\u001b[0mstand\u001b[0m\u001b[0;34m[\u001b[0m\u001b[0;34m'endDate'\u001b[0m\u001b[0;34m]\u001b[0m\u001b[0;34m[\u001b[0m\u001b[0mi\u001b[0m\u001b[0;34m]\u001b[0m\u001b[0;34m[\u001b[0m\u001b[0;36m0\u001b[0m\u001b[0;34m:\u001b[0m\u001b[0;36m19\u001b[0m\u001b[0;34m]\u001b[0m\u001b[0;34m,\u001b[0m \u001b[0;34m'%Y%m%d%H%M%S'\u001b[0m\u001b[0;34m)\u001b[0m\u001b[0;34m\u001b[0m\u001b[0m\n\u001b[0m\u001b[1;32m      8\u001b[0m \u001b[0;31m#     t1 = datetime.time(*map(int, stand['endDate'][i][12:19].split(':')))\u001b[0m\u001b[0;34m\u001b[0m\u001b[0;34m\u001b[0m\u001b[0m\n\u001b[1;32m      9\u001b[0m \u001b[0;31m#     t2 = datetime.time(*map(int, stand['startDate'][i][12:19].split(':')))\u001b[0m\u001b[0;34m\u001b[0m\u001b[0;34m\u001b[0m\u001b[0m\n",
      "\u001b[0;32m/Library/Frameworks/Python.framework/Versions/3.6/lib/python3.6/_strptime.py\u001b[0m in \u001b[0;36m_strptime_datetime\u001b[0;34m(cls, data_string, format)\u001b[0m\n\u001b[1;32m    563\u001b[0m     \"\"\"Return a class cls instance based on the input string and the\n\u001b[1;32m    564\u001b[0m     format string.\"\"\"\n\u001b[0;32m--> 565\u001b[0;31m     \u001b[0mtt\u001b[0m\u001b[0;34m,\u001b[0m \u001b[0mfraction\u001b[0m \u001b[0;34m=\u001b[0m \u001b[0m_strptime\u001b[0m\u001b[0;34m(\u001b[0m\u001b[0mdata_string\u001b[0m\u001b[0;34m,\u001b[0m \u001b[0mformat\u001b[0m\u001b[0;34m)\u001b[0m\u001b[0;34m\u001b[0m\u001b[0m\n\u001b[0m\u001b[1;32m    566\u001b[0m     \u001b[0mtzname\u001b[0m\u001b[0;34m,\u001b[0m \u001b[0mgmtoff\u001b[0m \u001b[0;34m=\u001b[0m \u001b[0mtt\u001b[0m\u001b[0;34m[\u001b[0m\u001b[0;34m-\u001b[0m\u001b[0;36m2\u001b[0m\u001b[0;34m:\u001b[0m\u001b[0;34m]\u001b[0m\u001b[0;34m\u001b[0m\u001b[0m\n\u001b[1;32m    567\u001b[0m     \u001b[0margs\u001b[0m \u001b[0;34m=\u001b[0m \u001b[0mtt\u001b[0m\u001b[0;34m[\u001b[0m\u001b[0;34m:\u001b[0m\u001b[0;36m6\u001b[0m\u001b[0;34m]\u001b[0m \u001b[0;34m+\u001b[0m \u001b[0;34m(\u001b[0m\u001b[0mfraction\u001b[0m\u001b[0;34m,\u001b[0m\u001b[0;34m)\u001b[0m\u001b[0;34m\u001b[0m\u001b[0m\n",
      "\u001b[0;32m/Library/Frameworks/Python.framework/Versions/3.6/lib/python3.6/_strptime.py\u001b[0m in \u001b[0;36m_strptime\u001b[0;34m(data_string, format)\u001b[0m\n\u001b[1;32m    360\u001b[0m     \u001b[0;32mif\u001b[0m \u001b[0;32mnot\u001b[0m \u001b[0mfound\u001b[0m\u001b[0;34m:\u001b[0m\u001b[0;34m\u001b[0m\u001b[0m\n\u001b[1;32m    361\u001b[0m         raise ValueError(\"time data %r does not match format %r\" %\n\u001b[0;32m--> 362\u001b[0;31m                          (data_string, format))\n\u001b[0m\u001b[1;32m    363\u001b[0m     \u001b[0;32mif\u001b[0m \u001b[0mlen\u001b[0m\u001b[0;34m(\u001b[0m\u001b[0mdata_string\u001b[0m\u001b[0;34m)\u001b[0m \u001b[0;34m!=\u001b[0m \u001b[0mfound\u001b[0m\u001b[0;34m.\u001b[0m\u001b[0mend\u001b[0m\u001b[0;34m(\u001b[0m\u001b[0;34m)\u001b[0m\u001b[0;34m:\u001b[0m\u001b[0;34m\u001b[0m\u001b[0m\n\u001b[1;32m    364\u001b[0m         raise ValueError(\"unconverted data remains: %s\" %\n",
      "\u001b[0;31mValueError\u001b[0m: time data '2017-11-18 02:30:00' does not match format '%Y%m%d%H%M%S'"
     ]
    }
   ],
   "source": [
    "# stand['value'] = stand['endDate'] - stand['startDate']\n",
    "a = ['i' for i in range(0,len(stand['endDate']))]\n",
    "# for i in range(0,len(stand['endDate'])):\n",
    "    \n",
    "    \n",
    "for i in range(0,len(stand['endDate'])):\n",
    "    t1 = datetime.strptime(stand['endDate'][i][0:19], '%Y%m%d%H%M%S')\n",
    "#     t1 = datetime.time(*map(int, stand['endDate'][i][12:19].split(':')))\n",
    "#     t2 = datetime.time(*map(int, stand['startDate'][i][12:19].split(':')))\n",
    "    t2 = datetime.strptime(stand['startDate'][i][0:19], '%Y%m%d%H%M%S')\n",
    "    a[i] =  t1-t2\n",
    "stand['value'] = a\n",
    "print(stand['value'].tail())"
   ]
  },
  {
   "cell_type": "markdown",
   "metadata": {},
   "source": [
    "------"
   ]
  },
  {
   "cell_type": "markdown",
   "metadata": {},
   "source": [
    "## Resting Heart Rate (HR)"
   ]
  },
  {
   "cell_type": "code",
   "execution_count": 18,
   "metadata": {},
   "outputs": [],
   "source": [
    "restingHR = pd.read_csv(\"RestingHeartRate.csv\")"
   ]
  },
  {
   "cell_type": "code",
   "execution_count": 19,
   "metadata": {},
   "outputs": [
    {
     "data": {
      "text/plain": [
       "645"
      ]
     },
     "execution_count": 19,
     "metadata": {},
     "output_type": "execute_result"
    }
   ],
   "source": [
    "len(restingHR)"
   ]
  },
  {
   "cell_type": "code",
   "execution_count": 20,
   "metadata": {},
   "outputs": [
    {
     "data": {
      "text/html": [
       "<div>\n",
       "<style scoped>\n",
       "    .dataframe tbody tr th:only-of-type {\n",
       "        vertical-align: middle;\n",
       "    }\n",
       "\n",
       "    .dataframe tbody tr th {\n",
       "        vertical-align: top;\n",
       "    }\n",
       "\n",
       "    .dataframe thead th {\n",
       "        text-align: right;\n",
       "    }\n",
       "</style>\n",
       "<table border=\"1\" class=\"dataframe\">\n",
       "  <thead>\n",
       "    <tr style=\"text-align: right;\">\n",
       "      <th></th>\n",
       "      <th>device</th>\n",
       "      <th>value</th>\n",
       "    </tr>\n",
       "  </thead>\n",
       "  <tbody>\n",
       "    <tr>\n",
       "      <th>count</th>\n",
       "      <td>0.0</td>\n",
       "      <td>645.000000</td>\n",
       "    </tr>\n",
       "    <tr>\n",
       "      <th>mean</th>\n",
       "      <td>NaN</td>\n",
       "      <td>69.809302</td>\n",
       "    </tr>\n",
       "    <tr>\n",
       "      <th>std</th>\n",
       "      <td>NaN</td>\n",
       "      <td>5.422455</td>\n",
       "    </tr>\n",
       "    <tr>\n",
       "      <th>min</th>\n",
       "      <td>NaN</td>\n",
       "      <td>50.000000</td>\n",
       "    </tr>\n",
       "    <tr>\n",
       "      <th>25%</th>\n",
       "      <td>NaN</td>\n",
       "      <td>67.000000</td>\n",
       "    </tr>\n",
       "    <tr>\n",
       "      <th>50%</th>\n",
       "      <td>NaN</td>\n",
       "      <td>69.000000</td>\n",
       "    </tr>\n",
       "    <tr>\n",
       "      <th>75%</th>\n",
       "      <td>NaN</td>\n",
       "      <td>72.000000</td>\n",
       "    </tr>\n",
       "    <tr>\n",
       "      <th>max</th>\n",
       "      <td>NaN</td>\n",
       "      <td>98.000000</td>\n",
       "    </tr>\n",
       "  </tbody>\n",
       "</table>\n",
       "</div>"
      ],
      "text/plain": [
       "       device       value\n",
       "count     0.0  645.000000\n",
       "mean      NaN   69.809302\n",
       "std       NaN    5.422455\n",
       "min       NaN   50.000000\n",
       "25%       NaN   67.000000\n",
       "50%       NaN   69.000000\n",
       "75%       NaN   72.000000\n",
       "max       NaN   98.000000"
      ]
     },
     "execution_count": 20,
     "metadata": {},
     "output_type": "execute_result"
    }
   ],
   "source": [
    "restingHR.describe()"
   ]
  },
  {
   "cell_type": "markdown",
   "metadata": {},
   "source": [
    "---"
   ]
  },
  {
   "cell_type": "markdown",
   "metadata": {},
   "source": [
    "## Walking Heart Rate (HR) Average"
   ]
  },
  {
   "cell_type": "code",
   "execution_count": 21,
   "metadata": {},
   "outputs": [],
   "source": [
    "walkingHR = pd.read_csv(\"WalkingHeartRateAverage.csv\")"
   ]
  },
  {
   "cell_type": "code",
   "execution_count": 22,
   "metadata": {},
   "outputs": [
    {
     "data": {
      "text/plain": [
       "539"
      ]
     },
     "execution_count": 22,
     "metadata": {},
     "output_type": "execute_result"
    }
   ],
   "source": [
    "len(walkingHR)"
   ]
  },
  {
   "cell_type": "code",
   "execution_count": 23,
   "metadata": {},
   "outputs": [
    {
     "data": {
      "text/html": [
       "<div>\n",
       "<style scoped>\n",
       "    .dataframe tbody tr th:only-of-type {\n",
       "        vertical-align: middle;\n",
       "    }\n",
       "\n",
       "    .dataframe tbody tr th {\n",
       "        vertical-align: top;\n",
       "    }\n",
       "\n",
       "    .dataframe thead th {\n",
       "        text-align: right;\n",
       "    }\n",
       "</style>\n",
       "<table border=\"1\" class=\"dataframe\">\n",
       "  <thead>\n",
       "    <tr style=\"text-align: right;\">\n",
       "      <th></th>\n",
       "      <th>device</th>\n",
       "      <th>value</th>\n",
       "    </tr>\n",
       "  </thead>\n",
       "  <tbody>\n",
       "    <tr>\n",
       "      <th>count</th>\n",
       "      <td>0.0</td>\n",
       "      <td>539.000000</td>\n",
       "    </tr>\n",
       "    <tr>\n",
       "      <th>mean</th>\n",
       "      <td>NaN</td>\n",
       "      <td>99.084416</td>\n",
       "    </tr>\n",
       "    <tr>\n",
       "      <th>std</th>\n",
       "      <td>NaN</td>\n",
       "      <td>11.996546</td>\n",
       "    </tr>\n",
       "    <tr>\n",
       "      <th>min</th>\n",
       "      <td>NaN</td>\n",
       "      <td>72.500000</td>\n",
       "    </tr>\n",
       "    <tr>\n",
       "      <th>25%</th>\n",
       "      <td>NaN</td>\n",
       "      <td>91.000000</td>\n",
       "    </tr>\n",
       "    <tr>\n",
       "      <th>50%</th>\n",
       "      <td>NaN</td>\n",
       "      <td>97.000000</td>\n",
       "    </tr>\n",
       "    <tr>\n",
       "      <th>75%</th>\n",
       "      <td>NaN</td>\n",
       "      <td>104.000000</td>\n",
       "    </tr>\n",
       "    <tr>\n",
       "      <th>max</th>\n",
       "      <td>NaN</td>\n",
       "      <td>143.000000</td>\n",
       "    </tr>\n",
       "  </tbody>\n",
       "</table>\n",
       "</div>"
      ],
      "text/plain": [
       "       device       value\n",
       "count     0.0  539.000000\n",
       "mean      NaN   99.084416\n",
       "std       NaN   11.996546\n",
       "min       NaN   72.500000\n",
       "25%       NaN   91.000000\n",
       "50%       NaN   97.000000\n",
       "75%       NaN  104.000000\n",
       "max       NaN  143.000000"
      ]
     },
     "execution_count": 23,
     "metadata": {},
     "output_type": "execute_result"
    }
   ],
   "source": [
    "walkingHR.describe()"
   ]
  },
  {
   "cell_type": "markdown",
   "metadata": {},
   "source": [
    "---"
   ]
  },
  {
   "cell_type": "markdown",
   "metadata": {},
   "source": [
    "## Heart Rate Variability (HRV)"
   ]
  },
  {
   "cell_type": "code",
   "execution_count": 24,
   "metadata": {},
   "outputs": [],
   "source": [
    "hrv = pd.read_csv(\"HeartRateVariabilitySDNN.csv\")"
   ]
  },
  {
   "cell_type": "code",
   "execution_count": 25,
   "metadata": {},
   "outputs": [
    {
     "data": {
      "text/plain": [
       "1687"
      ]
     },
     "execution_count": 25,
     "metadata": {},
     "output_type": "execute_result"
    }
   ],
   "source": [
    "len(hrv)"
   ]
  },
  {
   "cell_type": "code",
   "execution_count": 26,
   "metadata": {},
   "outputs": [
    {
     "data": {
      "text/plain": [
       "Index(['sourceName', 'sourceVersion', 'device', 'type', 'unit', 'creationDate',\n",
       "       'startDate', 'endDate', 'value'],\n",
       "      dtype='object')"
      ]
     },
     "execution_count": 26,
     "metadata": {},
     "output_type": "execute_result"
    }
   ],
   "source": [
    "hrv.columns"
   ]
  },
  {
   "cell_type": "code",
   "execution_count": 27,
   "metadata": {},
   "outputs": [
    {
     "data": {
      "text/html": [
       "<div>\n",
       "<style scoped>\n",
       "    .dataframe tbody tr th:only-of-type {\n",
       "        vertical-align: middle;\n",
       "    }\n",
       "\n",
       "    .dataframe tbody tr th {\n",
       "        vertical-align: top;\n",
       "    }\n",
       "\n",
       "    .dataframe thead th {\n",
       "        text-align: right;\n",
       "    }\n",
       "</style>\n",
       "<table border=\"1\" class=\"dataframe\">\n",
       "  <thead>\n",
       "    <tr style=\"text-align: right;\">\n",
       "      <th></th>\n",
       "      <th>value</th>\n",
       "    </tr>\n",
       "  </thead>\n",
       "  <tbody>\n",
       "    <tr>\n",
       "      <th>count</th>\n",
       "      <td>1687.000000</td>\n",
       "    </tr>\n",
       "    <tr>\n",
       "      <th>mean</th>\n",
       "      <td>33.308511</td>\n",
       "    </tr>\n",
       "    <tr>\n",
       "      <th>std</th>\n",
       "      <td>13.458962</td>\n",
       "    </tr>\n",
       "    <tr>\n",
       "      <th>min</th>\n",
       "      <td>7.327180</td>\n",
       "    </tr>\n",
       "    <tr>\n",
       "      <th>25%</th>\n",
       "      <td>23.761850</td>\n",
       "    </tr>\n",
       "    <tr>\n",
       "      <th>50%</th>\n",
       "      <td>31.081500</td>\n",
       "    </tr>\n",
       "    <tr>\n",
       "      <th>75%</th>\n",
       "      <td>40.132200</td>\n",
       "    </tr>\n",
       "    <tr>\n",
       "      <th>max</th>\n",
       "      <td>160.640000</td>\n",
       "    </tr>\n",
       "  </tbody>\n",
       "</table>\n",
       "</div>"
      ],
      "text/plain": [
       "             value\n",
       "count  1687.000000\n",
       "mean     33.308511\n",
       "std      13.458962\n",
       "min       7.327180\n",
       "25%      23.761850\n",
       "50%      31.081500\n",
       "75%      40.132200\n",
       "max     160.640000"
      ]
     },
     "execution_count": 27,
     "metadata": {},
     "output_type": "execute_result"
    }
   ],
   "source": [
    "hrv.describe()"
   ]
  },
  {
   "cell_type": "code",
   "execution_count": 28,
   "metadata": {},
   "outputs": [
    {
     "data": {
      "text/html": [
       "<div>\n",
       "<style scoped>\n",
       "    .dataframe tbody tr th:only-of-type {\n",
       "        vertical-align: middle;\n",
       "    }\n",
       "\n",
       "    .dataframe tbody tr th {\n",
       "        vertical-align: top;\n",
       "    }\n",
       "\n",
       "    .dataframe thead th {\n",
       "        text-align: right;\n",
       "    }\n",
       "</style>\n",
       "<table border=\"1\" class=\"dataframe\">\n",
       "  <thead>\n",
       "    <tr style=\"text-align: right;\">\n",
       "      <th></th>\n",
       "      <th>sourceName</th>\n",
       "      <th>sourceVersion</th>\n",
       "      <th>device</th>\n",
       "      <th>type</th>\n",
       "      <th>unit</th>\n",
       "      <th>creationDate</th>\n",
       "      <th>startDate</th>\n",
       "      <th>endDate</th>\n",
       "      <th>value</th>\n",
       "    </tr>\n",
       "  </thead>\n",
       "  <tbody>\n",
       "    <tr>\n",
       "      <th>1682</th>\n",
       "      <td>Shashank’s Apple Watch</td>\n",
       "      <td>6.1.3</td>\n",
       "      <td>&lt;&lt;HKDevice: 0x282780a00&gt;, name:Apple Watch, ma...</td>\n",
       "      <td>HeartRateVariabilitySDNN</td>\n",
       "      <td>ms</td>\n",
       "      <td>2020-07-05 11:54:27 +0530</td>\n",
       "      <td>2020-07-05 11:53:26 +0530</td>\n",
       "      <td>2020-07-05 11:54:27 +0530</td>\n",
       "      <td>21.7083</td>\n",
       "    </tr>\n",
       "    <tr>\n",
       "      <th>1683</th>\n",
       "      <td>Shashank’s Apple Watch</td>\n",
       "      <td>6.1.3</td>\n",
       "      <td>&lt;&lt;HKDevice: 0x282784af0&gt;, name:Apple Watch, ma...</td>\n",
       "      <td>HeartRateVariabilitySDNN</td>\n",
       "      <td>ms</td>\n",
       "      <td>2020-07-05 13:55:48 +0530</td>\n",
       "      <td>2020-07-05 13:54:43 +0530</td>\n",
       "      <td>2020-07-05 13:55:48 +0530</td>\n",
       "      <td>38.0041</td>\n",
       "    </tr>\n",
       "    <tr>\n",
       "      <th>1684</th>\n",
       "      <td>Shashank’s Apple Watch</td>\n",
       "      <td>6.1.3</td>\n",
       "      <td>&lt;&lt;HKDevice: 0x282785a90&gt;, name:Apple Watch, ma...</td>\n",
       "      <td>HeartRateVariabilitySDNN</td>\n",
       "      <td>ms</td>\n",
       "      <td>2020-07-05 17:54:11 +0530</td>\n",
       "      <td>2020-07-05 17:53:06 +0530</td>\n",
       "      <td>2020-07-05 17:54:11 +0530</td>\n",
       "      <td>31.3568</td>\n",
       "    </tr>\n",
       "    <tr>\n",
       "      <th>1685</th>\n",
       "      <td>Shashank’s Apple Watch</td>\n",
       "      <td>6.1.3</td>\n",
       "      <td>&lt;&lt;HKDevice: 0x282786260&gt;, name:Apple Watch, ma...</td>\n",
       "      <td>HeartRateVariabilitySDNN</td>\n",
       "      <td>ms</td>\n",
       "      <td>2020-07-05 18:09:13 +0530</td>\n",
       "      <td>2020-07-05 18:08:10 +0530</td>\n",
       "      <td>2020-07-05 18:09:13 +0530</td>\n",
       "      <td>30.0479</td>\n",
       "    </tr>\n",
       "    <tr>\n",
       "      <th>1686</th>\n",
       "      <td>Shashank’s Apple Watch</td>\n",
       "      <td>6.1.3</td>\n",
       "      <td>&lt;&lt;HKDevice: 0x2827863f0&gt;, name:Apple Watch, ma...</td>\n",
       "      <td>HeartRateVariabilitySDNN</td>\n",
       "      <td>ms</td>\n",
       "      <td>2020-07-05 21:55:17 +0530</td>\n",
       "      <td>2020-07-05 21:54:11 +0530</td>\n",
       "      <td>2020-07-05 21:55:17 +0530</td>\n",
       "      <td>28.2694</td>\n",
       "    </tr>\n",
       "  </tbody>\n",
       "</table>\n",
       "</div>"
      ],
      "text/plain": [
       "                  sourceName sourceVersion  \\\n",
       "1682  Shashank’s Apple Watch         6.1.3   \n",
       "1683  Shashank’s Apple Watch         6.1.3   \n",
       "1684  Shashank’s Apple Watch         6.1.3   \n",
       "1685  Shashank’s Apple Watch         6.1.3   \n",
       "1686  Shashank’s Apple Watch         6.1.3   \n",
       "\n",
       "                                                 device  \\\n",
       "1682  <<HKDevice: 0x282780a00>, name:Apple Watch, ma...   \n",
       "1683  <<HKDevice: 0x282784af0>, name:Apple Watch, ma...   \n",
       "1684  <<HKDevice: 0x282785a90>, name:Apple Watch, ma...   \n",
       "1685  <<HKDevice: 0x282786260>, name:Apple Watch, ma...   \n",
       "1686  <<HKDevice: 0x2827863f0>, name:Apple Watch, ma...   \n",
       "\n",
       "                          type unit               creationDate  \\\n",
       "1682  HeartRateVariabilitySDNN   ms  2020-07-05 11:54:27 +0530   \n",
       "1683  HeartRateVariabilitySDNN   ms  2020-07-05 13:55:48 +0530   \n",
       "1684  HeartRateVariabilitySDNN   ms  2020-07-05 17:54:11 +0530   \n",
       "1685  HeartRateVariabilitySDNN   ms  2020-07-05 18:09:13 +0530   \n",
       "1686  HeartRateVariabilitySDNN   ms  2020-07-05 21:55:17 +0530   \n",
       "\n",
       "                      startDate                    endDate    value  \n",
       "1682  2020-07-05 11:53:26 +0530  2020-07-05 11:54:27 +0530  21.7083  \n",
       "1683  2020-07-05 13:54:43 +0530  2020-07-05 13:55:48 +0530  38.0041  \n",
       "1684  2020-07-05 17:53:06 +0530  2020-07-05 17:54:11 +0530  31.3568  \n",
       "1685  2020-07-05 18:08:10 +0530  2020-07-05 18:09:13 +0530  30.0479  \n",
       "1686  2020-07-05 21:54:11 +0530  2020-07-05 21:55:17 +0530  28.2694  "
      ]
     },
     "execution_count": 28,
     "metadata": {},
     "output_type": "execute_result"
    }
   ],
   "source": [
    "hrv.tail()"
   ]
  },
  {
   "cell_type": "markdown",
   "metadata": {},
   "source": [
    "-------"
   ]
  },
  {
   "cell_type": "markdown",
   "metadata": {},
   "source": [
    "## VO2 Max"
   ]
  },
  {
   "cell_type": "code",
   "execution_count": 29,
   "metadata": {},
   "outputs": [],
   "source": [
    "vo2max = pd.read_csv(\"VO2Max.csv\")"
   ]
  },
  {
   "cell_type": "code",
   "execution_count": 30,
   "metadata": {},
   "outputs": [
    {
     "data": {
      "text/plain": [
       "57"
      ]
     },
     "execution_count": 30,
     "metadata": {},
     "output_type": "execute_result"
    }
   ],
   "source": [
    "len(vo2max)"
   ]
  },
  {
   "cell_type": "code",
   "execution_count": 31,
   "metadata": {},
   "outputs": [
    {
     "data": {
      "text/html": [
       "<div>\n",
       "<style scoped>\n",
       "    .dataframe tbody tr th:only-of-type {\n",
       "        vertical-align: middle;\n",
       "    }\n",
       "\n",
       "    .dataframe tbody tr th {\n",
       "        vertical-align: top;\n",
       "    }\n",
       "\n",
       "    .dataframe thead th {\n",
       "        text-align: right;\n",
       "    }\n",
       "</style>\n",
       "<table border=\"1\" class=\"dataframe\">\n",
       "  <thead>\n",
       "    <tr style=\"text-align: right;\">\n",
       "      <th></th>\n",
       "      <th>sourceVersion</th>\n",
       "      <th>device</th>\n",
       "      <th>value</th>\n",
       "    </tr>\n",
       "  </thead>\n",
       "  <tbody>\n",
       "    <tr>\n",
       "      <th>count</th>\n",
       "      <td>0.0</td>\n",
       "      <td>0.0</td>\n",
       "      <td>57.000000</td>\n",
       "    </tr>\n",
       "    <tr>\n",
       "      <th>mean</th>\n",
       "      <td>NaN</td>\n",
       "      <td>NaN</td>\n",
       "      <td>33.181767</td>\n",
       "    </tr>\n",
       "    <tr>\n",
       "      <th>std</th>\n",
       "      <td>NaN</td>\n",
       "      <td>NaN</td>\n",
       "      <td>2.716489</td>\n",
       "    </tr>\n",
       "    <tr>\n",
       "      <th>min</th>\n",
       "      <td>NaN</td>\n",
       "      <td>NaN</td>\n",
       "      <td>29.883700</td>\n",
       "    </tr>\n",
       "    <tr>\n",
       "      <th>25%</th>\n",
       "      <td>NaN</td>\n",
       "      <td>NaN</td>\n",
       "      <td>31.768700</td>\n",
       "    </tr>\n",
       "    <tr>\n",
       "      <th>50%</th>\n",
       "      <td>NaN</td>\n",
       "      <td>NaN</td>\n",
       "      <td>31.886300</td>\n",
       "    </tr>\n",
       "    <tr>\n",
       "      <th>75%</th>\n",
       "      <td>NaN</td>\n",
       "      <td>NaN</td>\n",
       "      <td>33.954500</td>\n",
       "    </tr>\n",
       "    <tr>\n",
       "      <th>max</th>\n",
       "      <td>NaN</td>\n",
       "      <td>NaN</td>\n",
       "      <td>41.459300</td>\n",
       "    </tr>\n",
       "  </tbody>\n",
       "</table>\n",
       "</div>"
      ],
      "text/plain": [
       "       sourceVersion  device      value\n",
       "count            0.0     0.0  57.000000\n",
       "mean             NaN     NaN  33.181767\n",
       "std              NaN     NaN   2.716489\n",
       "min              NaN     NaN  29.883700\n",
       "25%              NaN     NaN  31.768700\n",
       "50%              NaN     NaN  31.886300\n",
       "75%              NaN     NaN  33.954500\n",
       "max              NaN     NaN  41.459300"
      ]
     },
     "execution_count": 31,
     "metadata": {},
     "output_type": "execute_result"
    }
   ],
   "source": [
    "vo2max.describe()"
   ]
  },
  {
   "cell_type": "markdown",
   "metadata": {},
   "source": [
    "----"
   ]
  },
  {
   "cell_type": "markdown",
   "metadata": {},
   "source": [
    "## Blood Pressure"
   ]
  },
  {
   "cell_type": "code",
   "execution_count": 32,
   "metadata": {},
   "outputs": [
    {
     "ename": "FileNotFoundError",
     "evalue": "File b'BloodPressureDiastolic.csv' does not exist",
     "output_type": "error",
     "traceback": [
      "\u001b[0;31m---------------------------------------------------------------------------\u001b[0m",
      "\u001b[0;31mFileNotFoundError\u001b[0m                         Traceback (most recent call last)",
      "\u001b[0;32m~/Desktop/CodesTemp/CVPR/DroneRacingData/apple_health_export/qs_ledger/apple_health/apple-health-data-parser.py\u001b[0m in \u001b[0;36m<module>\u001b[0;34m\u001b[0m\n\u001b[0;32m----> 1\u001b[0;31m \u001b[0mdiastolic\u001b[0m \u001b[0;34m=\u001b[0m \u001b[0mpd\u001b[0m\u001b[0;34m.\u001b[0m\u001b[0mread_csv\u001b[0m\u001b[0;34m(\u001b[0m\u001b[0;34m\"BloodPressureDiastolic.csv\"\u001b[0m\u001b[0;34m)\u001b[0m\u001b[0;34m\u001b[0m\u001b[0m\n\u001b[0m\u001b[1;32m      2\u001b[0m \u001b[0msystolic\u001b[0m \u001b[0;34m=\u001b[0m \u001b[0mpd\u001b[0m\u001b[0;34m.\u001b[0m\u001b[0mread_csv\u001b[0m\u001b[0;34m(\u001b[0m\u001b[0;34m\"BloodPressureSystolic.csv\"\u001b[0m\u001b[0;34m)\u001b[0m\u001b[0;34m\u001b[0m\u001b[0m\n",
      "\u001b[0;32m/Library/Frameworks/Python.framework/Versions/3.6/lib/python3.6/site-packages/pandas/io/parsers.py\u001b[0m in \u001b[0;36mparser_f\u001b[0;34m(filepath_or_buffer, sep, delimiter, header, names, index_col, usecols, squeeze, prefix, mangle_dupe_cols, dtype, engine, converters, true_values, false_values, skipinitialspace, skiprows, nrows, na_values, keep_default_na, na_filter, verbose, skip_blank_lines, parse_dates, infer_datetime_format, keep_date_col, date_parser, dayfirst, iterator, chunksize, compression, thousands, decimal, lineterminator, quotechar, quoting, escapechar, comment, encoding, dialect, tupleize_cols, error_bad_lines, warn_bad_lines, skipfooter, doublequote, delim_whitespace, low_memory, memory_map, float_precision)\u001b[0m\n\u001b[1;32m    676\u001b[0m                     skip_blank_lines=skip_blank_lines)\n\u001b[1;32m    677\u001b[0m \u001b[0;34m\u001b[0m\u001b[0m\n\u001b[0;32m--> 678\u001b[0;31m         \u001b[0;32mreturn\u001b[0m \u001b[0m_read\u001b[0m\u001b[0;34m(\u001b[0m\u001b[0mfilepath_or_buffer\u001b[0m\u001b[0;34m,\u001b[0m \u001b[0mkwds\u001b[0m\u001b[0;34m)\u001b[0m\u001b[0;34m\u001b[0m\u001b[0m\n\u001b[0m\u001b[1;32m    679\u001b[0m \u001b[0;34m\u001b[0m\u001b[0m\n\u001b[1;32m    680\u001b[0m     \u001b[0mparser_f\u001b[0m\u001b[0;34m.\u001b[0m\u001b[0m__name__\u001b[0m \u001b[0;34m=\u001b[0m \u001b[0mname\u001b[0m\u001b[0;34m\u001b[0m\u001b[0m\n",
      "\u001b[0;32m/Library/Frameworks/Python.framework/Versions/3.6/lib/python3.6/site-packages/pandas/io/parsers.py\u001b[0m in \u001b[0;36m_read\u001b[0;34m(filepath_or_buffer, kwds)\u001b[0m\n\u001b[1;32m    438\u001b[0m \u001b[0;34m\u001b[0m\u001b[0m\n\u001b[1;32m    439\u001b[0m     \u001b[0;31m# Create the parser.\u001b[0m\u001b[0;34m\u001b[0m\u001b[0;34m\u001b[0m\u001b[0m\n\u001b[0;32m--> 440\u001b[0;31m     \u001b[0mparser\u001b[0m \u001b[0;34m=\u001b[0m \u001b[0mTextFileReader\u001b[0m\u001b[0;34m(\u001b[0m\u001b[0mfilepath_or_buffer\u001b[0m\u001b[0;34m,\u001b[0m \u001b[0;34m**\u001b[0m\u001b[0mkwds\u001b[0m\u001b[0;34m)\u001b[0m\u001b[0;34m\u001b[0m\u001b[0m\n\u001b[0m\u001b[1;32m    441\u001b[0m \u001b[0;34m\u001b[0m\u001b[0m\n\u001b[1;32m    442\u001b[0m     \u001b[0;32mif\u001b[0m \u001b[0mchunksize\u001b[0m \u001b[0;32mor\u001b[0m \u001b[0miterator\u001b[0m\u001b[0;34m:\u001b[0m\u001b[0;34m\u001b[0m\u001b[0m\n",
      "\u001b[0;32m/Library/Frameworks/Python.framework/Versions/3.6/lib/python3.6/site-packages/pandas/io/parsers.py\u001b[0m in \u001b[0;36m__init__\u001b[0;34m(self, f, engine, **kwds)\u001b[0m\n\u001b[1;32m    785\u001b[0m             \u001b[0mself\u001b[0m\u001b[0;34m.\u001b[0m\u001b[0moptions\u001b[0m\u001b[0;34m[\u001b[0m\u001b[0;34m'has_index_names'\u001b[0m\u001b[0;34m]\u001b[0m \u001b[0;34m=\u001b[0m \u001b[0mkwds\u001b[0m\u001b[0;34m[\u001b[0m\u001b[0;34m'has_index_names'\u001b[0m\u001b[0;34m]\u001b[0m\u001b[0;34m\u001b[0m\u001b[0m\n\u001b[1;32m    786\u001b[0m \u001b[0;34m\u001b[0m\u001b[0m\n\u001b[0;32m--> 787\u001b[0;31m         \u001b[0mself\u001b[0m\u001b[0;34m.\u001b[0m\u001b[0m_make_engine\u001b[0m\u001b[0;34m(\u001b[0m\u001b[0mself\u001b[0m\u001b[0;34m.\u001b[0m\u001b[0mengine\u001b[0m\u001b[0;34m)\u001b[0m\u001b[0;34m\u001b[0m\u001b[0m\n\u001b[0m\u001b[1;32m    788\u001b[0m \u001b[0;34m\u001b[0m\u001b[0m\n\u001b[1;32m    789\u001b[0m     \u001b[0;32mdef\u001b[0m \u001b[0mclose\u001b[0m\u001b[0;34m(\u001b[0m\u001b[0mself\u001b[0m\u001b[0;34m)\u001b[0m\u001b[0;34m:\u001b[0m\u001b[0;34m\u001b[0m\u001b[0m\n",
      "\u001b[0;32m/Library/Frameworks/Python.framework/Versions/3.6/lib/python3.6/site-packages/pandas/io/parsers.py\u001b[0m in \u001b[0;36m_make_engine\u001b[0;34m(self, engine)\u001b[0m\n\u001b[1;32m   1012\u001b[0m     \u001b[0;32mdef\u001b[0m \u001b[0m_make_engine\u001b[0m\u001b[0;34m(\u001b[0m\u001b[0mself\u001b[0m\u001b[0;34m,\u001b[0m \u001b[0mengine\u001b[0m\u001b[0;34m=\u001b[0m\u001b[0;34m'c'\u001b[0m\u001b[0;34m)\u001b[0m\u001b[0;34m:\u001b[0m\u001b[0;34m\u001b[0m\u001b[0m\n\u001b[1;32m   1013\u001b[0m         \u001b[0;32mif\u001b[0m \u001b[0mengine\u001b[0m \u001b[0;34m==\u001b[0m \u001b[0;34m'c'\u001b[0m\u001b[0;34m:\u001b[0m\u001b[0;34m\u001b[0m\u001b[0m\n\u001b[0;32m-> 1014\u001b[0;31m             \u001b[0mself\u001b[0m\u001b[0;34m.\u001b[0m\u001b[0m_engine\u001b[0m \u001b[0;34m=\u001b[0m \u001b[0mCParserWrapper\u001b[0m\u001b[0;34m(\u001b[0m\u001b[0mself\u001b[0m\u001b[0;34m.\u001b[0m\u001b[0mf\u001b[0m\u001b[0;34m,\u001b[0m \u001b[0;34m**\u001b[0m\u001b[0mself\u001b[0m\u001b[0;34m.\u001b[0m\u001b[0moptions\u001b[0m\u001b[0;34m)\u001b[0m\u001b[0;34m\u001b[0m\u001b[0m\n\u001b[0m\u001b[1;32m   1015\u001b[0m         \u001b[0;32melse\u001b[0m\u001b[0;34m:\u001b[0m\u001b[0;34m\u001b[0m\u001b[0m\n\u001b[1;32m   1016\u001b[0m             \u001b[0;32mif\u001b[0m \u001b[0mengine\u001b[0m \u001b[0;34m==\u001b[0m \u001b[0;34m'python'\u001b[0m\u001b[0;34m:\u001b[0m\u001b[0;34m\u001b[0m\u001b[0m\n",
      "\u001b[0;32m/Library/Frameworks/Python.framework/Versions/3.6/lib/python3.6/site-packages/pandas/io/parsers.py\u001b[0m in \u001b[0;36m__init__\u001b[0;34m(self, src, **kwds)\u001b[0m\n\u001b[1;32m   1706\u001b[0m         \u001b[0mkwds\u001b[0m\u001b[0;34m[\u001b[0m\u001b[0;34m'usecols'\u001b[0m\u001b[0;34m]\u001b[0m \u001b[0;34m=\u001b[0m \u001b[0mself\u001b[0m\u001b[0;34m.\u001b[0m\u001b[0musecols\u001b[0m\u001b[0;34m\u001b[0m\u001b[0m\n\u001b[1;32m   1707\u001b[0m \u001b[0;34m\u001b[0m\u001b[0m\n\u001b[0;32m-> 1708\u001b[0;31m         \u001b[0mself\u001b[0m\u001b[0;34m.\u001b[0m\u001b[0m_reader\u001b[0m \u001b[0;34m=\u001b[0m \u001b[0mparsers\u001b[0m\u001b[0;34m.\u001b[0m\u001b[0mTextReader\u001b[0m\u001b[0;34m(\u001b[0m\u001b[0msrc\u001b[0m\u001b[0;34m,\u001b[0m \u001b[0;34m**\u001b[0m\u001b[0mkwds\u001b[0m\u001b[0;34m)\u001b[0m\u001b[0;34m\u001b[0m\u001b[0m\n\u001b[0m\u001b[1;32m   1709\u001b[0m \u001b[0;34m\u001b[0m\u001b[0m\n\u001b[1;32m   1710\u001b[0m         \u001b[0mpassed_names\u001b[0m \u001b[0;34m=\u001b[0m \u001b[0mself\u001b[0m\u001b[0;34m.\u001b[0m\u001b[0mnames\u001b[0m \u001b[0;32mis\u001b[0m \u001b[0;32mNone\u001b[0m\u001b[0;34m\u001b[0m\u001b[0m\n",
      "\u001b[0;32mpandas/_libs/parsers.pyx\u001b[0m in \u001b[0;36mpandas._libs.parsers.TextReader.__cinit__\u001b[0;34m()\u001b[0m\n",
      "\u001b[0;32mpandas/_libs/parsers.pyx\u001b[0m in \u001b[0;36mpandas._libs.parsers.TextReader._setup_parser_source\u001b[0;34m()\u001b[0m\n",
      "\u001b[0;31mFileNotFoundError\u001b[0m: File b'BloodPressureDiastolic.csv' does not exist"
     ]
    }
   ],
   "source": [
    "diastolic = pd.read_csv(\"BloodPressureDiastolic.csv\")\n",
    "systolic = pd.read_csv(\"BloodPressureSystolic.csv\")"
   ]
  },
  {
   "cell_type": "code",
   "execution_count": 33,
   "metadata": {},
   "outputs": [
    {
     "ename": "NameError",
     "evalue": "name 'diastolic' is not defined",
     "output_type": "error",
     "traceback": [
      "\u001b[0;31m---------------------------------------------------------------------------\u001b[0m",
      "\u001b[0;31mNameError\u001b[0m                                 Traceback (most recent call last)",
      "\u001b[0;32m~/Desktop/CodesTemp/CVPR/DroneRacingData/apple_health_export/qs_ledger/apple_health/apple-health-data-parser.py\u001b[0m in \u001b[0;36m<module>\u001b[0;34m\u001b[0m\n\u001b[0;32m----> 1\u001b[0;31m \u001b[0mdiastolic\u001b[0m\u001b[0;34m.\u001b[0m\u001b[0mdescribe\u001b[0m\u001b[0;34m(\u001b[0m\u001b[0;34m)\u001b[0m\u001b[0;34m\u001b[0m\u001b[0m\n\u001b[0m",
      "\u001b[0;31mNameError\u001b[0m: name 'diastolic' is not defined"
     ]
    }
   ],
   "source": [
    "diastolic.describe()"
   ]
  },
  {
   "cell_type": "code",
   "execution_count": 34,
   "metadata": {},
   "outputs": [
    {
     "ename": "NameError",
     "evalue": "name 'systolic' is not defined",
     "output_type": "error",
     "traceback": [
      "\u001b[0;31m---------------------------------------------------------------------------\u001b[0m",
      "\u001b[0;31mNameError\u001b[0m                                 Traceback (most recent call last)",
      "\u001b[0;32m~/Desktop/CodesTemp/CVPR/DroneRacingData/apple_health_export/qs_ledger/apple_health/apple-health-data-parser.py\u001b[0m in \u001b[0;36m<module>\u001b[0;34m\u001b[0m\n\u001b[0;32m----> 1\u001b[0;31m \u001b[0msystolic\u001b[0m\u001b[0;34m.\u001b[0m\u001b[0mdescribe\u001b[0m\u001b[0;34m(\u001b[0m\u001b[0;34m)\u001b[0m\u001b[0;34m\u001b[0m\u001b[0m\n\u001b[0m",
      "\u001b[0;31mNameError\u001b[0m: name 'systolic' is not defined"
     ]
    }
   ],
   "source": [
    "systolic.describe()"
   ]
  },
  {
   "cell_type": "markdown",
   "metadata": {},
   "source": [
    "------"
   ]
  },
  {
   "cell_type": "markdown",
   "metadata": {},
   "source": [
    "## Sleep"
   ]
  },
  {
   "cell_type": "code",
   "execution_count": 41,
   "metadata": {},
   "outputs": [],
   "source": [
    "sleep = pd.read_csv(\"SleepAnalysis.csv\")\n",
    "sleep['unit'] = 'hours'"
   ]
  },
  {
   "cell_type": "code",
   "execution_count": 42,
   "metadata": {},
   "outputs": [
    {
     "data": {
      "text/html": [
       "<div>\n",
       "<style scoped>\n",
       "    .dataframe tbody tr th:only-of-type {\n",
       "        vertical-align: middle;\n",
       "    }\n",
       "\n",
       "    .dataframe tbody tr th {\n",
       "        vertical-align: top;\n",
       "    }\n",
       "\n",
       "    .dataframe thead th {\n",
       "        text-align: right;\n",
       "    }\n",
       "</style>\n",
       "<table border=\"1\" class=\"dataframe\">\n",
       "  <thead>\n",
       "    <tr style=\"text-align: right;\">\n",
       "      <th></th>\n",
       "      <th>sourceName</th>\n",
       "      <th>sourceVersion</th>\n",
       "      <th>device</th>\n",
       "      <th>type</th>\n",
       "      <th>unit</th>\n",
       "      <th>creationDate</th>\n",
       "      <th>startDate</th>\n",
       "      <th>endDate</th>\n",
       "      <th>value</th>\n",
       "    </tr>\n",
       "  </thead>\n",
       "  <tbody>\n",
       "    <tr>\n",
       "      <th>17</th>\n",
       "      <td>Dozee</td>\n",
       "      <td>1</td>\n",
       "      <td>NaN</td>\n",
       "      <td>SleepAnalysis</td>\n",
       "      <td>hours</td>\n",
       "      <td>2020-06-12 00:01:58 +0530</td>\n",
       "      <td>2019-04-07 00:55:05 +0530</td>\n",
       "      <td>2019-04-07 06:57:33 +0530</td>\n",
       "      <td>HKCategoryValueSleepAnalysisAsleep</td>\n",
       "    </tr>\n",
       "    <tr>\n",
       "      <th>18</th>\n",
       "      <td>Dozee</td>\n",
       "      <td>1</td>\n",
       "      <td>NaN</td>\n",
       "      <td>SleepAnalysis</td>\n",
       "      <td>hours</td>\n",
       "      <td>2020-06-12 00:02:37 +0530</td>\n",
       "      <td>2019-04-07 00:53:05 +0530</td>\n",
       "      <td>2019-04-07 06:57:33 +0530</td>\n",
       "      <td>HKCategoryValueSleepAnalysisInBed</td>\n",
       "    </tr>\n",
       "    <tr>\n",
       "      <th>19</th>\n",
       "      <td>Dozee</td>\n",
       "      <td>1</td>\n",
       "      <td>NaN</td>\n",
       "      <td>SleepAnalysis</td>\n",
       "      <td>hours</td>\n",
       "      <td>2020-06-12 00:02:37 +0530</td>\n",
       "      <td>2019-04-07 00:55:05 +0530</td>\n",
       "      <td>2019-04-07 06:57:33 +0530</td>\n",
       "      <td>HKCategoryValueSleepAnalysisAsleep</td>\n",
       "    </tr>\n",
       "    <tr>\n",
       "      <th>20</th>\n",
       "      <td>Dozee</td>\n",
       "      <td>1</td>\n",
       "      <td>NaN</td>\n",
       "      <td>SleepAnalysis</td>\n",
       "      <td>hours</td>\n",
       "      <td>2020-06-12 00:03:58 +0530</td>\n",
       "      <td>2019-04-07 00:53:05 +0530</td>\n",
       "      <td>2019-04-07 06:57:33 +0530</td>\n",
       "      <td>HKCategoryValueSleepAnalysisInBed</td>\n",
       "    </tr>\n",
       "    <tr>\n",
       "      <th>21</th>\n",
       "      <td>Dozee</td>\n",
       "      <td>1</td>\n",
       "      <td>NaN</td>\n",
       "      <td>SleepAnalysis</td>\n",
       "      <td>hours</td>\n",
       "      <td>2020-06-12 00:03:58 +0530</td>\n",
       "      <td>2019-04-07 00:55:05 +0530</td>\n",
       "      <td>2019-04-07 06:57:33 +0530</td>\n",
       "      <td>HKCategoryValueSleepAnalysisAsleep</td>\n",
       "    </tr>\n",
       "  </tbody>\n",
       "</table>\n",
       "</div>"
      ],
      "text/plain": [
       "   sourceName  sourceVersion device           type   unit  \\\n",
       "17      Dozee              1    NaN  SleepAnalysis  hours   \n",
       "18      Dozee              1    NaN  SleepAnalysis  hours   \n",
       "19      Dozee              1    NaN  SleepAnalysis  hours   \n",
       "20      Dozee              1    NaN  SleepAnalysis  hours   \n",
       "21      Dozee              1    NaN  SleepAnalysis  hours   \n",
       "\n",
       "                 creationDate                  startDate  \\\n",
       "17  2020-06-12 00:01:58 +0530  2019-04-07 00:55:05 +0530   \n",
       "18  2020-06-12 00:02:37 +0530  2019-04-07 00:53:05 +0530   \n",
       "19  2020-06-12 00:02:37 +0530  2019-04-07 00:55:05 +0530   \n",
       "20  2020-06-12 00:03:58 +0530  2019-04-07 00:53:05 +0530   \n",
       "21  2020-06-12 00:03:58 +0530  2019-04-07 00:55:05 +0530   \n",
       "\n",
       "                      endDate                               value  \n",
       "17  2019-04-07 06:57:33 +0530  HKCategoryValueSleepAnalysisAsleep  \n",
       "18  2019-04-07 06:57:33 +0530   HKCategoryValueSleepAnalysisInBed  \n",
       "19  2019-04-07 06:57:33 +0530  HKCategoryValueSleepAnalysisAsleep  \n",
       "20  2019-04-07 06:57:33 +0530   HKCategoryValueSleepAnalysisInBed  \n",
       "21  2019-04-07 06:57:33 +0530  HKCategoryValueSleepAnalysisAsleep  "
      ]
     },
     "execution_count": 42,
     "metadata": {},
     "output_type": "execute_result"
    }
   ],
   "source": [
    "sleep.tail()"
   ]
  },
  {
   "cell_type": "code",
   "execution_count": 37,
   "metadata": {},
   "outputs": [
    {
     "data": {
      "text/html": [
       "<div>\n",
       "<style scoped>\n",
       "    .dataframe tbody tr th:only-of-type {\n",
       "        vertical-align: middle;\n",
       "    }\n",
       "\n",
       "    .dataframe tbody tr th {\n",
       "        vertical-align: top;\n",
       "    }\n",
       "\n",
       "    .dataframe thead th {\n",
       "        text-align: right;\n",
       "    }\n",
       "</style>\n",
       "<table border=\"1\" class=\"dataframe\">\n",
       "  <thead>\n",
       "    <tr style=\"text-align: right;\">\n",
       "      <th></th>\n",
       "      <th>sourceVersion</th>\n",
       "      <th>unit</th>\n",
       "    </tr>\n",
       "  </thead>\n",
       "  <tbody>\n",
       "    <tr>\n",
       "      <th>count</th>\n",
       "      <td>22.000000</td>\n",
       "      <td>0.0</td>\n",
       "    </tr>\n",
       "    <tr>\n",
       "      <th>mean</th>\n",
       "      <td>18.818182</td>\n",
       "      <td>NaN</td>\n",
       "    </tr>\n",
       "    <tr>\n",
       "      <th>std</th>\n",
       "      <td>24.125932</td>\n",
       "      <td>NaN</td>\n",
       "    </tr>\n",
       "    <tr>\n",
       "      <th>min</th>\n",
       "      <td>1.000000</td>\n",
       "      <td>NaN</td>\n",
       "    </tr>\n",
       "    <tr>\n",
       "      <th>25%</th>\n",
       "      <td>1.000000</td>\n",
       "      <td>NaN</td>\n",
       "    </tr>\n",
       "    <tr>\n",
       "      <th>50%</th>\n",
       "      <td>1.000000</td>\n",
       "      <td>NaN</td>\n",
       "    </tr>\n",
       "    <tr>\n",
       "      <th>75%</th>\n",
       "      <td>50.000000</td>\n",
       "      <td>NaN</td>\n",
       "    </tr>\n",
       "    <tr>\n",
       "      <th>max</th>\n",
       "      <td>50.000000</td>\n",
       "      <td>NaN</td>\n",
       "    </tr>\n",
       "  </tbody>\n",
       "</table>\n",
       "</div>"
      ],
      "text/plain": [
       "       sourceVersion  unit\n",
       "count      22.000000   0.0\n",
       "mean       18.818182   NaN\n",
       "std        24.125932   NaN\n",
       "min         1.000000   NaN\n",
       "25%         1.000000   NaN\n",
       "50%         1.000000   NaN\n",
       "75%        50.000000   NaN\n",
       "max        50.000000   NaN"
      ]
     },
     "execution_count": 37,
     "metadata": {},
     "output_type": "execute_result"
    }
   ],
   "source": [
    "sleep.describe()"
   ]
  },
  {
   "cell_type": "code",
   "execution_count": null,
   "metadata": {},
   "outputs": [],
   "source": []
  }
 ],
 "metadata": {
  "kernelspec": {
   "display_name": "Python 3",
   "language": "python",
   "name": "python3"
  },
  "language_info": {
   "codemirror_mode": {
    "name": "ipython",
    "version": 3
   },
   "file_extension": ".py",
   "mimetype": "text/x-python",
   "name": "python",
   "nbconvert_exporter": "python",
   "pygments_lexer": "ipython3",
   "version": "3.6.0"
  }
 },
 "nbformat": 4,
 "nbformat_minor": 2
}
