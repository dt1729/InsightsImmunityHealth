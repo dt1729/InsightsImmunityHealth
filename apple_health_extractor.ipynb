{
 "cells": [
  {
   "cell_type": "markdown",
   "metadata": {},
   "source": [
    "# Apple Health Extractor"
   ]
  },
  {
   "cell_type": "markdown",
   "metadata": {},
   "source": [
    "This code will parse your Apple Health export data, create multiple CSV and do some simple data checks and data analysis. \n",
    "\n",
    "Enjoy! "
   ]
  },
  {
   "cell_type": "markdown",
   "metadata": {},
   "source": [
    "--------"
   ]
  },
  {
   "cell_type": "markdown",
   "metadata": {},
   "source": [
    "## Extract Data and Export to CSVs from Apple Health's Export.xml"
   ]
  },
  {
   "cell_type": "markdown",
   "metadata": {},
   "source": [
    "* Command Line Tool to Process apple health's export.xml file \n",
    "* Create multiple CSV files for each data type. \n",
    "* Original Source: https://github.com/tdda/applehealthdata\n",
    "* Based on the size of your Apple Health Data, this script may take several minutes to complete.\n",
    "\n",
    "**NOTE: Currently there are a few minror errors based on additional data from Apple Health that require some updates.** "
   ]
  },
  {
   "cell_type": "markdown",
   "metadata": {},
   "source": [
    "## Setup and Usage NOTE\n",
    "\n",
    "* Export your data from Apple Health App on your phone. \n",
    "* Unzip export.zip into this directory and rename to data. \n",
    "* Inside your directory there should be a directory and file here: /data/export.xml\n",
    "* Run inside project or in the command line."
   ]
  },
  {
   "cell_type": "code",
   "execution_count": 1,
   "metadata": {},
   "outputs": [
    {
     "name": "stdout",
     "output_type": "stream",
     "text": [
      "Reading data from export.xml . . . done\n",
      "Unexpected node of type ExportDate.\n",
      "\n",
      "Tags:\n",
      "ActivitySummary: 686\n",
      "ExportDate: 1\n",
      "Me: 1\n",
      "Record: 1142965\n",
      "Workout: 106\n",
      "\n",
      "Fields:\n",
      "HKCharacteristicTypeIdentifierBiologicalSex: 1\n",
      "HKCharacteristicTypeIdentifierBloodType: 1\n",
      "HKCharacteristicTypeIdentifierDateOfBirth: 1\n",
      "HKCharacteristicTypeIdentifierFitzpatrickSkinType: 1\n",
      "activeEnergyBurned: 686\n",
      "activeEnergyBurnedGoal: 686\n",
      "activeEnergyBurnedUnit: 686\n",
      "appleExerciseTime: 686\n",
      "appleExerciseTimeGoal: 686\n",
      "appleStandHours: 686\n",
      "appleStandHoursGoal: 686\n",
      "creationDate: 1143071\n",
      "dateComponents: 686\n",
      "device: 1125552\n",
      "duration: 106\n",
      "durationUnit: 106\n",
      "endDate: 1143071\n",
      "sourceName: 1143071\n",
      "sourceVersion: 1138201\n",
      "startDate: 1143071\n",
      "totalDistance: 106\n",
      "totalDistanceUnit: 106\n",
      "totalEnergyBurned: 106\n",
      "totalEnergyBurnedUnit: 106\n",
      "type: 1142965\n",
      "unit: 1133858\n",
      "value: 1142954\n",
      "workoutActivityType: 106\n",
      "\n",
      "Record types:\n",
      "ActiveEnergyBurned: 525528\n",
      "AppleExerciseTime: 11599\n",
      "AppleStandHour: 9073\n",
      "AppleStandTime: 4813\n",
      "BasalEnergyBurned: 100290\n",
      "BodyFatPercentage: 101\n",
      "BodyMass: 181\n",
      "BodyMassIndex: 177\n",
      "DistanceCycling: 3\n",
      "DistanceSwimming: 30\n",
      "DistanceWalkingRunning: 201451\n",
      "FlightsClimbed: 6651\n",
      "HeadphoneAudioExposure: 702\n",
      "HeartRate: 103741\n",
      "HeartRateVariabilitySDNN: 1687\n",
      "Height: 1\n",
      "LeanBodyMass: 101\n",
      "MindfulSession: 12\n",
      "RespiratoryRate: 588\n",
      "RestingHeartRate: 645\n",
      "SleepAnalysis: 22\n",
      "StepCount: 174943\n",
      "SwimmingStrokeCount: 30\n",
      "VO2Max: 57\n",
      "WalkingHeartRateAverage: 539\n",
      "\n",
      "Opening /Users/dt/Desktop/CodesTemp/CVPR/DroneRacingData/apple_health_export/qs_ledger/apple_health/BodyMassIndex.csv for writing\n",
      "Opening /Users/dt/Desktop/CodesTemp/CVPR/DroneRacingData/apple_health_export/qs_ledger/apple_health/Height.csv for writing\n",
      "Opening /Users/dt/Desktop/CodesTemp/CVPR/DroneRacingData/apple_health_export/qs_ledger/apple_health/BodyMass.csv for writing\n",
      "Opening /Users/dt/Desktop/CodesTemp/CVPR/DroneRacingData/apple_health_export/qs_ledger/apple_health/HeartRate.csv for writing\n",
      "Opening /Users/dt/Desktop/CodesTemp/CVPR/DroneRacingData/apple_health_export/qs_ledger/apple_health/RespiratoryRate.csv for writing\n",
      "Opening /Users/dt/Desktop/CodesTemp/CVPR/DroneRacingData/apple_health_export/qs_ledger/apple_health/BodyFatPercentage.csv for writing\n",
      "Opening /Users/dt/Desktop/CodesTemp/CVPR/DroneRacingData/apple_health_export/qs_ledger/apple_health/LeanBodyMass.csv for writing\n",
      "Opening /Users/dt/Desktop/CodesTemp/CVPR/DroneRacingData/apple_health_export/qs_ledger/apple_health/StepCount.csv for writing\n",
      "Opening /Users/dt/Desktop/CodesTemp/CVPR/DroneRacingData/apple_health_export/qs_ledger/apple_health/DistanceWalkingRunning.csv for writing\n",
      "Opening /Users/dt/Desktop/CodesTemp/CVPR/DroneRacingData/apple_health_export/qs_ledger/apple_health/BasalEnergyBurned.csv for writing\n",
      "Opening /Users/dt/Desktop/CodesTemp/CVPR/DroneRacingData/apple_health_export/qs_ledger/apple_health/ActiveEnergyBurned.csv for writing\n",
      "Opening /Users/dt/Desktop/CodesTemp/CVPR/DroneRacingData/apple_health_export/qs_ledger/apple_health/FlightsClimbed.csv for writing\n",
      "Opening /Users/dt/Desktop/CodesTemp/CVPR/DroneRacingData/apple_health_export/qs_ledger/apple_health/AppleExerciseTime.csv for writing\n",
      "Opening /Users/dt/Desktop/CodesTemp/CVPR/DroneRacingData/apple_health_export/qs_ledger/apple_health/DistanceCycling.csv for writing\n",
      "Opening /Users/dt/Desktop/CodesTemp/CVPR/DroneRacingData/apple_health_export/qs_ledger/apple_health/DistanceSwimming.csv for writing\n",
      "Opening /Users/dt/Desktop/CodesTemp/CVPR/DroneRacingData/apple_health_export/qs_ledger/apple_health/SwimmingStrokeCount.csv for writing\n",
      "Opening /Users/dt/Desktop/CodesTemp/CVPR/DroneRacingData/apple_health_export/qs_ledger/apple_health/RestingHeartRate.csv for writing\n",
      "Opening /Users/dt/Desktop/CodesTemp/CVPR/DroneRacingData/apple_health_export/qs_ledger/apple_health/VO2Max.csv for writing\n",
      "Opening /Users/dt/Desktop/CodesTemp/CVPR/DroneRacingData/apple_health_export/qs_ledger/apple_health/WalkingHeartRateAverage.csv for writing\n",
      "Opening /Users/dt/Desktop/CodesTemp/CVPR/DroneRacingData/apple_health_export/qs_ledger/apple_health/HeadphoneAudioExposure.csv for writing\n",
      "Opening /Users/dt/Desktop/CodesTemp/CVPR/DroneRacingData/apple_health_export/qs_ledger/apple_health/AppleStandTime.csv for writing\n",
      "Opening /Users/dt/Desktop/CodesTemp/CVPR/DroneRacingData/apple_health_export/qs_ledger/apple_health/SleepAnalysis.csv for writing\n",
      "Opening /Users/dt/Desktop/CodesTemp/CVPR/DroneRacingData/apple_health_export/qs_ledger/apple_health/AppleStandHour.csv for writing\n",
      "Opening /Users/dt/Desktop/CodesTemp/CVPR/DroneRacingData/apple_health_export/qs_ledger/apple_health/MindfulSession.csv for writing\n",
      "Opening /Users/dt/Desktop/CodesTemp/CVPR/DroneRacingData/apple_health_export/qs_ledger/apple_health/HeartRateVariabilitySDNN.csv for writing\n",
      "Opening /Users/dt/Desktop/CodesTemp/CVPR/DroneRacingData/apple_health_export/qs_ledger/apple_health/Workout.csv for writing\n",
      "Opening /Users/dt/Desktop/CodesTemp/CVPR/DroneRacingData/apple_health_export/qs_ledger/apple_health/ActivitySummary.csv for writing\n",
      "Written BodyMassIndex data.\n",
      "Written Height data.\n",
      "Written BodyMass data.\n",
      "Written HeartRate data.\n",
      "Written RespiratoryRate data.\n",
      "Written BodyFatPercentage data.\n",
      "Written LeanBodyMass data.\n",
      "Written StepCount data.\n",
      "Written DistanceWalkingRunning data.\n",
      "Written BasalEnergyBurned data.\n",
      "Written ActiveEnergyBurned data.\n",
      "Written FlightsClimbed data.\n",
      "Written AppleExerciseTime data.\n",
      "Written DistanceCycling data.\n",
      "Written DistanceSwimming data.\n",
      "Written SwimmingStrokeCount data.\n",
      "Written RestingHeartRate data.\n",
      "Written VO2Max data.\n",
      "Written WalkingHeartRateAverage data.\n",
      "Written HeadphoneAudioExposure data.\n",
      "Written AppleStandTime data.\n",
      "Written SleepAnalysis data.\n",
      "Written AppleStandHour data.\n",
      "Written MindfulSession data.\n",
      "Written HeartRateVariabilitySDNN data.\n",
      "Written Workout data.\n",
      "Written ActivitySummary data.\n"
     ]
    }
   ],
   "source": [
    "# %run -i 'apple-health-data-parser' 'export.xml' \n",
    "%run -i 'apple-health-data-parser' 'export.xml' "
   ]
  },
  {
   "cell_type": "markdown",
   "metadata": {},
   "source": [
    "-----"
   ]
  },
  {
   "cell_type": "markdown",
   "metadata": {},
   "source": [
    "# Apple Health Data Check and Simple Data Analysis"
   ]
  },
  {
   "cell_type": "code",
   "execution_count": 2,
   "metadata": {},
   "outputs": [],
   "source": [
    "import numpy as np\n",
    "import pandas as pd\n",
    "import glob"
   ]
  },
  {
   "cell_type": "markdown",
   "metadata": {},
   "source": [
    "----"
   ]
  },
  {
   "cell_type": "markdown",
   "metadata": {},
   "source": [
    "# Weight"
   ]
  },
  {
   "cell_type": "code",
   "execution_count": 5,
   "metadata": {},
   "outputs": [],
   "source": [
    "weight = pd.read_csv(\"BodyMass.csv\")"
   ]
  },
  {
   "cell_type": "code",
   "execution_count": 6,
   "metadata": {},
   "outputs": [
    {
     "data": {
      "text/html": [
       "<div>\n",
       "<style scoped>\n",
       "    .dataframe tbody tr th:only-of-type {\n",
       "        vertical-align: middle;\n",
       "    }\n",
       "\n",
       "    .dataframe tbody tr th {\n",
       "        vertical-align: top;\n",
       "    }\n",
       "\n",
       "    .dataframe thead th {\n",
       "        text-align: right;\n",
       "    }\n",
       "</style>\n",
       "<table border=\"1\" class=\"dataframe\">\n",
       "  <thead>\n",
       "    <tr style=\"text-align: right;\">\n",
       "      <th></th>\n",
       "      <th>sourceName</th>\n",
       "      <th>sourceVersion</th>\n",
       "      <th>device</th>\n",
       "      <th>type</th>\n",
       "      <th>unit</th>\n",
       "      <th>creationDate</th>\n",
       "      <th>startDate</th>\n",
       "      <th>endDate</th>\n",
       "      <th>value</th>\n",
       "    </tr>\n",
       "  </thead>\n",
       "  <tbody>\n",
       "    <tr>\n",
       "      <th>176</th>\n",
       "      <td>Mi Fit</td>\n",
       "      <td>201907081918</td>\n",
       "      <td>NaN</td>\n",
       "      <td>BodyMass</td>\n",
       "      <td>kg</td>\n",
       "      <td>2020-07-02 07:52:37 +0530</td>\n",
       "      <td>2020-07-02 07:52:31 +0530</td>\n",
       "      <td>2020-07-02 07:52:31 +0530</td>\n",
       "      <td>88.8</td>\n",
       "    </tr>\n",
       "    <tr>\n",
       "      <th>177</th>\n",
       "      <td>Mi Fit</td>\n",
       "      <td>201907081918</td>\n",
       "      <td>NaN</td>\n",
       "      <td>BodyMass</td>\n",
       "      <td>kg</td>\n",
       "      <td>2020-07-04 09:09:36 +0530</td>\n",
       "      <td>2020-07-04 09:09:25 +0530</td>\n",
       "      <td>2020-07-04 09:09:25 +0530</td>\n",
       "      <td>90.9</td>\n",
       "    </tr>\n",
       "    <tr>\n",
       "      <th>178</th>\n",
       "      <td>Mi Fit</td>\n",
       "      <td>201907081918</td>\n",
       "      <td>NaN</td>\n",
       "      <td>BodyMass</td>\n",
       "      <td>kg</td>\n",
       "      <td>2020-07-05 09:03:03 +0530</td>\n",
       "      <td>2020-07-04 09:10:52 +0530</td>\n",
       "      <td>2020-07-04 09:10:52 +0530</td>\n",
       "      <td>89.4</td>\n",
       "    </tr>\n",
       "    <tr>\n",
       "      <th>179</th>\n",
       "      <td>Mi Fit</td>\n",
       "      <td>201907081918</td>\n",
       "      <td>NaN</td>\n",
       "      <td>BodyMass</td>\n",
       "      <td>kg</td>\n",
       "      <td>2020-07-05 09:03:03 +0530</td>\n",
       "      <td>2020-07-05 09:02:55 +0530</td>\n",
       "      <td>2020-07-05 09:02:55 +0530</td>\n",
       "      <td>88.9</td>\n",
       "    </tr>\n",
       "    <tr>\n",
       "      <th>180</th>\n",
       "      <td>Mi Fit</td>\n",
       "      <td>201907081918</td>\n",
       "      <td>NaN</td>\n",
       "      <td>BodyMass</td>\n",
       "      <td>kg</td>\n",
       "      <td>2020-07-06 08:33:11 +0530</td>\n",
       "      <td>2020-07-06 08:33:05 +0530</td>\n",
       "      <td>2020-07-06 08:33:05 +0530</td>\n",
       "      <td>88.3</td>\n",
       "    </tr>\n",
       "  </tbody>\n",
       "</table>\n",
       "</div>"
      ],
      "text/plain": [
       "    sourceName sourceVersion  device      type unit  \\\n",
       "176     Mi Fit  201907081918     NaN  BodyMass   kg   \n",
       "177     Mi Fit  201907081918     NaN  BodyMass   kg   \n",
       "178     Mi Fit  201907081918     NaN  BodyMass   kg   \n",
       "179     Mi Fit  201907081918     NaN  BodyMass   kg   \n",
       "180     Mi Fit  201907081918     NaN  BodyMass   kg   \n",
       "\n",
       "                  creationDate                  startDate  \\\n",
       "176  2020-07-02 07:52:37 +0530  2020-07-02 07:52:31 +0530   \n",
       "177  2020-07-04 09:09:36 +0530  2020-07-04 09:09:25 +0530   \n",
       "178  2020-07-05 09:03:03 +0530  2020-07-04 09:10:52 +0530   \n",
       "179  2020-07-05 09:03:03 +0530  2020-07-05 09:02:55 +0530   \n",
       "180  2020-07-06 08:33:11 +0530  2020-07-06 08:33:05 +0530   \n",
       "\n",
       "                       endDate  value  \n",
       "176  2020-07-02 07:52:31 +0530   88.8  \n",
       "177  2020-07-04 09:09:25 +0530   90.9  \n",
       "178  2020-07-04 09:10:52 +0530   89.4  \n",
       "179  2020-07-05 09:02:55 +0530   88.9  \n",
       "180  2020-07-06 08:33:05 +0530   88.3  "
      ]
     },
     "execution_count": 6,
     "metadata": {},
     "output_type": "execute_result"
    }
   ],
   "source": [
    "weight.tail()"
   ]
  },
  {
   "cell_type": "code",
   "execution_count": 7,
   "metadata": {},
   "outputs": [
    {
     "data": {
      "text/html": [
       "<div>\n",
       "<style scoped>\n",
       "    .dataframe tbody tr th:only-of-type {\n",
       "        vertical-align: middle;\n",
       "    }\n",
       "\n",
       "    .dataframe tbody tr th {\n",
       "        vertical-align: top;\n",
       "    }\n",
       "\n",
       "    .dataframe thead th {\n",
       "        text-align: right;\n",
       "    }\n",
       "</style>\n",
       "<table border=\"1\" class=\"dataframe\">\n",
       "  <thead>\n",
       "    <tr style=\"text-align: right;\">\n",
       "      <th></th>\n",
       "      <th>device</th>\n",
       "      <th>value</th>\n",
       "    </tr>\n",
       "  </thead>\n",
       "  <tbody>\n",
       "    <tr>\n",
       "      <th>count</th>\n",
       "      <td>0.0</td>\n",
       "      <td>181.000000</td>\n",
       "    </tr>\n",
       "    <tr>\n",
       "      <th>mean</th>\n",
       "      <td>NaN</td>\n",
       "      <td>88.637569</td>\n",
       "    </tr>\n",
       "    <tr>\n",
       "      <th>std</th>\n",
       "      <td>NaN</td>\n",
       "      <td>0.806861</td>\n",
       "    </tr>\n",
       "    <tr>\n",
       "      <th>min</th>\n",
       "      <td>NaN</td>\n",
       "      <td>84.200000</td>\n",
       "    </tr>\n",
       "    <tr>\n",
       "      <th>25%</th>\n",
       "      <td>NaN</td>\n",
       "      <td>88.300000</td>\n",
       "    </tr>\n",
       "    <tr>\n",
       "      <th>50%</th>\n",
       "      <td>NaN</td>\n",
       "      <td>88.600000</td>\n",
       "    </tr>\n",
       "    <tr>\n",
       "      <th>75%</th>\n",
       "      <td>NaN</td>\n",
       "      <td>89.100000</td>\n",
       "    </tr>\n",
       "    <tr>\n",
       "      <th>max</th>\n",
       "      <td>NaN</td>\n",
       "      <td>90.900000</td>\n",
       "    </tr>\n",
       "  </tbody>\n",
       "</table>\n",
       "</div>"
      ],
      "text/plain": [
       "       device       value\n",
       "count     0.0  181.000000\n",
       "mean      NaN   88.637569\n",
       "std       NaN    0.806861\n",
       "min       NaN   84.200000\n",
       "25%       NaN   88.300000\n",
       "50%       NaN   88.600000\n",
       "75%       NaN   89.100000\n",
       "max       NaN   90.900000"
      ]
     },
     "execution_count": 7,
     "metadata": {},
     "output_type": "execute_result"
    }
   ],
   "source": [
    "weight.describe()"
   ]
  },
  {
   "cell_type": "markdown",
   "metadata": {},
   "source": [
    "----"
   ]
  },
  {
   "cell_type": "markdown",
   "metadata": {},
   "source": [
    "## Steps"
   ]
  },
  {
   "cell_type": "code",
   "execution_count": 8,
   "metadata": {},
   "outputs": [],
   "source": [
    "steps = pd.read_csv(\"StepCount.csv\")"
   ]
  },
  {
   "cell_type": "code",
   "execution_count": 9,
   "metadata": {},
   "outputs": [
    {
     "data": {
      "text/plain": [
       "174943"
      ]
     },
     "execution_count": 9,
     "metadata": {},
     "output_type": "execute_result"
    }
   ],
   "source": [
    "len(steps)"
   ]
  },
  {
   "cell_type": "code",
   "execution_count": 10,
   "metadata": {},
   "outputs": [
    {
     "data": {
      "text/plain": [
       "Index(['sourceName', 'sourceVersion', 'device', 'type', 'unit', 'creationDate',\n",
       "       'startDate', 'endDate', 'value'],\n",
       "      dtype='object')"
      ]
     },
     "execution_count": 10,
     "metadata": {},
     "output_type": "execute_result"
    }
   ],
   "source": [
    "steps.columns"
   ]
  },
  {
   "cell_type": "code",
   "execution_count": 11,
   "metadata": {},
   "outputs": [
    {
     "data": {
      "text/html": [
       "<div>\n",
       "<style scoped>\n",
       "    .dataframe tbody tr th:only-of-type {\n",
       "        vertical-align: middle;\n",
       "    }\n",
       "\n",
       "    .dataframe tbody tr th {\n",
       "        vertical-align: top;\n",
       "    }\n",
       "\n",
       "    .dataframe thead th {\n",
       "        text-align: right;\n",
       "    }\n",
       "</style>\n",
       "<table border=\"1\" class=\"dataframe\">\n",
       "  <thead>\n",
       "    <tr style=\"text-align: right;\">\n",
       "      <th></th>\n",
       "      <th>value</th>\n",
       "    </tr>\n",
       "  </thead>\n",
       "  <tbody>\n",
       "    <tr>\n",
       "      <th>count</th>\n",
       "      <td>174943.000000</td>\n",
       "    </tr>\n",
       "    <tr>\n",
       "      <th>mean</th>\n",
       "      <td>82.619207</td>\n",
       "    </tr>\n",
       "    <tr>\n",
       "      <th>std</th>\n",
       "      <td>214.041698</td>\n",
       "    </tr>\n",
       "    <tr>\n",
       "      <th>min</th>\n",
       "      <td>1.000000</td>\n",
       "    </tr>\n",
       "    <tr>\n",
       "      <th>25%</th>\n",
       "      <td>17.000000</td>\n",
       "    </tr>\n",
       "    <tr>\n",
       "      <th>50%</th>\n",
       "      <td>40.000000</td>\n",
       "    </tr>\n",
       "    <tr>\n",
       "      <th>75%</th>\n",
       "      <td>90.000000</td>\n",
       "    </tr>\n",
       "    <tr>\n",
       "      <th>max</th>\n",
       "      <td>43109.000000</td>\n",
       "    </tr>\n",
       "  </tbody>\n",
       "</table>\n",
       "</div>"
      ],
      "text/plain": [
       "               value\n",
       "count  174943.000000\n",
       "mean       82.619207\n",
       "std       214.041698\n",
       "min         1.000000\n",
       "25%        17.000000\n",
       "50%        40.000000\n",
       "75%        90.000000\n",
       "max     43109.000000"
      ]
     },
     "execution_count": 11,
     "metadata": {},
     "output_type": "execute_result"
    }
   ],
   "source": [
    "steps.describe()"
   ]
  },
  {
   "cell_type": "code",
   "execution_count": 12,
   "metadata": {},
   "outputs": [
    {
     "data": {
      "text/html": [
       "<div>\n",
       "<style scoped>\n",
       "    .dataframe tbody tr th:only-of-type {\n",
       "        vertical-align: middle;\n",
       "    }\n",
       "\n",
       "    .dataframe tbody tr th {\n",
       "        vertical-align: top;\n",
       "    }\n",
       "\n",
       "    .dataframe thead th {\n",
       "        text-align: right;\n",
       "    }\n",
       "</style>\n",
       "<table border=\"1\" class=\"dataframe\">\n",
       "  <thead>\n",
       "    <tr style=\"text-align: right;\">\n",
       "      <th></th>\n",
       "      <th>sourceName</th>\n",
       "      <th>sourceVersion</th>\n",
       "      <th>device</th>\n",
       "      <th>type</th>\n",
       "      <th>unit</th>\n",
       "      <th>creationDate</th>\n",
       "      <th>startDate</th>\n",
       "      <th>endDate</th>\n",
       "      <th>value</th>\n",
       "    </tr>\n",
       "  </thead>\n",
       "  <tbody>\n",
       "    <tr>\n",
       "      <th>174938</th>\n",
       "      <td>Shashank's iPhone</td>\n",
       "      <td>13.5.1</td>\n",
       "      <td>&lt;&lt;HKDevice: 0x28273ef80&gt;, name:iPhone, manufac...</td>\n",
       "      <td>StepCount</td>\n",
       "      <td>count</td>\n",
       "      <td>2020-07-06 08:33:25 +0530</td>\n",
       "      <td>2020-07-06 08:32:44 +0530</td>\n",
       "      <td>2020-07-06 08:32:47 +0530</td>\n",
       "      <td>4</td>\n",
       "    </tr>\n",
       "    <tr>\n",
       "      <th>174939</th>\n",
       "      <td>Shashank's iPhone</td>\n",
       "      <td>13.5.1</td>\n",
       "      <td>&lt;&lt;HKDevice: 0x28273f020&gt;, name:iPhone, manufac...</td>\n",
       "      <td>StepCount</td>\n",
       "      <td>count</td>\n",
       "      <td>2020-07-06 08:45:07 +0530</td>\n",
       "      <td>2020-07-06 08:34:02 +0530</td>\n",
       "      <td>2020-07-06 08:35:22 +0530</td>\n",
       "      <td>75</td>\n",
       "    </tr>\n",
       "    <tr>\n",
       "      <th>174940</th>\n",
       "      <td>Shashank's iPhone</td>\n",
       "      <td>13.5.1</td>\n",
       "      <td>&lt;&lt;HKDevice: 0x28273f0c0&gt;, name:iPhone, manufac...</td>\n",
       "      <td>StepCount</td>\n",
       "      <td>count</td>\n",
       "      <td>2020-07-06 09:28:26 +0530</td>\n",
       "      <td>2020-07-06 09:27:42 +0530</td>\n",
       "      <td>2020-07-06 09:28:02 +0530</td>\n",
       "      <td>17</td>\n",
       "    </tr>\n",
       "    <tr>\n",
       "      <th>174941</th>\n",
       "      <td>Shashank's iPhone</td>\n",
       "      <td>13.5.1</td>\n",
       "      <td>&lt;&lt;HKDevice: 0x28273f160&gt;, name:iPhone, manufac...</td>\n",
       "      <td>StepCount</td>\n",
       "      <td>count</td>\n",
       "      <td>2020-07-06 09:32:56 +0530</td>\n",
       "      <td>2020-07-06 09:29:15 +0530</td>\n",
       "      <td>2020-07-06 09:32:12 +0530</td>\n",
       "      <td>101</td>\n",
       "    </tr>\n",
       "    <tr>\n",
       "      <th>174942</th>\n",
       "      <td>Shashank's iPhone</td>\n",
       "      <td>13.5.1</td>\n",
       "      <td>&lt;&lt;HKDevice: 0x28273f200&gt;, name:iPhone, manufac...</td>\n",
       "      <td>StepCount</td>\n",
       "      <td>count</td>\n",
       "      <td>2020-07-06 09:55:59 +0530</td>\n",
       "      <td>2020-07-06 09:44:57 +0530</td>\n",
       "      <td>2020-07-06 09:45:22 +0530</td>\n",
       "      <td>29</td>\n",
       "    </tr>\n",
       "  </tbody>\n",
       "</table>\n",
       "</div>"
      ],
      "text/plain": [
       "               sourceName sourceVersion  \\\n",
       "174938  Shashank's iPhone        13.5.1   \n",
       "174939  Shashank's iPhone        13.5.1   \n",
       "174940  Shashank's iPhone        13.5.1   \n",
       "174941  Shashank's iPhone        13.5.1   \n",
       "174942  Shashank's iPhone        13.5.1   \n",
       "\n",
       "                                                   device       type   unit  \\\n",
       "174938  <<HKDevice: 0x28273ef80>, name:iPhone, manufac...  StepCount  count   \n",
       "174939  <<HKDevice: 0x28273f020>, name:iPhone, manufac...  StepCount  count   \n",
       "174940  <<HKDevice: 0x28273f0c0>, name:iPhone, manufac...  StepCount  count   \n",
       "174941  <<HKDevice: 0x28273f160>, name:iPhone, manufac...  StepCount  count   \n",
       "174942  <<HKDevice: 0x28273f200>, name:iPhone, manufac...  StepCount  count   \n",
       "\n",
       "                     creationDate                  startDate  \\\n",
       "174938  2020-07-06 08:33:25 +0530  2020-07-06 08:32:44 +0530   \n",
       "174939  2020-07-06 08:45:07 +0530  2020-07-06 08:34:02 +0530   \n",
       "174940  2020-07-06 09:28:26 +0530  2020-07-06 09:27:42 +0530   \n",
       "174941  2020-07-06 09:32:56 +0530  2020-07-06 09:29:15 +0530   \n",
       "174942  2020-07-06 09:55:59 +0530  2020-07-06 09:44:57 +0530   \n",
       "\n",
       "                          endDate  value  \n",
       "174938  2020-07-06 08:32:47 +0530      4  \n",
       "174939  2020-07-06 08:35:22 +0530     75  \n",
       "174940  2020-07-06 09:28:02 +0530     17  \n",
       "174941  2020-07-06 09:32:12 +0530    101  \n",
       "174942  2020-07-06 09:45:22 +0530     29  "
      ]
     },
     "execution_count": 12,
     "metadata": {},
     "output_type": "execute_result"
    }
   ],
   "source": [
    "steps.tail()"
   ]
  },
  {
   "cell_type": "code",
   "execution_count": 13,
   "metadata": {},
   "outputs": [
    {
     "data": {
      "text/plain": [
       "14453652"
      ]
     },
     "execution_count": 13,
     "metadata": {},
     "output_type": "execute_result"
    }
   ],
   "source": [
    "# total all-time steps\n",
    "steps.value.sum()"
   ]
  },
  {
   "cell_type": "markdown",
   "metadata": {},
   "source": [
    "-------"
   ]
  },
  {
   "cell_type": "markdown",
   "metadata": {},
   "source": [
    "## Stand Count"
   ]
  },
  {
   "cell_type": "code",
   "execution_count": 14,
   "metadata": {},
   "outputs": [],
   "source": [
    "stand = pd.read_csv(\"AppleStandHour.csv\")"
   ]
  },
  {
   "cell_type": "code",
   "execution_count": 15,
   "metadata": {},
   "outputs": [
    {
     "data": {
      "text/plain": [
       "9073"
      ]
     },
     "execution_count": 15,
     "metadata": {},
     "output_type": "execute_result"
    }
   ],
   "source": [
    "len(stand)"
   ]
  },
  {
   "cell_type": "code",
   "execution_count": 16,
   "metadata": {},
   "outputs": [
    {
     "data": {
      "text/plain": [
       "Index(['sourceName', 'sourceVersion', 'device', 'type', 'unit', 'creationDate',\n",
       "       'startDate', 'endDate', 'value'],\n",
       "      dtype='object')"
      ]
     },
     "execution_count": 16,
     "metadata": {},
     "output_type": "execute_result"
    }
   ],
   "source": [
    "stand.columns"
   ]
  },
  {
   "cell_type": "code",
   "execution_count": 17,
   "metadata": {},
   "outputs": [
    {
     "data": {
      "text/html": [
       "<div>\n",
       "<style scoped>\n",
       "    .dataframe tbody tr th:only-of-type {\n",
       "        vertical-align: middle;\n",
       "    }\n",
       "\n",
       "    .dataframe tbody tr th {\n",
       "        vertical-align: top;\n",
       "    }\n",
       "\n",
       "    .dataframe thead th {\n",
       "        text-align: right;\n",
       "    }\n",
       "</style>\n",
       "<table border=\"1\" class=\"dataframe\">\n",
       "  <thead>\n",
       "    <tr style=\"text-align: right;\">\n",
       "      <th></th>\n",
       "      <th>unit</th>\n",
       "    </tr>\n",
       "  </thead>\n",
       "  <tbody>\n",
       "    <tr>\n",
       "      <th>count</th>\n",
       "      <td>0.0</td>\n",
       "    </tr>\n",
       "    <tr>\n",
       "      <th>mean</th>\n",
       "      <td>NaN</td>\n",
       "    </tr>\n",
       "    <tr>\n",
       "      <th>std</th>\n",
       "      <td>NaN</td>\n",
       "    </tr>\n",
       "    <tr>\n",
       "      <th>min</th>\n",
       "      <td>NaN</td>\n",
       "    </tr>\n",
       "    <tr>\n",
       "      <th>25%</th>\n",
       "      <td>NaN</td>\n",
       "    </tr>\n",
       "    <tr>\n",
       "      <th>50%</th>\n",
       "      <td>NaN</td>\n",
       "    </tr>\n",
       "    <tr>\n",
       "      <th>75%</th>\n",
       "      <td>NaN</td>\n",
       "    </tr>\n",
       "    <tr>\n",
       "      <th>max</th>\n",
       "      <td>NaN</td>\n",
       "    </tr>\n",
       "  </tbody>\n",
       "</table>\n",
       "</div>"
      ],
      "text/plain": [
       "       unit\n",
       "count   0.0\n",
       "mean    NaN\n",
       "std     NaN\n",
       "min     NaN\n",
       "25%     NaN\n",
       "50%     NaN\n",
       "75%     NaN\n",
       "max     NaN"
      ]
     },
     "execution_count": 17,
     "metadata": {},
     "output_type": "execute_result"
    }
   ],
   "source": [
    "stand.describe()"
   ]
  },
  {
   "cell_type": "code",
   "execution_count": 18,
   "metadata": {},
   "outputs": [
    {
     "data": {
      "text/html": [
       "<div>\n",
       "<style scoped>\n",
       "    .dataframe tbody tr th:only-of-type {\n",
       "        vertical-align: middle;\n",
       "    }\n",
       "\n",
       "    .dataframe tbody tr th {\n",
       "        vertical-align: top;\n",
       "    }\n",
       "\n",
       "    .dataframe thead th {\n",
       "        text-align: right;\n",
       "    }\n",
       "</style>\n",
       "<table border=\"1\" class=\"dataframe\">\n",
       "  <thead>\n",
       "    <tr style=\"text-align: right;\">\n",
       "      <th></th>\n",
       "      <th>sourceName</th>\n",
       "      <th>sourceVersion</th>\n",
       "      <th>device</th>\n",
       "      <th>type</th>\n",
       "      <th>unit</th>\n",
       "      <th>creationDate</th>\n",
       "      <th>startDate</th>\n",
       "      <th>endDate</th>\n",
       "      <th>value</th>\n",
       "    </tr>\n",
       "  </thead>\n",
       "  <tbody>\n",
       "    <tr>\n",
       "      <th>9068</th>\n",
       "      <td>Shashank’s Apple Watch</td>\n",
       "      <td>6.1.3</td>\n",
       "      <td>&lt;&lt;HKDevice: 0x2826a4be0&gt;, name:Apple Watch, ma...</td>\n",
       "      <td>AppleStandHour</td>\n",
       "      <td>NaN</td>\n",
       "      <td>2020-07-05 19:01:23 +0530</td>\n",
       "      <td>2020-07-05 19:00:00 +0530</td>\n",
       "      <td>2020-07-05 20:00:00 +0530</td>\n",
       "      <td>HKCategoryValueAppleStandHourStood</td>\n",
       "    </tr>\n",
       "    <tr>\n",
       "      <th>9069</th>\n",
       "      <td>Shashank’s Apple Watch</td>\n",
       "      <td>6.1.3</td>\n",
       "      <td>&lt;&lt;HKDevice: 0x2826a4cd0&gt;, name:Apple Watch, ma...</td>\n",
       "      <td>AppleStandHour</td>\n",
       "      <td>NaN</td>\n",
       "      <td>2020-07-05 20:11:10 +0530</td>\n",
       "      <td>2020-07-05 20:00:00 +0530</td>\n",
       "      <td>2020-07-05 21:00:00 +0530</td>\n",
       "      <td>HKCategoryValueAppleStandHourStood</td>\n",
       "    </tr>\n",
       "    <tr>\n",
       "      <th>9070</th>\n",
       "      <td>Shashank’s Apple Watch</td>\n",
       "      <td>6.1.3</td>\n",
       "      <td>&lt;&lt;HKDevice: 0x2826a4dc0&gt;, name:Apple Watch, ma...</td>\n",
       "      <td>AppleStandHour</td>\n",
       "      <td>NaN</td>\n",
       "      <td>2020-07-05 21:04:22 +0530</td>\n",
       "      <td>2020-07-05 21:00:00 +0530</td>\n",
       "      <td>2020-07-05 22:00:00 +0530</td>\n",
       "      <td>HKCategoryValueAppleStandHourStood</td>\n",
       "    </tr>\n",
       "    <tr>\n",
       "      <th>9071</th>\n",
       "      <td>Shashank’s Apple Watch</td>\n",
       "      <td>6.1.3</td>\n",
       "      <td>&lt;&lt;HKDevice: 0x2826a4eb0&gt;, name:Apple Watch, ma...</td>\n",
       "      <td>AppleStandHour</td>\n",
       "      <td>NaN</td>\n",
       "      <td>2020-07-05 22:01:13 +0530</td>\n",
       "      <td>2020-07-05 22:00:00 +0530</td>\n",
       "      <td>2020-07-05 23:00:00 +0530</td>\n",
       "      <td>HKCategoryValueAppleStandHourStood</td>\n",
       "    </tr>\n",
       "    <tr>\n",
       "      <th>9072</th>\n",
       "      <td>Shashank’s Apple Watch</td>\n",
       "      <td>6.1.3</td>\n",
       "      <td>&lt;&lt;HKDevice: 0x2826a4fa0&gt;, name:Apple Watch, ma...</td>\n",
       "      <td>AppleStandHour</td>\n",
       "      <td>NaN</td>\n",
       "      <td>2020-07-05 23:35:54 +0530</td>\n",
       "      <td>2020-07-05 23:00:00 +0530</td>\n",
       "      <td>2020-07-06 00:00:00 +0530</td>\n",
       "      <td>HKCategoryValueAppleStandHourStood</td>\n",
       "    </tr>\n",
       "  </tbody>\n",
       "</table>\n",
       "</div>"
      ],
      "text/plain": [
       "                  sourceName sourceVersion  \\\n",
       "9068  Shashank’s Apple Watch         6.1.3   \n",
       "9069  Shashank’s Apple Watch         6.1.3   \n",
       "9070  Shashank’s Apple Watch         6.1.3   \n",
       "9071  Shashank’s Apple Watch         6.1.3   \n",
       "9072  Shashank’s Apple Watch         6.1.3   \n",
       "\n",
       "                                                 device            type  unit  \\\n",
       "9068  <<HKDevice: 0x2826a4be0>, name:Apple Watch, ma...  AppleStandHour   NaN   \n",
       "9069  <<HKDevice: 0x2826a4cd0>, name:Apple Watch, ma...  AppleStandHour   NaN   \n",
       "9070  <<HKDevice: 0x2826a4dc0>, name:Apple Watch, ma...  AppleStandHour   NaN   \n",
       "9071  <<HKDevice: 0x2826a4eb0>, name:Apple Watch, ma...  AppleStandHour   NaN   \n",
       "9072  <<HKDevice: 0x2826a4fa0>, name:Apple Watch, ma...  AppleStandHour   NaN   \n",
       "\n",
       "                   creationDate                  startDate  \\\n",
       "9068  2020-07-05 19:01:23 +0530  2020-07-05 19:00:00 +0530   \n",
       "9069  2020-07-05 20:11:10 +0530  2020-07-05 20:00:00 +0530   \n",
       "9070  2020-07-05 21:04:22 +0530  2020-07-05 21:00:00 +0530   \n",
       "9071  2020-07-05 22:01:13 +0530  2020-07-05 22:00:00 +0530   \n",
       "9072  2020-07-05 23:35:54 +0530  2020-07-05 23:00:00 +0530   \n",
       "\n",
       "                        endDate                               value  \n",
       "9068  2020-07-05 20:00:00 +0530  HKCategoryValueAppleStandHourStood  \n",
       "9069  2020-07-05 21:00:00 +0530  HKCategoryValueAppleStandHourStood  \n",
       "9070  2020-07-05 22:00:00 +0530  HKCategoryValueAppleStandHourStood  \n",
       "9071  2020-07-05 23:00:00 +0530  HKCategoryValueAppleStandHourStood  \n",
       "9072  2020-07-06 00:00:00 +0530  HKCategoryValueAppleStandHourStood  "
      ]
     },
     "execution_count": 18,
     "metadata": {},
     "output_type": "execute_result"
    }
   ],
   "source": [
    "stand.tail()"
   ]
  },
  {
   "cell_type": "markdown",
   "metadata": {},
   "source": [
    "------"
   ]
  },
  {
   "cell_type": "markdown",
   "metadata": {},
   "source": [
    "## Resting Heart Rate (HR)"
   ]
  },
  {
   "cell_type": "code",
   "execution_count": 19,
   "metadata": {},
   "outputs": [],
   "source": [
    "restingHR = pd.read_csv(\"RestingHeartRate.csv\")"
   ]
  },
  {
   "cell_type": "code",
   "execution_count": 20,
   "metadata": {},
   "outputs": [
    {
     "data": {
      "text/plain": [
       "645"
      ]
     },
     "execution_count": 20,
     "metadata": {},
     "output_type": "execute_result"
    }
   ],
   "source": [
    "len(restingHR)"
   ]
  },
  {
   "cell_type": "code",
   "execution_count": 21,
   "metadata": {},
   "outputs": [
    {
     "data": {
      "text/html": [
       "<div>\n",
       "<style scoped>\n",
       "    .dataframe tbody tr th:only-of-type {\n",
       "        vertical-align: middle;\n",
       "    }\n",
       "\n",
       "    .dataframe tbody tr th {\n",
       "        vertical-align: top;\n",
       "    }\n",
       "\n",
       "    .dataframe thead th {\n",
       "        text-align: right;\n",
       "    }\n",
       "</style>\n",
       "<table border=\"1\" class=\"dataframe\">\n",
       "  <thead>\n",
       "    <tr style=\"text-align: right;\">\n",
       "      <th></th>\n",
       "      <th>device</th>\n",
       "      <th>value</th>\n",
       "    </tr>\n",
       "  </thead>\n",
       "  <tbody>\n",
       "    <tr>\n",
       "      <th>count</th>\n",
       "      <td>0.0</td>\n",
       "      <td>645.000000</td>\n",
       "    </tr>\n",
       "    <tr>\n",
       "      <th>mean</th>\n",
       "      <td>NaN</td>\n",
       "      <td>69.809302</td>\n",
       "    </tr>\n",
       "    <tr>\n",
       "      <th>std</th>\n",
       "      <td>NaN</td>\n",
       "      <td>5.422455</td>\n",
       "    </tr>\n",
       "    <tr>\n",
       "      <th>min</th>\n",
       "      <td>NaN</td>\n",
       "      <td>50.000000</td>\n",
       "    </tr>\n",
       "    <tr>\n",
       "      <th>25%</th>\n",
       "      <td>NaN</td>\n",
       "      <td>67.000000</td>\n",
       "    </tr>\n",
       "    <tr>\n",
       "      <th>50%</th>\n",
       "      <td>NaN</td>\n",
       "      <td>69.000000</td>\n",
       "    </tr>\n",
       "    <tr>\n",
       "      <th>75%</th>\n",
       "      <td>NaN</td>\n",
       "      <td>72.000000</td>\n",
       "    </tr>\n",
       "    <tr>\n",
       "      <th>max</th>\n",
       "      <td>NaN</td>\n",
       "      <td>98.000000</td>\n",
       "    </tr>\n",
       "  </tbody>\n",
       "</table>\n",
       "</div>"
      ],
      "text/plain": [
       "       device       value\n",
       "count     0.0  645.000000\n",
       "mean      NaN   69.809302\n",
       "std       NaN    5.422455\n",
       "min       NaN   50.000000\n",
       "25%       NaN   67.000000\n",
       "50%       NaN   69.000000\n",
       "75%       NaN   72.000000\n",
       "max       NaN   98.000000"
      ]
     },
     "execution_count": 21,
     "metadata": {},
     "output_type": "execute_result"
    }
   ],
   "source": [
    "restingHR.describe()"
   ]
  },
  {
   "cell_type": "markdown",
   "metadata": {},
   "source": [
    "---"
   ]
  },
  {
   "cell_type": "markdown",
   "metadata": {},
   "source": [
    "## Walking Heart Rate (HR) Average"
   ]
  },
  {
   "cell_type": "code",
   "execution_count": 22,
   "metadata": {},
   "outputs": [],
   "source": [
    "walkingHR = pd.read_csv(\"WalkingHeartRateAverage.csv\")"
   ]
  },
  {
   "cell_type": "code",
   "execution_count": 23,
   "metadata": {},
   "outputs": [
    {
     "data": {
      "text/plain": [
       "539"
      ]
     },
     "execution_count": 23,
     "metadata": {},
     "output_type": "execute_result"
    }
   ],
   "source": [
    "len(walkingHR)"
   ]
  },
  {
   "cell_type": "code",
   "execution_count": 24,
   "metadata": {},
   "outputs": [
    {
     "data": {
      "text/html": [
       "<div>\n",
       "<style scoped>\n",
       "    .dataframe tbody tr th:only-of-type {\n",
       "        vertical-align: middle;\n",
       "    }\n",
       "\n",
       "    .dataframe tbody tr th {\n",
       "        vertical-align: top;\n",
       "    }\n",
       "\n",
       "    .dataframe thead th {\n",
       "        text-align: right;\n",
       "    }\n",
       "</style>\n",
       "<table border=\"1\" class=\"dataframe\">\n",
       "  <thead>\n",
       "    <tr style=\"text-align: right;\">\n",
       "      <th></th>\n",
       "      <th>device</th>\n",
       "      <th>value</th>\n",
       "    </tr>\n",
       "  </thead>\n",
       "  <tbody>\n",
       "    <tr>\n",
       "      <th>count</th>\n",
       "      <td>0.0</td>\n",
       "      <td>539.000000</td>\n",
       "    </tr>\n",
       "    <tr>\n",
       "      <th>mean</th>\n",
       "      <td>NaN</td>\n",
       "      <td>99.084416</td>\n",
       "    </tr>\n",
       "    <tr>\n",
       "      <th>std</th>\n",
       "      <td>NaN</td>\n",
       "      <td>11.996546</td>\n",
       "    </tr>\n",
       "    <tr>\n",
       "      <th>min</th>\n",
       "      <td>NaN</td>\n",
       "      <td>72.500000</td>\n",
       "    </tr>\n",
       "    <tr>\n",
       "      <th>25%</th>\n",
       "      <td>NaN</td>\n",
       "      <td>91.000000</td>\n",
       "    </tr>\n",
       "    <tr>\n",
       "      <th>50%</th>\n",
       "      <td>NaN</td>\n",
       "      <td>97.000000</td>\n",
       "    </tr>\n",
       "    <tr>\n",
       "      <th>75%</th>\n",
       "      <td>NaN</td>\n",
       "      <td>104.000000</td>\n",
       "    </tr>\n",
       "    <tr>\n",
       "      <th>max</th>\n",
       "      <td>NaN</td>\n",
       "      <td>143.000000</td>\n",
       "    </tr>\n",
       "  </tbody>\n",
       "</table>\n",
       "</div>"
      ],
      "text/plain": [
       "       device       value\n",
       "count     0.0  539.000000\n",
       "mean      NaN   99.084416\n",
       "std       NaN   11.996546\n",
       "min       NaN   72.500000\n",
       "25%       NaN   91.000000\n",
       "50%       NaN   97.000000\n",
       "75%       NaN  104.000000\n",
       "max       NaN  143.000000"
      ]
     },
     "execution_count": 24,
     "metadata": {},
     "output_type": "execute_result"
    }
   ],
   "source": [
    "walkingHR.describe()"
   ]
  },
  {
   "cell_type": "markdown",
   "metadata": {},
   "source": [
    "---"
   ]
  },
  {
   "cell_type": "markdown",
   "metadata": {},
   "source": [
    "## Heart Rate Variability (HRV)"
   ]
  },
  {
   "cell_type": "code",
   "execution_count": 25,
   "metadata": {},
   "outputs": [],
   "source": [
    "hrv = pd.read_csv(\"HeartRateVariabilitySDNN.csv\")"
   ]
  },
  {
   "cell_type": "code",
   "execution_count": 26,
   "metadata": {},
   "outputs": [
    {
     "data": {
      "text/plain": [
       "1687"
      ]
     },
     "execution_count": 26,
     "metadata": {},
     "output_type": "execute_result"
    }
   ],
   "source": [
    "len(hrv)"
   ]
  },
  {
   "cell_type": "code",
   "execution_count": 27,
   "metadata": {},
   "outputs": [
    {
     "data": {
      "text/plain": [
       "Index(['sourceName', 'sourceVersion', 'device', 'type', 'unit', 'creationDate',\n",
       "       'startDate', 'endDate', 'value'],\n",
       "      dtype='object')"
      ]
     },
     "execution_count": 27,
     "metadata": {},
     "output_type": "execute_result"
    }
   ],
   "source": [
    "hrv.columns"
   ]
  },
  {
   "cell_type": "code",
   "execution_count": 28,
   "metadata": {},
   "outputs": [
    {
     "data": {
      "text/html": [
       "<div>\n",
       "<style scoped>\n",
       "    .dataframe tbody tr th:only-of-type {\n",
       "        vertical-align: middle;\n",
       "    }\n",
       "\n",
       "    .dataframe tbody tr th {\n",
       "        vertical-align: top;\n",
       "    }\n",
       "\n",
       "    .dataframe thead th {\n",
       "        text-align: right;\n",
       "    }\n",
       "</style>\n",
       "<table border=\"1\" class=\"dataframe\">\n",
       "  <thead>\n",
       "    <tr style=\"text-align: right;\">\n",
       "      <th></th>\n",
       "      <th>value</th>\n",
       "    </tr>\n",
       "  </thead>\n",
       "  <tbody>\n",
       "    <tr>\n",
       "      <th>count</th>\n",
       "      <td>1687.000000</td>\n",
       "    </tr>\n",
       "    <tr>\n",
       "      <th>mean</th>\n",
       "      <td>33.308511</td>\n",
       "    </tr>\n",
       "    <tr>\n",
       "      <th>std</th>\n",
       "      <td>13.458962</td>\n",
       "    </tr>\n",
       "    <tr>\n",
       "      <th>min</th>\n",
       "      <td>7.327180</td>\n",
       "    </tr>\n",
       "    <tr>\n",
       "      <th>25%</th>\n",
       "      <td>23.761850</td>\n",
       "    </tr>\n",
       "    <tr>\n",
       "      <th>50%</th>\n",
       "      <td>31.081500</td>\n",
       "    </tr>\n",
       "    <tr>\n",
       "      <th>75%</th>\n",
       "      <td>40.132200</td>\n",
       "    </tr>\n",
       "    <tr>\n",
       "      <th>max</th>\n",
       "      <td>160.640000</td>\n",
       "    </tr>\n",
       "  </tbody>\n",
       "</table>\n",
       "</div>"
      ],
      "text/plain": [
       "             value\n",
       "count  1687.000000\n",
       "mean     33.308511\n",
       "std      13.458962\n",
       "min       7.327180\n",
       "25%      23.761850\n",
       "50%      31.081500\n",
       "75%      40.132200\n",
       "max     160.640000"
      ]
     },
     "execution_count": 28,
     "metadata": {},
     "output_type": "execute_result"
    }
   ],
   "source": [
    "hrv.describe()"
   ]
  },
  {
   "cell_type": "code",
   "execution_count": 27,
   "metadata": {},
   "outputs": [
    {
     "data": {
      "text/html": [
       "<div>\n",
       "<style>\n",
       "    .dataframe thead tr:only-child th {\n",
       "        text-align: right;\n",
       "    }\n",
       "\n",
       "    .dataframe thead th {\n",
       "        text-align: left;\n",
       "    }\n",
       "\n",
       "    .dataframe tbody tr th {\n",
       "        vertical-align: top;\n",
       "    }\n",
       "</style>\n",
       "<table border=\"1\" class=\"dataframe\">\n",
       "  <thead>\n",
       "    <tr style=\"text-align: right;\">\n",
       "      <th></th>\n",
       "      <th>sourceName</th>\n",
       "      <th>sourceVersion</th>\n",
       "      <th>device</th>\n",
       "      <th>type</th>\n",
       "      <th>unit</th>\n",
       "      <th>creationDate</th>\n",
       "      <th>startDate</th>\n",
       "      <th>endDate</th>\n",
       "      <th>value</th>\n",
       "    </tr>\n",
       "  </thead>\n",
       "  <tbody>\n",
       "    <tr>\n",
       "      <th>1211</th>\n",
       "      <td>Mark’s Apple Watch</td>\n",
       "      <td>4.3</td>\n",
       "      <td>&lt;&lt;HKDevice: 0x1c0c8dc50&gt;, name:Apple Watch, ma...</td>\n",
       "      <td>HeartRateVariabilitySDNN</td>\n",
       "      <td>ms</td>\n",
       "      <td>2018-04-30 04:23:46 +0800</td>\n",
       "      <td>2018-04-30 04:22:40 +0800</td>\n",
       "      <td>2018-04-30 04:23:45 +0800</td>\n",
       "      <td>12.5996</td>\n",
       "    </tr>\n",
       "    <tr>\n",
       "      <th>1212</th>\n",
       "      <td>Mark’s Apple Watch</td>\n",
       "      <td>4.3</td>\n",
       "      <td>&lt;&lt;HKDevice: 0x1c0684920&gt;, name:Apple Watch, ma...</td>\n",
       "      <td>HeartRateVariabilitySDNN</td>\n",
       "      <td>ms</td>\n",
       "      <td>2018-04-30 06:23:48 +0800</td>\n",
       "      <td>2018-04-30 06:22:47 +0800</td>\n",
       "      <td>2018-04-30 06:23:48 +0800</td>\n",
       "      <td>32.7910</td>\n",
       "    </tr>\n",
       "    <tr>\n",
       "      <th>1213</th>\n",
       "      <td>Mark’s Apple Watch</td>\n",
       "      <td>4.3</td>\n",
       "      <td>&lt;&lt;HKDevice: 0x1c0c9a5e0&gt;, name:Apple Watch, ma...</td>\n",
       "      <td>HeartRateVariabilitySDNN</td>\n",
       "      <td>ms</td>\n",
       "      <td>2018-04-30 08:24:10 +0800</td>\n",
       "      <td>2018-04-30 08:23:05 +0800</td>\n",
       "      <td>2018-04-30 08:24:10 +0800</td>\n",
       "      <td>22.8008</td>\n",
       "    </tr>\n",
       "    <tr>\n",
       "      <th>1214</th>\n",
       "      <td>Mark’s Apple Watch</td>\n",
       "      <td>4.3</td>\n",
       "      <td>&lt;&lt;HKDevice: 0x1c06932e0&gt;, name:Apple Watch, ma...</td>\n",
       "      <td>HeartRateVariabilitySDNN</td>\n",
       "      <td>ms</td>\n",
       "      <td>2018-04-30 12:37:02 +0800</td>\n",
       "      <td>2018-04-30 12:35:57 +0800</td>\n",
       "      <td>2018-04-30 12:37:02 +0800</td>\n",
       "      <td>110.7040</td>\n",
       "    </tr>\n",
       "    <tr>\n",
       "      <th>1215</th>\n",
       "      <td>Mark’s Apple Watch</td>\n",
       "      <td>4.3</td>\n",
       "      <td>&lt;&lt;HKDevice: 0x1c0697c00&gt;, name:Apple Watch, ma...</td>\n",
       "      <td>HeartRateVariabilitySDNN</td>\n",
       "      <td>ms</td>\n",
       "      <td>2018-04-30 17:20:02 +0800</td>\n",
       "      <td>2018-04-30 17:18:57 +0800</td>\n",
       "      <td>2018-04-30 17:20:01 +0800</td>\n",
       "      <td>37.1214</td>\n",
       "    </tr>\n",
       "  </tbody>\n",
       "</table>\n",
       "</div>"
      ],
      "text/plain": [
       "              sourceName  sourceVersion  \\\n",
       "1211  Mark’s Apple Watch            4.3   \n",
       "1212  Mark’s Apple Watch            4.3   \n",
       "1213  Mark’s Apple Watch            4.3   \n",
       "1214  Mark’s Apple Watch            4.3   \n",
       "1215  Mark’s Apple Watch            4.3   \n",
       "\n",
       "                                                 device  \\\n",
       "1211  <<HKDevice: 0x1c0c8dc50>, name:Apple Watch, ma...   \n",
       "1212  <<HKDevice: 0x1c0684920>, name:Apple Watch, ma...   \n",
       "1213  <<HKDevice: 0x1c0c9a5e0>, name:Apple Watch, ma...   \n",
       "1214  <<HKDevice: 0x1c06932e0>, name:Apple Watch, ma...   \n",
       "1215  <<HKDevice: 0x1c0697c00>, name:Apple Watch, ma...   \n",
       "\n",
       "                          type unit               creationDate  \\\n",
       "1211  HeartRateVariabilitySDNN   ms  2018-04-30 04:23:46 +0800   \n",
       "1212  HeartRateVariabilitySDNN   ms  2018-04-30 06:23:48 +0800   \n",
       "1213  HeartRateVariabilitySDNN   ms  2018-04-30 08:24:10 +0800   \n",
       "1214  HeartRateVariabilitySDNN   ms  2018-04-30 12:37:02 +0800   \n",
       "1215  HeartRateVariabilitySDNN   ms  2018-04-30 17:20:02 +0800   \n",
       "\n",
       "                      startDate                    endDate     value  \n",
       "1211  2018-04-30 04:22:40 +0800  2018-04-30 04:23:45 +0800   12.5996  \n",
       "1212  2018-04-30 06:22:47 +0800  2018-04-30 06:23:48 +0800   32.7910  \n",
       "1213  2018-04-30 08:23:05 +0800  2018-04-30 08:24:10 +0800   22.8008  \n",
       "1214  2018-04-30 12:35:57 +0800  2018-04-30 12:37:02 +0800  110.7040  \n",
       "1215  2018-04-30 17:18:57 +0800  2018-04-30 17:20:01 +0800   37.1214  "
      ]
     },
     "execution_count": 27,
     "metadata": {},
     "output_type": "execute_result"
    }
   ],
   "source": [
    "hrv.tail()"
   ]
  },
  {
   "cell_type": "markdown",
   "metadata": {},
   "source": [
    "-------"
   ]
  },
  {
   "cell_type": "markdown",
   "metadata": {},
   "source": [
    "## VO2 Max"
   ]
  },
  {
   "cell_type": "code",
   "execution_count": 28,
   "metadata": {
    "collapsed": true
   },
   "outputs": [],
   "source": [
    "vo2max = pd.read_csv(\"data/VO2Max.csv\")"
   ]
  },
  {
   "cell_type": "code",
   "execution_count": 29,
   "metadata": {},
   "outputs": [
    {
     "data": {
      "text/plain": [
       "143"
      ]
     },
     "execution_count": 29,
     "metadata": {},
     "output_type": "execute_result"
    }
   ],
   "source": [
    "len(vo2max)"
   ]
  },
  {
   "cell_type": "code",
   "execution_count": 30,
   "metadata": {},
   "outputs": [
    {
     "data": {
      "text/html": [
       "<div>\n",
       "<style>\n",
       "    .dataframe thead tr:only-child th {\n",
       "        text-align: right;\n",
       "    }\n",
       "\n",
       "    .dataframe thead th {\n",
       "        text-align: left;\n",
       "    }\n",
       "\n",
       "    .dataframe tbody tr th {\n",
       "        vertical-align: top;\n",
       "    }\n",
       "</style>\n",
       "<table border=\"1\" class=\"dataframe\">\n",
       "  <thead>\n",
       "    <tr style=\"text-align: right;\">\n",
       "      <th></th>\n",
       "      <th>sourceVersion</th>\n",
       "      <th>device</th>\n",
       "      <th>value</th>\n",
       "    </tr>\n",
       "  </thead>\n",
       "  <tbody>\n",
       "    <tr>\n",
       "      <th>count</th>\n",
       "      <td>0.0</td>\n",
       "      <td>0.0</td>\n",
       "      <td>143.000000</td>\n",
       "    </tr>\n",
       "    <tr>\n",
       "      <th>mean</th>\n",
       "      <td>NaN</td>\n",
       "      <td>NaN</td>\n",
       "      <td>51.085681</td>\n",
       "    </tr>\n",
       "    <tr>\n",
       "      <th>std</th>\n",
       "      <td>NaN</td>\n",
       "      <td>NaN</td>\n",
       "      <td>1.900692</td>\n",
       "    </tr>\n",
       "    <tr>\n",
       "      <th>min</th>\n",
       "      <td>NaN</td>\n",
       "      <td>NaN</td>\n",
       "      <td>48.008400</td>\n",
       "    </tr>\n",
       "    <tr>\n",
       "      <th>25%</th>\n",
       "      <td>NaN</td>\n",
       "      <td>NaN</td>\n",
       "      <td>49.364600</td>\n",
       "    </tr>\n",
       "    <tr>\n",
       "      <th>50%</th>\n",
       "      <td>NaN</td>\n",
       "      <td>NaN</td>\n",
       "      <td>51.098600</td>\n",
       "    </tr>\n",
       "    <tr>\n",
       "      <th>75%</th>\n",
       "      <td>NaN</td>\n",
       "      <td>NaN</td>\n",
       "      <td>52.350500</td>\n",
       "    </tr>\n",
       "    <tr>\n",
       "      <th>max</th>\n",
       "      <td>NaN</td>\n",
       "      <td>NaN</td>\n",
       "      <td>55.097800</td>\n",
       "    </tr>\n",
       "  </tbody>\n",
       "</table>\n",
       "</div>"
      ],
      "text/plain": [
       "       sourceVersion  device       value\n",
       "count            0.0     0.0  143.000000\n",
       "mean             NaN     NaN   51.085681\n",
       "std              NaN     NaN    1.900692\n",
       "min              NaN     NaN   48.008400\n",
       "25%              NaN     NaN   49.364600\n",
       "50%              NaN     NaN   51.098600\n",
       "75%              NaN     NaN   52.350500\n",
       "max              NaN     NaN   55.097800"
      ]
     },
     "execution_count": 30,
     "metadata": {},
     "output_type": "execute_result"
    }
   ],
   "source": [
    "vo2max.describe()"
   ]
  },
  {
   "cell_type": "markdown",
   "metadata": {},
   "source": [
    "----"
   ]
  },
  {
   "cell_type": "markdown",
   "metadata": {},
   "source": [
    "## Blood Pressure"
   ]
  },
  {
   "cell_type": "code",
   "execution_count": 31,
   "metadata": {
    "collapsed": true
   },
   "outputs": [],
   "source": [
    "diastolic = pd.read_csv(\"data/BloodPressureDiastolic.csv\")\n",
    "systolic = pd.read_csv(\"data/BloodPressureSystolic.csv\")"
   ]
  },
  {
   "cell_type": "code",
   "execution_count": 32,
   "metadata": {},
   "outputs": [
    {
     "data": {
      "text/html": [
       "<div>\n",
       "<style>\n",
       "    .dataframe thead tr:only-child th {\n",
       "        text-align: right;\n",
       "    }\n",
       "\n",
       "    .dataframe thead th {\n",
       "        text-align: left;\n",
       "    }\n",
       "\n",
       "    .dataframe tbody tr th {\n",
       "        vertical-align: top;\n",
       "    }\n",
       "</style>\n",
       "<table border=\"1\" class=\"dataframe\">\n",
       "  <thead>\n",
       "    <tr style=\"text-align: right;\">\n",
       "      <th></th>\n",
       "      <th>device</th>\n",
       "      <th>value</th>\n",
       "    </tr>\n",
       "  </thead>\n",
       "  <tbody>\n",
       "    <tr>\n",
       "      <th>count</th>\n",
       "      <td>0.0</td>\n",
       "      <td>29.000000</td>\n",
       "    </tr>\n",
       "    <tr>\n",
       "      <th>mean</th>\n",
       "      <td>NaN</td>\n",
       "      <td>65.586207</td>\n",
       "    </tr>\n",
       "    <tr>\n",
       "      <th>std</th>\n",
       "      <td>NaN</td>\n",
       "      <td>5.081600</td>\n",
       "    </tr>\n",
       "    <tr>\n",
       "      <th>min</th>\n",
       "      <td>NaN</td>\n",
       "      <td>55.000000</td>\n",
       "    </tr>\n",
       "    <tr>\n",
       "      <th>25%</th>\n",
       "      <td>NaN</td>\n",
       "      <td>63.000000</td>\n",
       "    </tr>\n",
       "    <tr>\n",
       "      <th>50%</th>\n",
       "      <td>NaN</td>\n",
       "      <td>67.000000</td>\n",
       "    </tr>\n",
       "    <tr>\n",
       "      <th>75%</th>\n",
       "      <td>NaN</td>\n",
       "      <td>69.000000</td>\n",
       "    </tr>\n",
       "    <tr>\n",
       "      <th>max</th>\n",
       "      <td>NaN</td>\n",
       "      <td>76.000000</td>\n",
       "    </tr>\n",
       "  </tbody>\n",
       "</table>\n",
       "</div>"
      ],
      "text/plain": [
       "       device      value\n",
       "count     0.0  29.000000\n",
       "mean      NaN  65.586207\n",
       "std       NaN   5.081600\n",
       "min       NaN  55.000000\n",
       "25%       NaN  63.000000\n",
       "50%       NaN  67.000000\n",
       "75%       NaN  69.000000\n",
       "max       NaN  76.000000"
      ]
     },
     "execution_count": 32,
     "metadata": {},
     "output_type": "execute_result"
    }
   ],
   "source": [
    "diastolic.describe()"
   ]
  },
  {
   "cell_type": "code",
   "execution_count": 33,
   "metadata": {},
   "outputs": [
    {
     "data": {
      "text/html": [
       "<div>\n",
       "<style>\n",
       "    .dataframe thead tr:only-child th {\n",
       "        text-align: right;\n",
       "    }\n",
       "\n",
       "    .dataframe thead th {\n",
       "        text-align: left;\n",
       "    }\n",
       "\n",
       "    .dataframe tbody tr th {\n",
       "        vertical-align: top;\n",
       "    }\n",
       "</style>\n",
       "<table border=\"1\" class=\"dataframe\">\n",
       "  <thead>\n",
       "    <tr style=\"text-align: right;\">\n",
       "      <th></th>\n",
       "      <th>device</th>\n",
       "      <th>value</th>\n",
       "    </tr>\n",
       "  </thead>\n",
       "  <tbody>\n",
       "    <tr>\n",
       "      <th>count</th>\n",
       "      <td>0.0</td>\n",
       "      <td>29.000000</td>\n",
       "    </tr>\n",
       "    <tr>\n",
       "      <th>mean</th>\n",
       "      <td>NaN</td>\n",
       "      <td>113.206897</td>\n",
       "    </tr>\n",
       "    <tr>\n",
       "      <th>std</th>\n",
       "      <td>NaN</td>\n",
       "      <td>8.973689</td>\n",
       "    </tr>\n",
       "    <tr>\n",
       "      <th>min</th>\n",
       "      <td>NaN</td>\n",
       "      <td>95.000000</td>\n",
       "    </tr>\n",
       "    <tr>\n",
       "      <th>25%</th>\n",
       "      <td>NaN</td>\n",
       "      <td>106.000000</td>\n",
       "    </tr>\n",
       "    <tr>\n",
       "      <th>50%</th>\n",
       "      <td>NaN</td>\n",
       "      <td>112.000000</td>\n",
       "    </tr>\n",
       "    <tr>\n",
       "      <th>75%</th>\n",
       "      <td>NaN</td>\n",
       "      <td>122.000000</td>\n",
       "    </tr>\n",
       "    <tr>\n",
       "      <th>max</th>\n",
       "      <td>NaN</td>\n",
       "      <td>128.000000</td>\n",
       "    </tr>\n",
       "  </tbody>\n",
       "</table>\n",
       "</div>"
      ],
      "text/plain": [
       "       device       value\n",
       "count     0.0   29.000000\n",
       "mean      NaN  113.206897\n",
       "std       NaN    8.973689\n",
       "min       NaN   95.000000\n",
       "25%       NaN  106.000000\n",
       "50%       NaN  112.000000\n",
       "75%       NaN  122.000000\n",
       "max       NaN  128.000000"
      ]
     },
     "execution_count": 33,
     "metadata": {},
     "output_type": "execute_result"
    }
   ],
   "source": [
    "systolic.describe()"
   ]
  },
  {
   "cell_type": "markdown",
   "metadata": {},
   "source": [
    "------"
   ]
  },
  {
   "cell_type": "markdown",
   "metadata": {},
   "source": [
    "## Sleep"
   ]
  },
  {
   "cell_type": "code",
   "execution_count": 34,
   "metadata": {
    "collapsed": true
   },
   "outputs": [],
   "source": [
    "sleep = pd.read_csv(\"data/SleepAnalysis.csv\")"
   ]
  },
  {
   "cell_type": "code",
   "execution_count": 35,
   "metadata": {},
   "outputs": [
    {
     "data": {
      "text/html": [
       "<div>\n",
       "<style>\n",
       "    .dataframe thead tr:only-child th {\n",
       "        text-align: right;\n",
       "    }\n",
       "\n",
       "    .dataframe thead th {\n",
       "        text-align: left;\n",
       "    }\n",
       "\n",
       "    .dataframe tbody tr th {\n",
       "        vertical-align: top;\n",
       "    }\n",
       "</style>\n",
       "<table border=\"1\" class=\"dataframe\">\n",
       "  <thead>\n",
       "    <tr style=\"text-align: right;\">\n",
       "      <th></th>\n",
       "      <th>sourceName</th>\n",
       "      <th>sourceVersion</th>\n",
       "      <th>device</th>\n",
       "      <th>type</th>\n",
       "      <th>unit</th>\n",
       "      <th>creationDate</th>\n",
       "      <th>startDate</th>\n",
       "      <th>endDate</th>\n",
       "      <th>value</th>\n",
       "    </tr>\n",
       "  </thead>\n",
       "  <tbody>\n",
       "    <tr>\n",
       "      <th>1807</th>\n",
       "      <td>AutoSleep</td>\n",
       "      <td>5.1.20</td>\n",
       "      <td>NaN</td>\n",
       "      <td>SleepAnalysis</td>\n",
       "      <td>NaN</td>\n",
       "      <td>2018-04-28 11:34:16 +0800</td>\n",
       "      <td>2018-04-28 10:23:00 +0800</td>\n",
       "      <td>2018-04-28 10:47:00 +0800</td>\n",
       "      <td>HKCategoryValueSleepAnalysisAsleep</td>\n",
       "    </tr>\n",
       "    <tr>\n",
       "      <th>1808</th>\n",
       "      <td>AutoSleep</td>\n",
       "      <td>5.1.20</td>\n",
       "      <td>NaN</td>\n",
       "      <td>SleepAnalysis</td>\n",
       "      <td>NaN</td>\n",
       "      <td>2018-04-29 08:17:12 +0800</td>\n",
       "      <td>2018-04-29 00:27:00 +0800</td>\n",
       "      <td>2018-04-29 08:12:00 +0800</td>\n",
       "      <td>HKCategoryValueSleepAnalysisInBed</td>\n",
       "    </tr>\n",
       "    <tr>\n",
       "      <th>1809</th>\n",
       "      <td>AutoSleep</td>\n",
       "      <td>5.1.20</td>\n",
       "      <td>NaN</td>\n",
       "      <td>SleepAnalysis</td>\n",
       "      <td>NaN</td>\n",
       "      <td>2018-04-29 08:17:12 +0800</td>\n",
       "      <td>2018-04-29 00:27:00 +0800</td>\n",
       "      <td>2018-04-29 08:12:00 +0800</td>\n",
       "      <td>HKCategoryValueSleepAnalysisAsleep</td>\n",
       "    </tr>\n",
       "    <tr>\n",
       "      <th>1810</th>\n",
       "      <td>AutoSleep</td>\n",
       "      <td>5.1.20</td>\n",
       "      <td>NaN</td>\n",
       "      <td>SleepAnalysis</td>\n",
       "      <td>NaN</td>\n",
       "      <td>2018-04-30 10:04:58 +0800</td>\n",
       "      <td>2018-04-30 00:45:00 +0800</td>\n",
       "      <td>2018-04-30 08:43:00 +0800</td>\n",
       "      <td>HKCategoryValueSleepAnalysisInBed</td>\n",
       "    </tr>\n",
       "    <tr>\n",
       "      <th>1811</th>\n",
       "      <td>AutoSleep</td>\n",
       "      <td>5.1.20</td>\n",
       "      <td>NaN</td>\n",
       "      <td>SleepAnalysis</td>\n",
       "      <td>NaN</td>\n",
       "      <td>2018-04-30 10:04:58 +0800</td>\n",
       "      <td>2018-04-30 00:45:00 +0800</td>\n",
       "      <td>2018-04-30 08:43:00 +0800</td>\n",
       "      <td>HKCategoryValueSleepAnalysisAsleep</td>\n",
       "    </tr>\n",
       "  </tbody>\n",
       "</table>\n",
       "</div>"
      ],
      "text/plain": [
       "     sourceName sourceVersion  device           type  unit  \\\n",
       "1807  AutoSleep        5.1.20     NaN  SleepAnalysis   NaN   \n",
       "1808  AutoSleep        5.1.20     NaN  SleepAnalysis   NaN   \n",
       "1809  AutoSleep        5.1.20     NaN  SleepAnalysis   NaN   \n",
       "1810  AutoSleep        5.1.20     NaN  SleepAnalysis   NaN   \n",
       "1811  AutoSleep        5.1.20     NaN  SleepAnalysis   NaN   \n",
       "\n",
       "                   creationDate                  startDate  \\\n",
       "1807  2018-04-28 11:34:16 +0800  2018-04-28 10:23:00 +0800   \n",
       "1808  2018-04-29 08:17:12 +0800  2018-04-29 00:27:00 +0800   \n",
       "1809  2018-04-29 08:17:12 +0800  2018-04-29 00:27:00 +0800   \n",
       "1810  2018-04-30 10:04:58 +0800  2018-04-30 00:45:00 +0800   \n",
       "1811  2018-04-30 10:04:58 +0800  2018-04-30 00:45:00 +0800   \n",
       "\n",
       "                        endDate                               value  \n",
       "1807  2018-04-28 10:47:00 +0800  HKCategoryValueSleepAnalysisAsleep  \n",
       "1808  2018-04-29 08:12:00 +0800   HKCategoryValueSleepAnalysisInBed  \n",
       "1809  2018-04-29 08:12:00 +0800  HKCategoryValueSleepAnalysisAsleep  \n",
       "1810  2018-04-30 08:43:00 +0800   HKCategoryValueSleepAnalysisInBed  \n",
       "1811  2018-04-30 08:43:00 +0800  HKCategoryValueSleepAnalysisAsleep  "
      ]
     },
     "execution_count": 35,
     "metadata": {},
     "output_type": "execute_result"
    }
   ],
   "source": [
    "sleep.tail()"
   ]
  },
  {
   "cell_type": "code",
   "execution_count": 36,
   "metadata": {},
   "outputs": [
    {
     "data": {
      "text/html": [
       "<div>\n",
       "<style>\n",
       "    .dataframe thead tr:only-child th {\n",
       "        text-align: right;\n",
       "    }\n",
       "\n",
       "    .dataframe thead th {\n",
       "        text-align: left;\n",
       "    }\n",
       "\n",
       "    .dataframe tbody tr th {\n",
       "        vertical-align: top;\n",
       "    }\n",
       "</style>\n",
       "<table border=\"1\" class=\"dataframe\">\n",
       "  <thead>\n",
       "    <tr style=\"text-align: right;\">\n",
       "      <th></th>\n",
       "      <th>device</th>\n",
       "      <th>unit</th>\n",
       "    </tr>\n",
       "  </thead>\n",
       "  <tbody>\n",
       "    <tr>\n",
       "      <th>count</th>\n",
       "      <td>0.0</td>\n",
       "      <td>0.0</td>\n",
       "    </tr>\n",
       "    <tr>\n",
       "      <th>mean</th>\n",
       "      <td>NaN</td>\n",
       "      <td>NaN</td>\n",
       "    </tr>\n",
       "    <tr>\n",
       "      <th>std</th>\n",
       "      <td>NaN</td>\n",
       "      <td>NaN</td>\n",
       "    </tr>\n",
       "    <tr>\n",
       "      <th>min</th>\n",
       "      <td>NaN</td>\n",
       "      <td>NaN</td>\n",
       "    </tr>\n",
       "    <tr>\n",
       "      <th>25%</th>\n",
       "      <td>NaN</td>\n",
       "      <td>NaN</td>\n",
       "    </tr>\n",
       "    <tr>\n",
       "      <th>50%</th>\n",
       "      <td>NaN</td>\n",
       "      <td>NaN</td>\n",
       "    </tr>\n",
       "    <tr>\n",
       "      <th>75%</th>\n",
       "      <td>NaN</td>\n",
       "      <td>NaN</td>\n",
       "    </tr>\n",
       "    <tr>\n",
       "      <th>max</th>\n",
       "      <td>NaN</td>\n",
       "      <td>NaN</td>\n",
       "    </tr>\n",
       "  </tbody>\n",
       "</table>\n",
       "</div>"
      ],
      "text/plain": [
       "       device  unit\n",
       "count     0.0   0.0\n",
       "mean      NaN   NaN\n",
       "std       NaN   NaN\n",
       "min       NaN   NaN\n",
       "25%       NaN   NaN\n",
       "50%       NaN   NaN\n",
       "75%       NaN   NaN\n",
       "max       NaN   NaN"
      ]
     },
     "execution_count": 36,
     "metadata": {},
     "output_type": "execute_result"
    }
   ],
   "source": [
    "sleep.describe()"
   ]
  },
  {
   "cell_type": "code",
   "execution_count": null,
   "metadata": {
    "collapsed": true
   },
   "outputs": [],
   "source": []
  }
 ],
 "metadata": {
  "kernelspec": {
   "display_name": "Python 3",
   "language": "python",
   "name": "python3"
  },
  "language_info": {
   "codemirror_mode": {
    "name": "ipython",
    "version": 3
   },
   "file_extension": ".py",
   "mimetype": "text/x-python",
   "name": "python",
   "nbconvert_exporter": "python",
   "pygments_lexer": "ipython3",
   "version": "3.6.0"
  }
 },
 "nbformat": 4,
 "nbformat_minor": 2
}
